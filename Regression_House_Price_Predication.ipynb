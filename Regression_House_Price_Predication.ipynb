{
 "cells": [
  {
   "attachments": {},
   "cell_type": "markdown",
   "metadata": {
    "id": "gUyXrtPZiXx1"
   },
   "source": [
    "# House Price Predicition project "
   ]
  },
  {
   "attachments": {},
   "cell_type": "markdown",
   "metadata": {
    "id": "msEZCTNki9m0"
   },
   "source": [
    "#### Data Description\n",
    "\n",
    "There are 81 Variables given house property and the predicted variable is in the last Sales price of the house.\n",
    "\n",
    "\n",
    "Some numerical variables in the dataset included are -\n",
    "\n",
    "SalesPrice: This variable represents the sales price of the house\n",
    "\n",
    "LotArea: This variable represents the size of a lot in square feet\n",
    "\n",
    "OverallQual: This variable represents rates of the overall material and finish of the house\n",
    "\n",
    "OverallCond: This variable represents rates of the overall conditions of the house\n",
    "\n",
    "1stFirSF: This variable represents the first floor in square feet\n",
    "\n",
    "2ndFirSF: This variable represents the second floor in square feet\n",
    "\n",
    "BedroomAbvGr: This variable represents bedrooms above grade (does not include basement bedrooms)\n",
    "\n",
    "YearBuilt: This variable represents the original construction date (this is not technically a numerical variable, but we will use it to produce another variable called Age )\n",
    " "
   ]
  },
  {
   "attachments": {},
   "cell_type": "markdown",
   "metadata": {},
   "source": [
    "\n",
    "Some categorical variables are –\n",
    "\n",
    "MSZoning: This variable identifies the general zoning classification of the sale\n",
    "\n",
    "LotShape: This variable represents the general shape of the property\n",
    "\n",
    "Neighborhood: This variable represents physical locations within Ames city limits\n",
    "\n",
    "CentralAir: This variable represents central air conditioning\n",
    "\n",
    "SaleCondition: This variable represents condition of sale\n",
    "\n",
    "MoSold: This variable represents month sold (MM)\n",
    "\n",
    "YrSold: This variable represents year sold (YYYY)"
   ]
  },
  {
   "attachments": {},
   "cell_type": "markdown",
   "metadata": {},
   "source": [
    "\n",
    "#### Aim\n",
    "\n",
    "To predict the sale prices of the houses and improve the log error i.e. the error due to the difference between the actual and the predicted home values."
   ]
  },
  {
   "attachments": {},
   "cell_type": "markdown",
   "metadata": {
    "id": "TunqXhCujTsn"
   },
   "source": [
    "# Step 1 - Load the dataset and read it"
   ]
  },
  {
   "cell_type": "code",
   "execution_count": 8,
   "metadata": {},
   "outputs": [
    {
     "name": "stdout",
     "output_type": "stream",
     "text": [
      "Requirement already satisfied: seaborn in c:\\users\\siddh\\anaconda3\\envs\\rstudio-_1\\lib\\site-packages (0.12.2)\n",
      "Requirement already satisfied: matplotlib!=3.6.1,>=3.1 in c:\\users\\siddh\\anaconda3\\envs\\rstudio-_1\\lib\\site-packages (from seaborn) (3.5.3)\n",
      "Requirement already satisfied: pandas>=0.25 in c:\\users\\siddh\\anaconda3\\envs\\rstudio-_1\\lib\\site-packages (from seaborn) (1.3.5)\n",
      "Requirement already satisfied: numpy!=1.24.0,>=1.17 in c:\\users\\siddh\\anaconda3\\envs\\rstudio-_1\\lib\\site-packages (from seaborn) (1.21.6)\n",
      "Requirement already satisfied: typing_extensions in c:\\users\\siddh\\anaconda3\\envs\\rstudio-_1\\lib\\site-packages (from seaborn) (4.3.0)\n",
      "Requirement already satisfied: packaging>=20.0 in c:\\users\\siddh\\anaconda3\\envs\\rstudio-_1\\lib\\site-packages (from matplotlib!=3.6.1,>=3.1->seaborn) (21.3)\n",
      "Requirement already satisfied: python-dateutil>=2.7 in c:\\users\\siddh\\anaconda3\\envs\\rstudio-_1\\lib\\site-packages (from matplotlib!=3.6.1,>=3.1->seaborn) (2.8.2)\n",
      "Requirement already satisfied: pyparsing>=2.2.1 in c:\\users\\siddh\\anaconda3\\envs\\rstudio-_1\\lib\\site-packages (from matplotlib!=3.6.1,>=3.1->seaborn) (3.0.9)\n",
      "Requirement already satisfied: cycler>=0.10 in c:\\users\\siddh\\anaconda3\\envs\\rstudio-_1\\lib\\site-packages (from matplotlib!=3.6.1,>=3.1->seaborn) (0.11.0)\n",
      "Requirement already satisfied: fonttools>=4.22.0 in c:\\users\\siddh\\anaconda3\\envs\\rstudio-_1\\lib\\site-packages (from matplotlib!=3.6.1,>=3.1->seaborn) (4.38.0)\n",
      "Requirement already satisfied: kiwisolver>=1.0.1 in c:\\users\\siddh\\anaconda3\\envs\\rstudio-_1\\lib\\site-packages (from matplotlib!=3.6.1,>=3.1->seaborn) (1.4.4)\n",
      "Requirement already satisfied: pillow>=6.2.0 in c:\\users\\siddh\\anaconda3\\envs\\rstudio-_1\\lib\\site-packages (from matplotlib!=3.6.1,>=3.1->seaborn) (9.5.0)\n",
      "Requirement already satisfied: pytz>=2017.3 in c:\\users\\siddh\\anaconda3\\envs\\rstudio-_1\\lib\\site-packages (from pandas>=0.25->seaborn) (2022.6)\n",
      "Requirement already satisfied: six>=1.5 in c:\\users\\siddh\\anaconda3\\envs\\rstudio-_1\\lib\\site-packages (from python-dateutil>=2.7->matplotlib!=3.6.1,>=3.1->seaborn) (1.16.0)\n"
     ]
    }
   ],
   "source": [
    "!pip install seaborn"
   ]
  },
  {
   "cell_type": "code",
   "execution_count": 9,
   "metadata": {},
   "outputs": [],
   "source": [
    "# import libraries \n",
    "\n",
    "import pandas as pd\n",
    "import numpy as np\n",
    "import seaborn as sns\n",
    "import matplotlib.pyplot as plt"
   ]
  },
  {
   "cell_type": "code",
   "execution_count": 10,
   "metadata": {
    "id": "i5MiwmrrjXOh"
   },
   "outputs": [],
   "source": [
    "# Read the data\n",
    "\n",
    "def read_file(filepath):\n",
    "    data = pd.read_csv(filepath)\n",
    "    return data"
   ]
  },
  {
   "cell_type": "code",
   "execution_count": 11,
   "metadata": {},
   "outputs": [
    {
     "data": {
      "text/plain": [
       "(1460, 81)"
      ]
     },
     "execution_count": 11,
     "metadata": {},
     "output_type": "execute_result"
    }
   ],
   "source": [
    "train_data = read_file(\"data/housing_train.csv\")\n",
    "train_data.shape"
   ]
  },
  {
   "cell_type": "code",
   "execution_count": 12,
   "metadata": {},
   "outputs": [
    {
     "data": {
      "text/html": [
       "<div>\n",
       "<style scoped>\n",
       "    .dataframe tbody tr th:only-of-type {\n",
       "        vertical-align: middle;\n",
       "    }\n",
       "\n",
       "    .dataframe tbody tr th {\n",
       "        vertical-align: top;\n",
       "    }\n",
       "\n",
       "    .dataframe thead th {\n",
       "        text-align: right;\n",
       "    }\n",
       "</style>\n",
       "<table border=\"1\" class=\"dataframe\">\n",
       "  <thead>\n",
       "    <tr style=\"text-align: right;\">\n",
       "      <th></th>\n",
       "      <th>Id</th>\n",
       "      <th>MSSubClass</th>\n",
       "      <th>MSZoning</th>\n",
       "      <th>LotFrontage</th>\n",
       "      <th>LotArea</th>\n",
       "      <th>Street</th>\n",
       "      <th>Alley</th>\n",
       "      <th>LotShape</th>\n",
       "      <th>LandContour</th>\n",
       "      <th>Utilities</th>\n",
       "      <th>...</th>\n",
       "      <th>PoolArea</th>\n",
       "      <th>PoolQC</th>\n",
       "      <th>Fence</th>\n",
       "      <th>MiscFeature</th>\n",
       "      <th>MiscVal</th>\n",
       "      <th>MoSold</th>\n",
       "      <th>YrSold</th>\n",
       "      <th>SaleType</th>\n",
       "      <th>SaleCondition</th>\n",
       "      <th>SalePrice</th>\n",
       "    </tr>\n",
       "  </thead>\n",
       "  <tbody>\n",
       "    <tr>\n",
       "      <th>0</th>\n",
       "      <td>1</td>\n",
       "      <td>60</td>\n",
       "      <td>RL</td>\n",
       "      <td>65.0</td>\n",
       "      <td>8450</td>\n",
       "      <td>Pave</td>\n",
       "      <td>NaN</td>\n",
       "      <td>Reg</td>\n",
       "      <td>Lvl</td>\n",
       "      <td>AllPub</td>\n",
       "      <td>...</td>\n",
       "      <td>0</td>\n",
       "      <td>NaN</td>\n",
       "      <td>NaN</td>\n",
       "      <td>NaN</td>\n",
       "      <td>0</td>\n",
       "      <td>2</td>\n",
       "      <td>2008</td>\n",
       "      <td>WD</td>\n",
       "      <td>Normal</td>\n",
       "      <td>208500</td>\n",
       "    </tr>\n",
       "    <tr>\n",
       "      <th>1</th>\n",
       "      <td>2</td>\n",
       "      <td>20</td>\n",
       "      <td>RL</td>\n",
       "      <td>80.0</td>\n",
       "      <td>9600</td>\n",
       "      <td>Pave</td>\n",
       "      <td>NaN</td>\n",
       "      <td>Reg</td>\n",
       "      <td>Lvl</td>\n",
       "      <td>AllPub</td>\n",
       "      <td>...</td>\n",
       "      <td>0</td>\n",
       "      <td>NaN</td>\n",
       "      <td>NaN</td>\n",
       "      <td>NaN</td>\n",
       "      <td>0</td>\n",
       "      <td>5</td>\n",
       "      <td>2007</td>\n",
       "      <td>WD</td>\n",
       "      <td>Normal</td>\n",
       "      <td>181500</td>\n",
       "    </tr>\n",
       "    <tr>\n",
       "      <th>2</th>\n",
       "      <td>3</td>\n",
       "      <td>60</td>\n",
       "      <td>RL</td>\n",
       "      <td>68.0</td>\n",
       "      <td>11250</td>\n",
       "      <td>Pave</td>\n",
       "      <td>NaN</td>\n",
       "      <td>IR1</td>\n",
       "      <td>Lvl</td>\n",
       "      <td>AllPub</td>\n",
       "      <td>...</td>\n",
       "      <td>0</td>\n",
       "      <td>NaN</td>\n",
       "      <td>NaN</td>\n",
       "      <td>NaN</td>\n",
       "      <td>0</td>\n",
       "      <td>9</td>\n",
       "      <td>2008</td>\n",
       "      <td>WD</td>\n",
       "      <td>Normal</td>\n",
       "      <td>223500</td>\n",
       "    </tr>\n",
       "    <tr>\n",
       "      <th>3</th>\n",
       "      <td>4</td>\n",
       "      <td>70</td>\n",
       "      <td>RL</td>\n",
       "      <td>60.0</td>\n",
       "      <td>9550</td>\n",
       "      <td>Pave</td>\n",
       "      <td>NaN</td>\n",
       "      <td>IR1</td>\n",
       "      <td>Lvl</td>\n",
       "      <td>AllPub</td>\n",
       "      <td>...</td>\n",
       "      <td>0</td>\n",
       "      <td>NaN</td>\n",
       "      <td>NaN</td>\n",
       "      <td>NaN</td>\n",
       "      <td>0</td>\n",
       "      <td>2</td>\n",
       "      <td>2006</td>\n",
       "      <td>WD</td>\n",
       "      <td>Abnorml</td>\n",
       "      <td>140000</td>\n",
       "    </tr>\n",
       "    <tr>\n",
       "      <th>4</th>\n",
       "      <td>5</td>\n",
       "      <td>60</td>\n",
       "      <td>RL</td>\n",
       "      <td>84.0</td>\n",
       "      <td>14260</td>\n",
       "      <td>Pave</td>\n",
       "      <td>NaN</td>\n",
       "      <td>IR1</td>\n",
       "      <td>Lvl</td>\n",
       "      <td>AllPub</td>\n",
       "      <td>...</td>\n",
       "      <td>0</td>\n",
       "      <td>NaN</td>\n",
       "      <td>NaN</td>\n",
       "      <td>NaN</td>\n",
       "      <td>0</td>\n",
       "      <td>12</td>\n",
       "      <td>2008</td>\n",
       "      <td>WD</td>\n",
       "      <td>Normal</td>\n",
       "      <td>250000</td>\n",
       "    </tr>\n",
       "  </tbody>\n",
       "</table>\n",
       "<p>5 rows × 81 columns</p>\n",
       "</div>"
      ],
      "text/plain": [
       "   Id  MSSubClass MSZoning  LotFrontage  LotArea Street Alley LotShape  \\\n",
       "0   1          60       RL         65.0     8450   Pave   NaN      Reg   \n",
       "1   2          20       RL         80.0     9600   Pave   NaN      Reg   \n",
       "2   3          60       RL         68.0    11250   Pave   NaN      IR1   \n",
       "3   4          70       RL         60.0     9550   Pave   NaN      IR1   \n",
       "4   5          60       RL         84.0    14260   Pave   NaN      IR1   \n",
       "\n",
       "  LandContour Utilities  ... PoolArea PoolQC Fence MiscFeature MiscVal MoSold  \\\n",
       "0         Lvl    AllPub  ...        0    NaN   NaN         NaN       0      2   \n",
       "1         Lvl    AllPub  ...        0    NaN   NaN         NaN       0      5   \n",
       "2         Lvl    AllPub  ...        0    NaN   NaN         NaN       0      9   \n",
       "3         Lvl    AllPub  ...        0    NaN   NaN         NaN       0      2   \n",
       "4         Lvl    AllPub  ...        0    NaN   NaN         NaN       0     12   \n",
       "\n",
       "  YrSold  SaleType  SaleCondition  SalePrice  \n",
       "0   2008        WD         Normal     208500  \n",
       "1   2007        WD         Normal     181500  \n",
       "2   2008        WD         Normal     223500  \n",
       "3   2006        WD        Abnorml     140000  \n",
       "4   2008        WD         Normal     250000  \n",
       "\n",
       "[5 rows x 81 columns]"
      ]
     },
     "execution_count": 12,
     "metadata": {},
     "output_type": "execute_result"
    }
   ],
   "source": [
    "train_data.head()"
   ]
  },
  {
   "attachments": {},
   "cell_type": "markdown",
   "metadata": {},
   "source": [
    "# Step 2 - Data Cleaning"
   ]
  },
  {
   "cell_type": "code",
   "execution_count": 13,
   "metadata": {},
   "outputs": [
    {
     "data": {
      "text/plain": [
       "Id                 int64\n",
       "MSSubClass         int64\n",
       "MSZoning          object\n",
       "LotFrontage      float64\n",
       "LotArea            int64\n",
       "                  ...   \n",
       "MoSold             int64\n",
       "YrSold             int64\n",
       "SaleType          object\n",
       "SaleCondition     object\n",
       "SalePrice          int64\n",
       "Length: 81, dtype: object"
      ]
     },
     "execution_count": 13,
     "metadata": {},
     "output_type": "execute_result"
    }
   ],
   "source": [
    "# lets check the datatype\n",
    "train_data.dtypes"
   ]
  },
  {
   "cell_type": "code",
   "execution_count": 14,
   "metadata": {},
   "outputs": [],
   "source": [
    "def unique_val(df):\n",
    "    unique_vals_dict = {}\n",
    "\n",
    "    for column in df.columns:\n",
    "        if df[column].dtype == 'object':\n",
    "            unique_values = df[column].unique()\n",
    "            unique_vals_dict[column] = unique_values\n",
    "\n",
    "    return unique_vals_dict\n"
   ]
  },
  {
   "cell_type": "code",
   "execution_count": 15,
   "metadata": {},
   "outputs": [],
   "source": [
    "def unique_val(df):\n",
    "    unique_vals_dict = {}\n",
    "\n",
    "    for column in df.columns:\n",
    "        unique_values = df[column].unique()\n",
    "        unique_vals_dict[column] = unique_values\n",
    "\n",
    "    return unique_vals_dict"
   ]
  },
  {
   "cell_type": "code",
   "execution_count": 16,
   "metadata": {},
   "outputs": [
    {
     "data": {
      "text/plain": [
       "{'Id': array([   1,    2,    3, ..., 1458, 1459, 1460], dtype=int64),\n",
       " 'MSSubClass': array([ 60,  20,  70,  50, 190,  45,  90, 120,  30,  85,  80, 160,  75,\n",
       "        180,  40], dtype=int64),\n",
       " 'MSZoning': array(['RL', 'RM', 'C (all)', 'FV', 'RH'], dtype=object),\n",
       " 'LotFrontage': array([ 65.,  80.,  68.,  60.,  84.,  85.,  75.,  nan,  51.,  50.,  70.,\n",
       "         91.,  72.,  66., 101.,  57.,  44., 110.,  98.,  47., 108., 112.,\n",
       "         74., 115.,  61.,  48.,  33.,  52., 100.,  24.,  89.,  63.,  76.,\n",
       "         81.,  95.,  69.,  21.,  32.,  78., 121., 122.,  40., 105.,  73.,\n",
       "         77.,  64.,  94.,  34.,  90.,  55.,  88.,  82.,  71., 120., 107.,\n",
       "         92., 134.,  62.,  86., 141.,  97.,  54.,  41.,  79., 174.,  99.,\n",
       "         67.,  83.,  43., 103.,  93.,  30., 129., 140.,  35.,  37., 118.,\n",
       "         87., 116., 150., 111.,  49.,  96.,  59.,  36.,  56., 102.,  58.,\n",
       "         38., 109., 130.,  53., 137.,  45., 106., 104.,  42.,  39., 144.,\n",
       "        114., 128., 149., 313., 168., 182., 138., 160., 152., 124., 153.,\n",
       "         46.]),\n",
       " 'LotArea': array([ 8450,  9600, 11250, ..., 17217, 13175,  9717], dtype=int64),\n",
       " 'Street': array(['Pave', 'Grvl'], dtype=object),\n",
       " 'Alley': array([nan, 'Grvl', 'Pave'], dtype=object),\n",
       " 'LotShape': array(['Reg', 'IR1', 'IR2', 'IR3'], dtype=object),\n",
       " 'LandContour': array(['Lvl', 'Bnk', 'Low', 'HLS'], dtype=object),\n",
       " 'Utilities': array(['AllPub', 'NoSeWa'], dtype=object),\n",
       " 'LotConfig': array(['Inside', 'FR2', 'Corner', 'CulDSac', 'FR3'], dtype=object),\n",
       " 'LandSlope': array(['Gtl', 'Mod', 'Sev'], dtype=object),\n",
       " 'Neighborhood': array(['CollgCr', 'Veenker', 'Crawfor', 'NoRidge', 'Mitchel', 'Somerst',\n",
       "        'NWAmes', 'OldTown', 'BrkSide', 'Sawyer', 'NridgHt', 'NAmes',\n",
       "        'SawyerW', 'IDOTRR', 'MeadowV', 'Edwards', 'Timber', 'Gilbert',\n",
       "        'StoneBr', 'ClearCr', 'NPkVill', 'Blmngtn', 'BrDale', 'SWISU',\n",
       "        'Blueste'], dtype=object),\n",
       " 'Condition1': array(['Norm', 'Feedr', 'PosN', 'Artery', 'RRAe', 'RRNn', 'RRAn', 'PosA',\n",
       "        'RRNe'], dtype=object),\n",
       " 'Condition2': array(['Norm', 'Artery', 'RRNn', 'Feedr', 'PosN', 'PosA', 'RRAn', 'RRAe'],\n",
       "       dtype=object),\n",
       " 'BldgType': array(['1Fam', '2fmCon', 'Duplex', 'TwnhsE', 'Twnhs'], dtype=object),\n",
       " 'HouseStyle': array(['2Story', '1Story', '1.5Fin', '1.5Unf', 'SFoyer', 'SLvl', '2.5Unf',\n",
       "        '2.5Fin'], dtype=object),\n",
       " 'OverallQual': array([ 7,  6,  8,  5,  9,  4, 10,  3,  1,  2], dtype=int64),\n",
       " 'OverallCond': array([5, 8, 6, 7, 4, 2, 3, 9, 1], dtype=int64),\n",
       " 'YearBuilt': array([2003, 1976, 2001, 1915, 2000, 1993, 2004, 1973, 1931, 1939, 1965,\n",
       "        2005, 1962, 2006, 1960, 1929, 1970, 1967, 1958, 1930, 2002, 1968,\n",
       "        2007, 1951, 1957, 1927, 1920, 1966, 1959, 1994, 1954, 1953, 1955,\n",
       "        1983, 1975, 1997, 1934, 1963, 1981, 1964, 1999, 1972, 1921, 1945,\n",
       "        1982, 1998, 1956, 1948, 1910, 1995, 1991, 2009, 1950, 1961, 1977,\n",
       "        1985, 1979, 1885, 1919, 1990, 1969, 1935, 1988, 1971, 1952, 1936,\n",
       "        1923, 1924, 1984, 1926, 1940, 1941, 1987, 1986, 2008, 1908, 1892,\n",
       "        1916, 1932, 1918, 1912, 1947, 1925, 1900, 1980, 1989, 1992, 1949,\n",
       "        1880, 1928, 1978, 1922, 1996, 2010, 1946, 1913, 1937, 1942, 1938,\n",
       "        1974, 1893, 1914, 1906, 1890, 1898, 1904, 1882, 1875, 1911, 1917,\n",
       "        1872, 1905], dtype=int64),\n",
       " 'YearRemodAdd': array([2003, 1976, 2002, 1970, 2000, 1995, 2005, 1973, 1950, 1965, 2006,\n",
       "        1962, 2007, 1960, 2001, 1967, 2004, 2008, 1997, 1959, 1990, 1955,\n",
       "        1983, 1980, 1966, 1963, 1987, 1964, 1972, 1996, 1998, 1989, 1953,\n",
       "        1956, 1968, 1981, 1992, 2009, 1982, 1961, 1993, 1999, 1985, 1979,\n",
       "        1977, 1969, 1958, 1991, 1971, 1952, 1975, 2010, 1984, 1986, 1994,\n",
       "        1988, 1954, 1957, 1951, 1978, 1974], dtype=int64),\n",
       " 'RoofStyle': array(['Gable', 'Hip', 'Gambrel', 'Mansard', 'Flat', 'Shed'], dtype=object),\n",
       " 'RoofMatl': array(['CompShg', 'WdShngl', 'Metal', 'WdShake', 'Membran', 'Tar&Grv',\n",
       "        'Roll', 'ClyTile'], dtype=object),\n",
       " 'Exterior1st': array(['VinylSd', 'MetalSd', 'Wd Sdng', 'HdBoard', 'BrkFace', 'WdShing',\n",
       "        'CemntBd', 'Plywood', 'AsbShng', 'Stucco', 'BrkComm', 'AsphShn',\n",
       "        'Stone', 'ImStucc', 'CBlock'], dtype=object),\n",
       " 'Exterior2nd': array(['VinylSd', 'MetalSd', 'Wd Shng', 'HdBoard', 'Plywood', 'Wd Sdng',\n",
       "        'CmentBd', 'BrkFace', 'Stucco', 'AsbShng', 'Brk Cmn', 'ImStucc',\n",
       "        'AsphShn', 'Stone', 'Other', 'CBlock'], dtype=object),\n",
       " 'MasVnrType': array(['BrkFace', 'None', 'Stone', 'BrkCmn', nan], dtype=object),\n",
       " 'MasVnrArea': array([1.960e+02, 0.000e+00, 1.620e+02, 3.500e+02, 1.860e+02, 2.400e+02,\n",
       "        2.860e+02, 3.060e+02, 2.120e+02, 1.800e+02, 3.800e+02, 2.810e+02,\n",
       "        6.400e+02, 2.000e+02, 2.460e+02, 1.320e+02, 6.500e+02, 1.010e+02,\n",
       "        4.120e+02, 2.720e+02, 4.560e+02, 1.031e+03, 1.780e+02, 5.730e+02,\n",
       "        3.440e+02, 2.870e+02, 1.670e+02, 1.115e+03, 4.000e+01, 1.040e+02,\n",
       "        5.760e+02, 4.430e+02, 4.680e+02, 6.600e+01, 2.200e+01, 2.840e+02,\n",
       "        7.600e+01, 2.030e+02, 6.800e+01, 1.830e+02, 4.800e+01, 2.800e+01,\n",
       "        3.360e+02, 6.000e+02, 7.680e+02, 4.800e+02, 2.200e+02, 1.840e+02,\n",
       "        1.129e+03, 1.160e+02, 1.350e+02, 2.660e+02, 8.500e+01, 3.090e+02,\n",
       "        1.360e+02, 2.880e+02, 7.000e+01, 3.200e+02, 5.000e+01, 1.200e+02,\n",
       "        4.360e+02, 2.520e+02, 8.400e+01, 6.640e+02, 2.260e+02, 3.000e+02,\n",
       "        6.530e+02, 1.120e+02, 4.910e+02, 2.680e+02, 7.480e+02, 9.800e+01,\n",
       "        2.750e+02, 1.380e+02, 2.050e+02, 2.620e+02, 1.280e+02, 2.600e+02,\n",
       "        1.530e+02, 6.400e+01, 3.120e+02, 1.600e+01, 9.220e+02, 1.420e+02,\n",
       "        2.900e+02, 1.270e+02, 5.060e+02, 2.970e+02,       nan, 6.040e+02,\n",
       "        2.540e+02, 3.600e+01, 1.020e+02, 4.720e+02, 4.810e+02, 1.080e+02,\n",
       "        3.020e+02, 1.720e+02, 3.990e+02, 2.700e+02, 4.600e+01, 2.100e+02,\n",
       "        1.740e+02, 3.480e+02, 3.150e+02, 2.990e+02, 3.400e+02, 1.660e+02,\n",
       "        7.200e+01, 3.100e+01, 3.400e+01, 2.380e+02, 1.600e+03, 3.650e+02,\n",
       "        5.600e+01, 1.500e+02, 2.780e+02, 2.560e+02, 2.250e+02, 3.700e+02,\n",
       "        3.880e+02, 1.750e+02, 2.960e+02, 1.460e+02, 1.130e+02, 1.760e+02,\n",
       "        6.160e+02, 3.000e+01, 1.060e+02, 8.700e+02, 3.620e+02, 5.300e+02,\n",
       "        5.000e+02, 5.100e+02, 2.470e+02, 3.050e+02, 2.550e+02, 1.250e+02,\n",
       "        1.000e+02, 4.320e+02, 1.260e+02, 4.730e+02, 7.400e+01, 1.450e+02,\n",
       "        2.320e+02, 3.760e+02, 4.200e+01, 1.610e+02, 1.100e+02, 1.800e+01,\n",
       "        2.240e+02, 2.480e+02, 8.000e+01, 3.040e+02, 2.150e+02, 7.720e+02,\n",
       "        4.350e+02, 3.780e+02, 5.620e+02, 1.680e+02, 8.900e+01, 2.850e+02,\n",
       "        3.600e+02, 9.400e+01, 3.330e+02, 9.210e+02, 7.620e+02, 5.940e+02,\n",
       "        2.190e+02, 1.880e+02, 4.790e+02, 5.840e+02, 1.820e+02, 2.500e+02,\n",
       "        2.920e+02, 2.450e+02, 2.070e+02, 8.200e+01, 9.700e+01, 3.350e+02,\n",
       "        2.080e+02, 4.200e+02, 1.700e+02, 4.590e+02, 2.800e+02, 9.900e+01,\n",
       "        1.920e+02, 2.040e+02, 2.330e+02, 1.560e+02, 4.520e+02, 5.130e+02,\n",
       "        2.610e+02, 1.640e+02, 2.590e+02, 2.090e+02, 2.630e+02, 2.160e+02,\n",
       "        3.510e+02, 6.600e+02, 3.810e+02, 5.400e+01, 5.280e+02, 2.580e+02,\n",
       "        4.640e+02, 5.700e+01, 1.470e+02, 1.170e+03, 2.930e+02, 6.300e+02,\n",
       "        4.660e+02, 1.090e+02, 4.100e+01, 1.600e+02, 2.890e+02, 6.510e+02,\n",
       "        1.690e+02, 9.500e+01, 4.420e+02, 2.020e+02, 3.380e+02, 8.940e+02,\n",
       "        3.280e+02, 6.730e+02, 6.030e+02, 1.000e+00, 3.750e+02, 9.000e+01,\n",
       "        3.800e+01, 1.570e+02, 1.100e+01, 1.400e+02, 1.300e+02, 1.480e+02,\n",
       "        8.600e+02, 4.240e+02, 1.047e+03, 2.430e+02, 8.160e+02, 3.870e+02,\n",
       "        2.230e+02, 1.580e+02, 1.370e+02, 1.150e+02, 1.890e+02, 2.740e+02,\n",
       "        1.170e+02, 6.000e+01, 1.220e+02, 9.200e+01, 4.150e+02, 7.600e+02,\n",
       "        2.700e+01, 7.500e+01, 3.610e+02, 1.050e+02, 3.420e+02, 2.980e+02,\n",
       "        5.410e+02, 2.360e+02, 1.440e+02, 4.230e+02, 4.400e+01, 1.510e+02,\n",
       "        9.750e+02, 4.500e+02, 2.300e+02, 5.710e+02, 2.400e+01, 5.300e+01,\n",
       "        2.060e+02, 1.400e+01, 3.240e+02, 2.950e+02, 3.960e+02, 6.700e+01,\n",
       "        1.540e+02, 4.250e+02, 4.500e+01, 1.378e+03, 3.370e+02, 1.490e+02,\n",
       "        1.430e+02, 5.100e+01, 1.710e+02, 2.340e+02, 6.300e+01, 7.660e+02,\n",
       "        3.200e+01, 8.100e+01, 1.630e+02, 5.540e+02, 2.180e+02, 6.320e+02,\n",
       "        1.140e+02, 5.670e+02, 3.590e+02, 4.510e+02, 6.210e+02, 7.880e+02,\n",
       "        8.600e+01, 7.960e+02, 3.910e+02, 2.280e+02, 8.800e+01, 1.650e+02,\n",
       "        4.280e+02, 4.100e+02, 5.640e+02, 3.680e+02, 3.180e+02, 5.790e+02,\n",
       "        6.500e+01, 7.050e+02, 4.080e+02, 2.440e+02, 1.230e+02, 3.660e+02,\n",
       "        7.310e+02, 4.480e+02, 2.940e+02, 3.100e+02, 2.370e+02, 4.260e+02,\n",
       "        9.600e+01, 4.380e+02, 1.940e+02, 1.190e+02]),\n",
       " 'ExterQual': array(['Gd', 'TA', 'Ex', 'Fa'], dtype=object),\n",
       " 'ExterCond': array(['TA', 'Gd', 'Fa', 'Po', 'Ex'], dtype=object),\n",
       " 'Foundation': array(['PConc', 'CBlock', 'BrkTil', 'Wood', 'Slab', 'Stone'], dtype=object),\n",
       " 'BsmtQual': array(['Gd', 'TA', 'Ex', nan, 'Fa'], dtype=object),\n",
       " 'BsmtCond': array(['TA', 'Gd', nan, 'Fa', 'Po'], dtype=object),\n",
       " 'BsmtExposure': array(['No', 'Gd', 'Mn', 'Av', nan], dtype=object),\n",
       " 'BsmtFinType1': array(['GLQ', 'ALQ', 'Unf', 'Rec', 'BLQ', nan, 'LwQ'], dtype=object),\n",
       " 'BsmtFinSF1': array([ 706,  978,  486,  216,  655,  732, 1369,  859,    0,  851,  906,\n",
       "         998,  737,  733,  578,  646,  504,  840,  188,  234, 1218, 1277,\n",
       "        1018, 1153, 1213,  731,  643,  967,  747,  280,  179,  456, 1351,\n",
       "          24,  763,  182,  104, 1810,  384,  490,  649,  632,  941,  739,\n",
       "         912, 1013,  603, 1880,  565,  320,  462,  228,  336,  448, 1201,\n",
       "          33,  588,  600,  713, 1046,  648,  310, 1162,  520,  108,  569,\n",
       "        1200,  224,  705,  444,  250,  984,   35,  774,  419,  170, 1470,\n",
       "         938,  570,  300,  120,  116,  512,  567,  445,  695,  405, 1005,\n",
       "         668,  821,  432, 1300,  507,  679, 1332,  209,  680,  716, 1400,\n",
       "         416,  429,  222,   57,  660, 1016,  370,  351,  379, 1288,  360,\n",
       "         639,  495,  288, 1398,  477,  831, 1904,  436,  352,  611, 1086,\n",
       "         297,  626,  560,  390,  566, 1126, 1036, 1088,  641,  617,  662,\n",
       "         312, 1065,  787,  468,   36,  822,  378,  946,  341,   16,  550,\n",
       "         524,   56,  321,  842,  689,  625,  358,  402,   94, 1078,  329,\n",
       "         929,  697, 1573,  270,  922,  503, 1334,  361,  672,  506,  714,\n",
       "         403,  751,  226,  620,  546,  392,  421,  905,  904,  430,  614,\n",
       "         450,  210,  292,  795, 1285,  819,  420,  841,  281,  894, 1464,\n",
       "         700,  262, 1274,  518, 1236,  425,  692,  987,  970,   28,  256,\n",
       "        1619,   40,  846, 1124,  720,  828, 1249,  810,  213,  585,  129,\n",
       "         498, 1270,  573, 1410, 1082,  236,  388,  334,  874,  956,  773,\n",
       "         399,  162,  712,  609,  371,  540,   72,  623,  428,  350,  298,\n",
       "        1445,  218,  985,  631, 1280,  241,  690,  266,  777,  812,  786,\n",
       "        1116,  789, 1056,   50, 1128,  775, 1309, 1246,  986,  616, 1518,\n",
       "         664,  387,  471,  385,  365, 1767,  133,  642,  247,  331,  742,\n",
       "        1606,  916,  185,  544,  553,  326,  778,  386,  426,  368,  459,\n",
       "        1350, 1196,  630,  994,  168, 1261, 1567,  299,  897,  607,  836,\n",
       "         515,  374, 1231,  111,  356,  400,  698, 1247,  257,  380,   27,\n",
       "         141,  991,  650,  521, 1436, 2260,  719,  377, 1330,  348, 1219,\n",
       "         783,  969,  673, 1358, 1260,  144,  584,  554, 1002,  619,  180,\n",
       "         559,  308,  866,  895,  637,  604, 1302, 1071,  290,  728,    2,\n",
       "        1441,  943,  231,  414,  349,  442,  328,  594,  816, 1460, 1324,\n",
       "        1338,  685, 1422, 1283,   81,  454,  903,  605,  990,  206,  150,\n",
       "         457,   48,  871,   41,  674,  624,  480, 1154,  738,  493, 1121,\n",
       "         282,  500,  131, 1696,  806, 1361,  920, 1721,  187, 1138,  988,\n",
       "         193,  551,  767, 1186,  892,  311,  827,  543, 1003, 1059,  239,\n",
       "         945,   20, 1455,  965,  980,  863,  533, 1084, 1173,  523, 1148,\n",
       "         191, 1234,  375,  808,  724,  152, 1180,  252,  832,  575,  919,\n",
       "         439,  381,  438,  549,  612, 1163,  437,  394, 1416,  422,  762,\n",
       "         975, 1097,  251,  686,  656,  568,  539,  862,  197,  516,  663,\n",
       "         608, 1636,  784,  249, 1040,  483,  196,  572,  338,  330,  156,\n",
       "        1390,  513,  460,  659,  364,  564,  306,  505,  932,  750,   64,\n",
       "         633, 1170,  899,  902, 1238,  528, 1024, 1064,  285, 2188,  465,\n",
       "         322,  860,  599,  354,   63,  223,  301,  443,  489,  284,  294,\n",
       "         814,  165,  552,  833,  464,  936,  772, 1440,  748,  982,  398,\n",
       "         562,  484,  417,  699,  696,  896,  556, 1106,  651,  867,  854,\n",
       "        1646, 1074,  536, 1172,  915,  595, 1237,  273,  684,  324, 1165,\n",
       "         138, 1513,  317, 1012, 1022,  509,  900, 1085, 1104,  240,  383,\n",
       "         644,  397,  740,  837,  220,  586,  535,  410,   75,  824,  592,\n",
       "        1039,  510,  423,  661,  248,  704,  412, 1032,  219,  708,  415,\n",
       "        1004,  353,  702,  369,  622,  212,  645,  852, 1150, 1258,  275,\n",
       "         176,  296,  538, 1157,  492, 1198, 1387,  522,  658, 1216, 1480,\n",
       "        2096, 1159,  440, 1456,  883,  547,  788,  485,  340, 1220,  427,\n",
       "         344,  756, 1540,  666,  803, 1000,  885, 1386,  319,  534,  125,\n",
       "        1314,  602,  192,  593,  804, 1053,  532, 1158, 1014,  194,  167,\n",
       "         776, 5644,  694, 1572,  746, 1406,  925,  482,  189,  765,   80,\n",
       "        1443,  259,  735,  734, 1447,  548,  315, 1282,  408,  309,  203,\n",
       "         865,  204,  790, 1320,  769, 1070,  264,  759, 1373,  976,  781,\n",
       "          25, 1110,  404,  580,  678,  958, 1336, 1079,   49,  830],\n",
       "       dtype=int64),\n",
       " 'BsmtFinType2': array(['Unf', 'BLQ', nan, 'ALQ', 'Rec', 'LwQ', 'GLQ'], dtype=object),\n",
       " 'BsmtFinSF2': array([   0,   32,  668,  486,   93,  491,  506,  712,  362,   41,  169,\n",
       "         869,  150,  670,   28, 1080,  181,  768,  215,  374,  208,  441,\n",
       "         184,  279,  306,  180,  580,  690,  692,  228,  125, 1063,  620,\n",
       "         175,  820, 1474,  264,  479,  147,  232,  380,  544,  294,  258,\n",
       "         121,  391,  531,  344,  539,  713,  210,  311, 1120,  165,  532,\n",
       "          96,  495,  174, 1127,  139,  202,  645,  123,  551,  219,  606,\n",
       "         612,  480,  182,  132,  336,  468,  287,   35,  499,  723,  119,\n",
       "          40,  117,  239,   80,  472,   64, 1057,  127,  630,  128,  377,\n",
       "         764,  345, 1085,  435,  823,  500,  290,  324,  634,  411,  841,\n",
       "        1061,  466,  396,  354,  149,  193,  273,  465,  400,  682,  557,\n",
       "         230,  106,  791,  240,  547,  469,  177,  108,  600,  492,  211,\n",
       "         168, 1031,  438,  375,  144,   81,  906,  608,  276,  661,   68,\n",
       "         173,  972,  105,  420,  546,  334,  352,  872,  110,  627,  163,\n",
       "        1029], dtype=int64),\n",
       " 'BsmtUnfSF': array([ 150,  284,  434,  540,  490,   64,  317,  216,  952,  140,  134,\n",
       "         177,  175, 1494,  520,  832,  426,    0,  468,  525, 1158,  637,\n",
       "        1777,  200,  204, 1566,  180,  486,  207,  649, 1228, 1234,  380,\n",
       "         408, 1117, 1097,   84,  326,  445,  383,  167,  465, 1296,   83,\n",
       "        1632,  736,  192,  612,  816,   32,  935,  321,  860, 1410,  148,\n",
       "         217,  530, 1346,  576,  318, 1143, 1035,  440,  747,  701,  343,\n",
       "         280,  404,  840,  724,  295, 1768,  448,   36, 1530, 1065,  384,\n",
       "        1288,  684, 1013,  402,  635,  163,  168,  176,  370,  350,  381,\n",
       "         410,  741, 1226, 1053,  641,  516,  793, 1139,  550,  905,  104,\n",
       "         310,  252, 1125,  203,  728,  732,  510,  899, 1362,   30,  958,\n",
       "         556,  413,  479,  297,  658,  262,  891, 1304,  519, 1907,  336,\n",
       "         107,  432,  403,  811,  396,  970,  506,  884,  400,  896,  253,\n",
       "         409,   93, 1200,  572,  774,  769, 1335,  340,  882,  779,  112,\n",
       "         470,  294, 1686,  360,  441,  354,  700,  725,  320,  554,  312,\n",
       "         968,  504, 1107,  577,  660,   99,  871,  474,  289,  600,  755,\n",
       "         625, 1121,  276,  186, 1424, 1140,  375,   92,  305, 1176,   78,\n",
       "         274,  311,  710,  686,  457, 1232, 1498, 1010,  160, 2336,  630,\n",
       "         638,  162,   70, 1357, 1194,  773,  483,  235,  125, 1390,  594,\n",
       "        1694,  488,  357,  626,  916, 1020, 1367,  798,  452,  392,  975,\n",
       "         361,  270,  602, 1482,  680,  606,   88,  342,  212, 1095,   96,\n",
       "         628, 1560,  744, 2121,  768,  386, 1468, 1145,  244,  698, 1079,\n",
       "         570,  476,  131,  184,  143, 1092,  324, 1541, 1470,  536,  319,\n",
       "         599,  622,  179,  292,  286,   80,  712,  291,  153, 1088, 1249,\n",
       "         166,  906,  604,  100,  818,  844,  596,  210, 1603,  115,  103,\n",
       "         673,  726,  995,  967,  721, 1656,  972,  460,  208,  191,  438,\n",
       "        1869,  371,  624,  552,  322,  598,  268,  130,  484,  785,  733,\n",
       "         953,  847,  333, 1580,  411,  982,  808, 1293,  939,  784,  595,\n",
       "         229,  114,  522,  735,  405,  117,  961, 1286,  672, 1141,  806,\n",
       "         165, 1064, 1063,  245, 1276,  892, 1008,  499, 1316,  463,  242,\n",
       "         444,  281,   35,  356,  988,  580,  651,  619,  544,  387,  901,\n",
       "         926,  135,  648,   75,  788, 1307, 1078, 1258,  273, 1436,  557,\n",
       "         930,  780,  813,  878,  122,  248,  588,  524,  288,  389,  424,\n",
       "        1375, 1626,  406,  298, 2153,  417,  739,  225,  611,  237,  290,\n",
       "         264,  238,  363,  190, 1969,  697,  414,  316,  466,  420,  254,\n",
       "         960,  397, 1191,  548,   50,  178, 1368,  169,  748,  689, 1264,\n",
       "         467,  605, 1257,  551,  678,  707,  880,  378,  223,  578,  969,\n",
       "         379,  765,  149,  912,  620, 1709,  132,  993,  197, 1374,   90,\n",
       "         195,  706, 1163,  367, 1122, 1515,   55, 1497,  450,  846,   23,\n",
       "         390,  861,  285, 1050,  331, 2042, 1237,  113,  742,  924,  512,\n",
       "         119,  314,  308,  293,  537,  126,  427,  309,  914,  173, 1774,\n",
       "         823,  485, 1116,  978,  636,  564,  108, 1184,  796,  366,  300,\n",
       "         542,  645,  664,  756,  247,  776,  849, 1392,   38, 1406,  111,\n",
       "         545,  121, 2046,  161,  261,  567, 1195,  874, 1342,  151,  989,\n",
       "        1073,  927,  219,  224,  526, 1164,  761,  461,  876,  859,  171,\n",
       "         718,  138,  941,  464,  250,   72,  508, 1584,  415,   82,  948,\n",
       "         893,  864, 1349,   76,  487,  652, 1240,  801,  279, 1030,  348,\n",
       "         234, 1198,  740,   89,  586,  323, 1836,  480,  456, 1935,  338,\n",
       "        1594,  102,  374, 1413,  491, 1129,  255, 1496,  650, 1926,  154,\n",
       "         999, 1734,  124, 1417,   15,  834, 1649,  936,  778, 1489,  442,\n",
       "        1434,  352,  458, 1221, 1099,  416, 1800,  227,  907,  528,  189,\n",
       "        1273,  563,  372,  702, 1090,  435,  198, 1372,  174, 1638,  894,\n",
       "         299,  105,  676, 1120,  431,  218,  110,  795, 1098, 1043,  481,\n",
       "         666,  142,  447,  783, 1670,  277,  412,  794,  239,  662, 1072,\n",
       "         717,  546,  430,  422,  188,  266, 1181, 1753,  964, 1450, 1905,\n",
       "        1480,  772, 1032,  220,  187,   29,  495,  640,  193,  196,  720,\n",
       "         918, 1428,   77, 1266, 1128,  692,  770,  750, 1442, 1007,  501,\n",
       "         691, 1550, 1680, 1330, 1710,  746,  814,  515,  571,  359,  355,\n",
       "         301,  668,  920, 1055, 1420, 1752,  304, 1302,  833,  133,  549,\n",
       "         705,  722,  799,  462,  429,  810,  155,  170,  230, 1459, 1082,\n",
       "         758, 1290, 1074,  251,  172,  868,  797,  365,  418,  730,  533,\n",
       "         671, 1012, 1528, 1005, 1373,  500,  762,  752,  399, 1042,   40,\n",
       "          26,  932,  278,  459,  568, 1502,  543,  574,  977,  449,  983,\n",
       "         731,  120,  538,  831,  994,  341,  879,  815, 1212,  866, 1630,\n",
       "         328,  141,  364, 1380,   81,  303,  940,  764, 1048,  334, 1689,\n",
       "         690,  792,  585,  473,  246, 1045, 1405,  201,   14,  841, 1104,\n",
       "         241,  925, 2002,   74,  661,  708, 1152,  256,  804,  812, 1085,\n",
       "         344,  425, 1616,  976,  496,  349,  971, 1393, 1622, 1352, 1795,\n",
       "        1017, 1588,  428,  803,  693,  858, 1284, 1203, 1652,   39,  539,\n",
       "        1217,  257,  715,  616,  240,  315, 1351, 1026, 1571,  156,   61,\n",
       "          95,  482, 1094,   60,  862,  221,  791,  398,  777,  503,  734,\n",
       "         709, 1252,  656, 1319, 1422,  560, 1573,  589,  877,  136],\n",
       "       dtype=int64),\n",
       " 'TotalBsmtSF': array([ 856, 1262,  920,  756, 1145,  796, 1686, 1107,  952,  991, 1040,\n",
       "        1175,  912, 1494, 1253,  832, 1004,    0, 1114, 1029, 1158,  637,\n",
       "        1777, 1060, 1566,  900, 1704, 1484,  520,  649, 1228, 1234, 1398,\n",
       "        1561, 1117, 1097, 1297, 1057, 1088, 1350,  840,  938, 1150, 1752,\n",
       "        1434, 1656,  736,  955,  794,  816, 1842,  384, 1425,  970,  860,\n",
       "        1410,  780,  530, 1370,  576, 1143, 1947, 1453,  747, 1304, 2223,\n",
       "         845, 1086,  462,  672, 1768,  440,  896, 1237, 1563, 1065, 1288,\n",
       "         684,  612, 1013,  990, 1235,  876, 1214,  824,  680, 1588,  960,\n",
       "         458,  950, 1610,  741, 1226, 1053,  641,  789,  793, 1844,  994,\n",
       "        1264, 1809, 1028,  729, 1092, 1125, 1673,  728,  732, 1080, 1199,\n",
       "        1362, 1078,  660, 1008,  924,  992, 1063, 1267, 1461, 1907,  928,\n",
       "         864, 1734,  910, 1490, 1728,  715,  884,  969, 1710,  825, 1602,\n",
       "        1200,  572,  774, 1392, 1232, 1572, 1541,  882, 1149,  644, 1617,\n",
       "        1582,  720, 1064, 1606, 1202, 1151, 1052, 2216,  968,  504, 1188,\n",
       "        1593,  853,  725, 1431,  855, 1726, 1360,  755, 1713, 1121, 1196,\n",
       "         617,  848, 1424, 1140, 1100, 1157, 1212,  689, 1070, 1436,  686,\n",
       "         798, 1248, 1498, 1010,  713, 2392,  630, 1203,  483, 1373, 1194,\n",
       "        1462,  894, 1414,  996, 1694,  735,  540,  626,  948, 1845, 1020,\n",
       "        1367, 1444, 1573, 1302, 1314,  975, 1604,  963, 1482,  506,  926,\n",
       "        1422,  802,  740, 1095, 1385, 1152, 1240, 1560, 2121, 1160,  807,\n",
       "        1468, 1575,  625,  858,  698, 1079,  768,  795, 1416, 1003,  702,\n",
       "        1165, 1470, 2000,  700,  319,  861, 1896,  697,  972, 2136,  716,\n",
       "        1347, 1372, 1249, 1136, 1502, 1162,  710, 1719, 1383,  844,  596,\n",
       "        1056, 3206, 1358,  943, 1499, 1922, 1536, 1208, 1215,  967,  721,\n",
       "        1684,  536,  958, 1478,  764, 1848, 1869,  616,  624,  940, 1142,\n",
       "        1062,  888,  883, 1394, 1099, 1268,  953,  744,  608,  847,  683,\n",
       "         870, 1580, 1856,  982, 1026, 1293,  939,  784, 1256,  658, 1041,\n",
       "        1682,  804,  788, 1144,  961, 1260, 1310, 1141,  806, 1281, 1034,\n",
       "        1276, 1340, 1344,  988,  651, 1518,  907,  901,  765,  799,  648,\n",
       "        3094, 1440, 1258,  915, 1517,  930,  813, 1533,  872, 1242, 1364,\n",
       "         588,  709,  560, 1375, 1277, 1626, 1488,  808,  547, 1976, 2153,\n",
       "        1705, 1833, 1792, 1216,  999, 1113, 1073,  954,  264, 1269,  190,\n",
       "        3200,  866, 1501,  777, 1218, 1368, 1084, 2006, 1244, 3138, 1379,\n",
       "        1257, 1452,  528, 2035,  611,  707,  880, 1051, 1581, 1838, 1650,\n",
       "         723,  654, 1204, 1069, 1709,  998,  993, 1374, 1389, 1163, 1122,\n",
       "        1496,  846,  372, 1164, 1050, 2042, 1868, 1437,  742,  770, 1722,\n",
       "        1814, 1430, 1058,  908,  600,  965, 1032, 1299, 1120,  936,  783,\n",
       "        1822, 1522,  980, 1116,  978, 1156,  636, 1554, 1386,  811, 1520,\n",
       "        1952, 1766,  981, 1094, 2109,  525,  776, 1486, 1629, 1138, 2077,\n",
       "        1406, 1021, 1408,  738, 1477, 2046,  923, 1291, 1195, 1190,  874,\n",
       "         551, 1419, 2444, 1210,  927, 1112, 1391, 1800,  360, 1473, 1643,\n",
       "        1324,  270,  859,  718, 1176, 1311,  971, 1742,  941, 1698, 1584,\n",
       "        1595,  868, 1153,  893, 1349, 1337, 1720, 1479, 1030, 1318, 1252,\n",
       "         983, 1860,  836, 1935, 1614,  761, 1413,  956,  712,  650,  773,\n",
       "        1926,  731, 1417, 1024,  849, 1442, 1649, 1568,  778, 1489, 2078,\n",
       "        1454, 1516, 1067, 1559, 1127, 1390, 1273,  918, 1763, 1090, 1054,\n",
       "        1039, 1148, 1002, 1638,  105,  676, 1184, 1109,  892, 2217, 1505,\n",
       "        1059,  951, 2330, 1670, 1623, 1017, 1105, 1001,  546,  480, 1134,\n",
       "        1104, 1272, 1316, 1126, 1181, 1753,  964, 1466,  925, 1905, 1500,\n",
       "         585, 1632,  819, 1616, 1161,  828,  945,  979,  561,  696, 1330,\n",
       "         817, 1098, 1428,  673, 1241,  944, 1225, 1266, 1128,  485, 1930,\n",
       "        1396,  916,  822,  750, 1700, 1007, 1187,  691, 1574, 1680, 1346,\n",
       "         985, 1657,  602, 1022, 1082,  810, 1504, 1220, 1132, 1565, 1338,\n",
       "        1654, 1620, 1055,  800, 1306, 1475, 2524, 1992, 1193,  973,  854,\n",
       "         662, 1103, 1154,  942, 1048,  727,  690, 1096, 1459, 1251, 1247,\n",
       "        1074, 1271,  290,  655, 1463, 1836,  803,  833,  408,  533, 1012,\n",
       "        1552, 1005, 1530,  974, 1567, 1006, 1042, 1298,  704,  932, 1219,\n",
       "        1296, 1198,  959, 1261, 1598, 1683,  818, 1600, 2396, 1624,  831,\n",
       "        1224,  663,  879,  815, 1630, 2158,  931, 1660,  559, 1300, 1702,\n",
       "        1075, 1361, 1106, 1476, 1689, 2076,  792, 2110, 1405, 1192,  746,\n",
       "        1986,  841, 2002, 1332,  935, 1019,  661, 1309, 1328, 1085, 6110,\n",
       "        1246,  771,  976, 1652, 1278, 1902, 1274, 1393, 1622, 1352,  420,\n",
       "        1795,  544, 1510,  911,  693, 1284, 1732, 2033,  570, 1980,  814,\n",
       "         873,  757, 1108, 2633, 1571,  984, 1205,  714, 1746, 1525,  482,\n",
       "        1356,  862,  839, 1286, 1485, 1594,  622,  791,  708, 1223,  913,\n",
       "         656, 1319, 1932,  539, 1221, 1542], dtype=int64),\n",
       " 'Heating': array(['GasA', 'GasW', 'Grav', 'Wall', 'OthW', 'Floor'], dtype=object),\n",
       " 'HeatingQC': array(['Ex', 'Gd', 'TA', 'Fa', 'Po'], dtype=object),\n",
       " 'CentralAir': array(['Y', 'N'], dtype=object),\n",
       " 'Electrical': array(['SBrkr', 'FuseF', 'FuseA', 'FuseP', 'Mix', nan], dtype=object),\n",
       " '1stFlrSF': array([ 856, 1262,  920,  961, 1145,  796, 1694, 1107, 1022, 1077, 1040,\n",
       "        1182,  912, 1494, 1253,  854, 1004, 1296, 1114, 1339, 1158, 1108,\n",
       "        1795, 1060, 1600,  900, 1704,  520,  649, 1228, 1234, 1700, 1561,\n",
       "        1132, 1097, 1297, 1057, 1152, 1324, 1328,  884,  938, 1150, 1752,\n",
       "        1518, 1656,  736,  955,  794,  816, 1842, 1360, 1425,  983,  860,\n",
       "        1426,  780,  581, 1370,  902, 1143, 2207, 1479,  747, 1304, 2223,\n",
       "         845,  885, 1086,  840,  526,  952, 1072, 1768,  682, 1337, 1563,\n",
       "        1065,  804, 1301,  684,  612, 1013,  990, 1235,  964, 1260,  905,\n",
       "         680, 1588,  960,  835, 1225, 1610,  977, 1535, 1226, 1053, 1047,\n",
       "         789,  997, 1844, 1216,  774, 1282, 2259, 1436,  729, 1092, 1125,\n",
       "        1699,  728,  988,  772, 1080, 1199, 1586,  958,  660, 1327, 1721,\n",
       "        1682, 1214, 1959,  928,  864, 1734,  910, 1501, 1728,  970,  875,\n",
       "         896,  969, 1710, 1252, 1200,  572,  991, 1392, 1232, 1572, 1541,\n",
       "         882, 1149,  808, 1867, 1707, 1064, 1362, 1651, 2158, 1164, 2234,\n",
       "         968,  769,  901, 1340,  936, 1217, 1224, 1593, 1549,  725, 1431,\n",
       "         855, 1726,  929, 1713, 1121, 1279,  865,  848,  720, 1442, 1696,\n",
       "        1100, 1180, 1212,  932,  689, 1236,  810, 1137, 1248, 1498, 1010,\n",
       "         811, 2392,  630,  483, 1555, 1194, 1490,  894, 1414, 1014,  798,\n",
       "        1566,  866,  889,  626, 1222, 1872,  908, 1375, 1444, 1306, 1625,\n",
       "        1302, 1314, 1005, 1604,  963, 1382, 1482,  926,  764, 1422,  802,\n",
       "        1052,  778, 1113, 1095, 1363, 1632, 1560, 2121, 1156, 1175, 1468,\n",
       "        1575,  625, 1085,  858,  698, 1079, 1148, 1644, 1003,  975, 1041,\n",
       "        1336, 1210, 1675, 2000, 1122, 1035,  861, 1944,  697,  972,  793,\n",
       "        2036,  832,  716, 1153, 1088, 1372, 1472, 1249, 1136, 1553, 1163,\n",
       "        1898,  803, 1719, 1383, 1445,  596, 1056, 1629, 1358,  943, 1619,\n",
       "        1922, 1536, 1621, 1215,  993,  841, 1684,  536, 1478, 1848, 1869,\n",
       "        1453,  616, 1192, 1167, 1142, 1352,  495,  790,  672, 1394, 1268,\n",
       "        1287,  953, 1120,  752, 1319,  847,  904,  914, 1580, 1856, 1007,\n",
       "        1026,  939,  784, 1269,  658, 1742,  788,  735, 1144,  876, 1112,\n",
       "        1288, 1310, 1165,  806, 1620, 1166, 1071, 1050, 1276, 1028,  756,\n",
       "        1344, 1602, 1470, 1196,  707,  907, 1208, 1412,  765,  827,  734,\n",
       "         694, 2402, 1440, 1128, 1258,  933, 1689, 1888,  956,  679,  813,\n",
       "        1533,  888,  786, 1242,  624, 1663,  833,  979,  575,  849, 1277,\n",
       "        1634, 1502, 1161, 1976, 1652, 1493, 2069, 1718, 1131, 1850, 1792,\n",
       "         916,  999, 1073, 1484, 1766,  886, 3228, 1133,  899, 1801, 1218,\n",
       "        1368, 2020, 1378, 1244, 3138, 1266, 1476,  605, 2515, 1509,  751,\n",
       "         334,  820,  880, 1159, 1601, 1838, 1680,  767,  664, 1377,  915,\n",
       "         768,  825, 1069, 1717, 1126, 1006, 1048,  897, 1557, 1389,  996,\n",
       "        1134, 1496,  846,  576,  877, 1320,  703, 1429, 2042, 1521,  989,\n",
       "        2028,  838, 1473,  779,  770,  924, 1826, 1402, 1647, 1058,  927,\n",
       "         600, 1186, 1940, 1029, 1032, 1299, 1054,  807, 1828, 1548,  980,\n",
       "        1012, 1116, 1520, 1350, 1089, 1554, 1411,  800, 1567,  981, 1094,\n",
       "        1051,  822,  755,  909, 2113,  525,  851, 1486, 1686, 1181, 2097,\n",
       "        1454, 1465, 1679, 1437,  738, 1839,  792, 2046,  923, 1291, 1668,\n",
       "        1195, 1190,  874,  551, 1419, 2444, 1238, 1067, 1391, 1800, 1264,\n",
       "         372, 1824,  859, 1576, 1178, 1325,  971, 1698, 1776, 1616, 1146,\n",
       "         948, 1349, 1464, 1720, 1038,  742,  757, 1506, 1836, 1690, 1220,\n",
       "        1117, 1973, 1204, 1614, 1430, 1110, 1342,  966,  976, 1062, 1127,\n",
       "        1285,  773, 1966, 1428, 1075, 1309, 1044,  686, 1661, 1008,  944,\n",
       "        1489, 2084, 1434, 1160,  941, 1516, 1559, 1099, 1701, 1307, 1456,\n",
       "         918, 1779,  702, 1512, 1039, 1002, 1646, 1547, 1036,  676, 1184,\n",
       "        1462, 1155, 1090, 1187,  954,  892, 1709, 1712,  872, 2217, 1505,\n",
       "        1068,  951, 2364, 1670, 1063, 1636, 1020, 1105, 1015, 1001,  546,\n",
       "         480, 1229, 1272, 1316, 1617, 1098, 1788, 1466,  925, 1905, 1500,\n",
       "        1207, 1188, 1381,  965, 1168,  561,  696, 1542,  824,  783,  673,\n",
       "         869, 1241, 1118, 1407,  750,  691, 1574, 1504,  985, 1657, 1664,\n",
       "        1082, 2898, 1687, 1654, 1055, 1803, 1532, 2524, 1733, 1992, 1771,\n",
       "         930, 1526, 1091, 1523, 1364, 1130, 1096, 1338, 1103, 1154,  799,\n",
       "         893,  829, 1240, 1459, 1251, 1247, 1390,  438,  950,  887, 1021,\n",
       "        1552,  812, 1530,  974,  986, 1042, 1298, 1811, 1265, 1640, 1432,\n",
       "         959, 1831, 1261, 1170, 2129,  818, 1124, 2411,  949, 1624,  831,\n",
       "        1622,  842,  663,  879,  815, 1630, 1074, 2196, 1283, 1660, 1318,\n",
       "        1211, 2136, 1138, 1702, 1507, 1361, 1024, 1141, 1173, 2076, 1140,\n",
       "        1034, 2110, 1405,  760, 1987, 1104,  713, 2018, 1968, 1332,  935,\n",
       "        1357,  661, 1724, 1573, 1582, 1659, 4692, 1246,  753, 1203, 1294,\n",
       "        1902, 1274, 1787, 1061,  708, 1584, 1334,  693, 1284, 1172, 2156,\n",
       "        2053,  992, 1078, 1980, 1281,  814, 2633, 1571,  984,  754, 2117,\n",
       "         998, 1416, 1746, 1525, 1221,  741, 1569, 1223,  962, 1537, 1932,\n",
       "        1423,  913, 1578, 2073, 1256], dtype=int64),\n",
       " '2ndFlrSF': array([ 854,    0,  866,  756, 1053,  566,  983,  752, 1142, 1218,  668,\n",
       "        1320,  631,  716,  676,  860, 1519,  530,  808,  977, 1330,  833,\n",
       "         765,  462,  213,  548,  960,  670, 1116,  876,  612, 1031,  881,\n",
       "         790,  755,  592,  939,  520,  639,  656, 1414,  884,  729, 1523,\n",
       "         728,  351,  688,  941, 1032,  848,  836,  475,  739, 1151,  448,\n",
       "         896,  524, 1194,  956, 1070, 1096,  467,  547,  551,  880,  703,\n",
       "         901,  720,  316, 1518,  704, 1178,  754,  601, 1360,  929,  445,\n",
       "         564,  882,  920,  518,  817, 1257,  741,  672, 1306,  504, 1304,\n",
       "        1100,  730,  689,  591,  888, 1020,  828,  700,  842, 1286,  864,\n",
       "         829, 1092,  709,  844, 1106,  596,  807,  625,  649,  698,  840,\n",
       "         780,  568,  795,  648,  975,  702, 1242, 1818, 1121,  371,  804,\n",
       "         325,  809, 1200,  871, 1274, 1347, 1332, 1177, 1080,  695,  167,\n",
       "         915,  576,  605,  862,  495,  403,  838,  517, 1427,  784,  711,\n",
       "         468, 1081,  886,  793,  665,  858,  874,  526,  590,  406, 1157,\n",
       "         299,  936,  438, 1098,  766, 1101, 1028, 1017, 1254,  378, 1160,\n",
       "         682,  110,  600,  678,  834,  384,  512,  930,  868,  224, 1103,\n",
       "         560,  811,  878,  574,  910,  620,  687,  546,  902, 1000,  846,\n",
       "        1067,  914,  660, 1538, 1015, 1237,  611,  707,  527, 1288,  832,\n",
       "         806, 1182, 1040,  439,  717,  511, 1129, 1370,  636,  533,  745,\n",
       "         584,  812,  684,  595,  988,  800,  677,  573, 1066,  778,  661,\n",
       "        1440,  872,  788,  843,  713,  567,  651,  762,  482,  738,  586,\n",
       "         679,  644,  900,  887, 1872, 1281,  472, 1312,  319,  978, 1093,\n",
       "         473,  664, 1540, 1276,  441,  348, 1060,  714,  744, 1203,  783,\n",
       "        1097,  734,  767, 1589,  742,  686, 1128, 1111, 1174,  787, 1072,\n",
       "        1088, 1063,  545,  966,  623,  432,  581,  540,  769, 1051,  761,\n",
       "         779,  514,  455, 1426,  785,  521,  252,  813, 1120, 1037, 1169,\n",
       "        1001, 1215,  928, 1140, 1243,  571, 1196, 1038,  561,  979,  701,\n",
       "         332,  368,  883, 1336, 1141,  634,  912,  798,  985,  826,  831,\n",
       "         750,  456,  602,  855,  336,  408,  980,  998, 1168, 1208,  797,\n",
       "         850,  898, 1054,  895,  954,  772, 1230,  727,  454,  370,  628,\n",
       "         304,  582, 1122, 1134,  885,  640,  580, 1112,  653,  220,  240,\n",
       "        1362,  534,  539,  650,  918,  933,  712, 1796,  971, 1175,  743,\n",
       "         523, 1216, 2065,  272,  685,  776,  630,  984,  875,  913,  464,\n",
       "        1039, 1259,  940,  892,  725,  924,  764,  925, 1479,  192,  589,\n",
       "         992,  903,  430,  748,  587,  994,  950, 1323,  732, 1357,  557,\n",
       "        1296,  390, 1185,  873, 1611,  457,  796,  908,  550,  989,  932,\n",
       "         358, 1392,  349,  691, 1349,  768,  208,  622,  857,  556, 1044,\n",
       "         708,  626,  904,  510, 1104,  830,  981,  870,  694, 1152],\n",
       "       dtype=int64),\n",
       " 'LowQualFinSF': array([  0, 360, 513, 234, 528, 572, 144, 392, 371, 390, 420, 473, 156,\n",
       "        515,  80,  53, 232, 481, 120, 514, 397, 479, 205, 384], dtype=int64),\n",
       " 'GrLivArea': array([1710, 1262, 1786, 1717, 2198, 1362, 1694, 2090, 1774, 1077, 1040,\n",
       "        2324,  912, 1494, 1253,  854, 1004, 1296, 1114, 1339, 2376, 1108,\n",
       "        1795, 1060, 1600,  900, 1704,  520, 1317, 1228, 1234, 1700, 1561,\n",
       "        2452, 1097, 1297, 1057, 1152, 1324, 1328,  884,  938, 1150, 1752,\n",
       "        2149, 1656, 1452,  955, 1470, 1176,  816, 1842, 1360, 1425, 1739,\n",
       "        1720, 2945,  780, 1158, 1111, 1370, 2034, 2473, 2207, 1479,  747,\n",
       "        2287, 2223,  845, 1718, 1086, 1605,  988,  952, 1285, 1768, 1230,\n",
       "        2142, 1337, 1563, 1065, 1474, 2417, 1560, 1224, 1526,  990, 1235,\n",
       "         964, 2291, 1588,  960,  835, 1225, 1610, 1732, 1535, 1226, 1818,\n",
       "        1992, 1047,  789, 1517, 1844, 1855, 1430, 2696, 2259, 2320, 1458,\n",
       "        1092, 1125, 3222, 1456, 1123, 1080, 1199, 1586,  754,  958,  840,\n",
       "        1348, 1053, 2157, 2054, 1327, 1721, 1682, 1214, 1959, 1852, 1764,\n",
       "         864, 1734, 1385, 1501, 1728, 1709,  875, 2035, 1344,  969, 1993,\n",
       "        1252, 1200, 1096, 1968, 1947, 2462, 1232, 2668, 1541,  882, 1616,\n",
       "        1355, 1867, 2161, 1707, 1382, 1767, 1651, 2158, 2060, 1920, 2234,\n",
       "         968, 1525, 1802, 1340, 2082, 3608, 1217, 1593, 2727, 1431, 1726,\n",
       "        3112, 2229, 1713, 1121, 1279, 1310,  848, 1284, 1442, 1696, 1100,\n",
       "        2062, 1212, 1392, 1236, 1436, 1954, 1248, 1498, 2267, 1552, 2392,\n",
       "        1302, 2520,  987, 1555, 1194, 2794,  894, 1960, 1414, 1744, 1487,\n",
       "        1566,  866, 1440, 2110, 1872, 1928, 1375, 1668, 2144, 1306, 1625,\n",
       "        1640, 1314, 1604, 1792, 2574, 1316,  764, 1422, 1511, 2192,  778,\n",
       "        1113, 1939, 1363, 2270, 1632, 1548, 2121, 2022, 1982, 1468, 1575,\n",
       "        1250,  858, 1396, 1919, 1716, 2263, 1644, 1003, 1558, 1950, 1743,\n",
       "        1336, 3493, 2000, 2243, 1406,  861, 1944,  972, 1118, 2036, 1641,\n",
       "        1432, 2353, 2646, 1472, 2596, 2468, 2730, 1163, 2978,  803, 1719,\n",
       "        1383, 2134, 1192, 1056, 1629, 1358, 1638, 1922, 1536, 1621, 1215,\n",
       "        1908,  841, 1684, 1112, 1577, 1478, 1626, 2728, 1869, 1453,  720,\n",
       "        1595, 1167, 1142, 1352, 1924, 1505, 1574, 1394, 1268, 1287, 1664,\n",
       "         752, 1319,  904,  914, 2466, 1856, 1800, 1691, 1301, 1797,  784,\n",
       "        1953, 1269, 1184, 2332, 1367, 1961,  788, 1034, 1144, 1812, 1550,\n",
       "        1288,  672, 1572, 1620, 1639, 1680, 2172, 2078, 1276, 1028, 2097,\n",
       "        1400, 2624, 1134, 1602, 2630, 1196, 1389,  907, 1208, 1412, 1198,\n",
       "        1365,  630, 1661,  694, 2402, 1573, 1258, 1689, 1888, 1886, 1376,\n",
       "        1183,  813, 1533, 1756, 1590, 1242, 1663, 1666, 1203, 1935, 1135,\n",
       "        1660, 1277, 1634, 1502, 1969, 1072, 1976, 1652,  970, 1493, 2643,\n",
       "        1131, 1850, 1826, 1216,  999, 1073, 1484, 2414, 1304, 1578,  886,\n",
       "        3228, 1820,  899, 1218, 1801, 1322, 1911, 1378, 1041, 1368, 2020,\n",
       "        2119, 2344, 1796, 2080, 1294, 1244, 4676, 2398, 1266,  928, 2713,\n",
       "         605, 2515, 1509,  827,  334, 1347, 1724, 1159, 1601, 1838, 2285,\n",
       "         767, 1496, 2183, 1635,  768,  825, 2094, 1069, 1126, 2046, 1048,\n",
       "        1446, 1557,  996, 1674, 2295, 1647, 2504, 2132,  943, 1692, 1109,\n",
       "        1477, 1320, 1429, 2042, 2775, 2028,  838,  860, 1473,  935, 1582,\n",
       "        2296,  924, 1402, 1556, 1904, 1915, 1986, 2008, 3194, 1029, 2153,\n",
       "        1032, 1120, 1054,  832, 1828, 2262, 2614,  980, 1512, 1790, 1116,\n",
       "        1520, 1350, 1750, 1554, 1411, 3395,  800, 1387,  796, 1567, 1518,\n",
       "        1929, 2704, 1766,  981, 1094, 1839, 1665, 1510, 1469, 2113, 1486,\n",
       "        2448, 1181, 1936, 2380, 1679, 1437, 1180, 1476, 1369, 1136, 1441,\n",
       "         792,  923, 1291, 1761, 1102, 1419, 4316, 2519, 1539, 1137,  616,\n",
       "        1148, 1391, 1164, 2576, 1824,  729, 1178, 2554, 2418,  971, 1742,\n",
       "        1698, 1776, 1146, 2031,  948, 1349, 1464, 2715, 2256, 2640, 1529,\n",
       "        1140, 2098, 1026, 1471, 1386, 2531, 1547, 2365, 1506, 1714, 1836,\n",
       "        3279, 1220, 1117, 1973, 1204, 1614, 1603, 1110, 1342, 2084,  901,\n",
       "        2087, 1145, 1062, 2013, 1895, 1564,  773, 3140, 1688, 2822, 1128,\n",
       "        1428, 1576, 2138, 1309, 1044, 1008, 1052,  936, 1733, 1489, 1434,\n",
       "        2126, 1223, 1829, 1516, 1067, 1559, 1099, 1482, 1165, 1416, 1701,\n",
       "        1775, 2358, 1646, 1445, 1779, 1481, 2654, 1426, 1039, 1372, 1002,\n",
       "        1949,  910, 2610, 2224, 1155, 1090, 2230,  892, 1712, 1393, 2217,\n",
       "        1683, 1068,  951, 2240, 2364, 1670,  902, 1063, 1636, 2057, 2274,\n",
       "        1015, 2002,  480, 1229, 2127, 2200, 1617, 1686, 2374, 1978, 1788,\n",
       "        2236, 1466,  925, 1905, 1500, 2069, 1971, 1962, 2403, 1381,  965,\n",
       "        1958, 2872, 1894, 1308, 1098, 1095,  918, 2019,  869, 1241, 2612,\n",
       "        2290, 1940, 2030, 1851, 1050,  944,  691, 1504,  985, 1657, 1522,\n",
       "        1271, 1022, 1082, 1132, 2898, 1264, 3082, 1654,  954, 1803, 2329,\n",
       "        2524, 2868, 1771,  930, 1977, 1989, 1523, 1364, 2184, 1991, 1338,\n",
       "        2337, 1103, 1154, 2260, 1571, 1611, 2521,  893, 1240, 1740, 1459,\n",
       "        1251, 1247, 1088,  438,  950, 2622, 2021, 1690, 1658, 1964,  833,\n",
       "        1012,  698, 1005, 1530, 1981,  974, 2210,  986, 1020, 1868, 2828,\n",
       "        1006, 1298,  932, 1811, 1265, 1580, 1876, 1671, 2108, 3627, 1261,\n",
       "        3086, 2345, 1343, 1124, 2514, 4476, 1130, 1221, 1699, 1624, 1804,\n",
       "        1622, 1863, 1630, 1074, 2196, 1283, 1845, 1902, 1211, 1846, 2136,\n",
       "        1490, 1138, 1933, 1702, 1507, 2620, 1190, 1188, 1784, 1948, 1141,\n",
       "        1173, 2076, 1553, 2058, 1405,  874, 2167, 1987, 1166, 1675, 1889,\n",
       "        2018, 3447, 1524, 1357, 1395, 2447, 1659, 1970, 2372, 5642, 1246,\n",
       "        1983, 2526, 1708, 1122, 1274, 2810, 2599, 2112, 1787, 1923,  708,\n",
       "         774, 2792, 1334,  693, 1861,  872, 2169, 1913, 2156, 2634, 3238,\n",
       "        1865, 1078, 1980, 2601, 1738, 1475, 1374, 2633,  790, 2117, 1762,\n",
       "        2784, 1746, 1584, 1912, 2482, 1687, 1513, 1608, 2093, 1840, 1848,\n",
       "        1569, 2450, 2201,  804, 1537, 1932, 1725, 2555, 2007,  913, 1346,\n",
       "        2073, 2340, 1256], dtype=int64),\n",
       " 'BsmtFullBath': array([1, 0, 2, 3], dtype=int64),\n",
       " 'BsmtHalfBath': array([0, 1, 2], dtype=int64),\n",
       " 'FullBath': array([2, 1, 3, 0], dtype=int64),\n",
       " 'HalfBath': array([1, 0, 2], dtype=int64),\n",
       " 'BedroomAbvGr': array([3, 4, 1, 2, 0, 5, 6, 8], dtype=int64),\n",
       " 'KitchenAbvGr': array([1, 2, 3, 0], dtype=int64),\n",
       " 'KitchenQual': array(['Gd', 'TA', 'Ex', 'Fa'], dtype=object),\n",
       " 'TotRmsAbvGrd': array([ 8,  6,  7,  9,  5, 11,  4, 10, 12,  3,  2, 14], dtype=int64),\n",
       " 'Functional': array(['Typ', 'Min1', 'Maj1', 'Min2', 'Mod', 'Maj2', 'Sev'], dtype=object),\n",
       " 'Fireplaces': array([0, 1, 2, 3], dtype=int64),\n",
       " 'FireplaceQu': array([nan, 'TA', 'Gd', 'Fa', 'Ex', 'Po'], dtype=object),\n",
       " 'GarageType': array(['Attchd', 'Detchd', 'BuiltIn', 'CarPort', nan, 'Basment', '2Types'],\n",
       "       dtype=object),\n",
       " 'GarageYrBlt': array([2003., 1976., 2001., 1998., 2000., 1993., 2004., 1973., 1931.,\n",
       "        1939., 1965., 2005., 1962., 2006., 1960., 1991., 1970., 1967.,\n",
       "        1958., 1930., 2002., 1968., 2007., 2008., 1957., 1920., 1966.,\n",
       "        1959., 1995., 1954., 1953.,   nan, 1983., 1977., 1997., 1985.,\n",
       "        1963., 1981., 1964., 1999., 1935., 1990., 1945., 1987., 1989.,\n",
       "        1915., 1956., 1948., 1974., 2009., 1950., 1961., 1921., 1900.,\n",
       "        1979., 1951., 1969., 1936., 1975., 1971., 1923., 1984., 1926.,\n",
       "        1955., 1986., 1988., 1916., 1932., 1972., 1918., 1980., 1924.,\n",
       "        1996., 1940., 1949., 1994., 1910., 1978., 1982., 1992., 1925.,\n",
       "        1941., 2010., 1927., 1947., 1937., 1942., 1938., 1952., 1928.,\n",
       "        1922., 1934., 1906., 1914., 1946., 1908., 1929., 1933.]),\n",
       " 'GarageFinish': array(['RFn', 'Unf', 'Fin', nan], dtype=object),\n",
       " 'GarageCars': array([2, 3, 1, 0, 4], dtype=int64),\n",
       " 'GarageArea': array([ 548,  460,  608,  642,  836,  480,  636,  484,  468,  205,  384,\n",
       "         736,  352,  840,  576,  516,  294,  853,  280,  534,  572,  270,\n",
       "         890,  772,  319,  240,  250,  271,  447,  556,  691,  672,  498,\n",
       "         246,    0,  440,  308,  504,  300,  670,  826,  386,  388,  528,\n",
       "         894,  565,  641,  288,  645,  852,  558,  220,  667,  360,  427,\n",
       "         490,  379,  297,  283,  509,  405,  758,  461,  400,  462,  420,\n",
       "         432,  506,  684,  472,  366,  476,  410,  740,  648,  273,  546,\n",
       "         325,  792,  450,  180,  430,  594,  390,  540,  264,  530,  435,\n",
       "         453,  750,  487,  624,  471,  318,  766,  660,  470,  720,  577,\n",
       "         380,  434,  866,  495,  564,  312,  625,  680,  678,  726,  532,\n",
       "         216,  303,  789,  511,  616,  521,  451, 1166,  252,  497,  682,\n",
       "         666,  786,  795,  856,  473,  398,  500,  349,  454,  644,  299,\n",
       "         210,  431,  438,  675,  968,  721,  336,  810,  494,  457,  818,\n",
       "         463,  604,  389,  538,  520,  309,  429,  673,  884,  868,  492,\n",
       "         413,  924, 1053,  439,  671,  338,  573,  732,  505,  575,  626,\n",
       "         898,  529,  685,  281,  539,  418,  588,  282,  375,  683,  843,\n",
       "         552,  870,  888,  746,  708,  513, 1025,  656,  872,  292,  441,\n",
       "         189,  880,  676,  301,  474,  706,  617,  445,  200,  592,  566,\n",
       "         514,  296,  244,  610,  834,  639,  501,  846,  560,  596,  600,\n",
       "         373,  947,  350,  396,  864,  304,  784,  696,  569,  628,  550,\n",
       "         493,  578,  198,  422,  228,  526,  525,  908,  499,  508,  694,\n",
       "         874,  164,  402,  515,  286,  603,  900,  583,  889,  858,  502,\n",
       "         392,  403,  527,  765,  367,  426,  615,  871,  570,  406,  590,\n",
       "         612,  650, 1390,  275,  452,  842,  816,  621,  544,  486,  230,\n",
       "         261,  531,  393,  774,  749,  364,  627,  260,  256,  478,  442,\n",
       "         562,  512,  839,  330,  711, 1134,  416,  779,  702,  567,  832,\n",
       "         326,  551,  606,  739,  408,  475,  704,  983,  768,  632,  541,\n",
       "         320,  800,  831,  554,  878,  752,  614,  481,  496,  423,  841,\n",
       "         895,  412,  865,  630,  605,  602,  618,  444,  397,  455,  409,\n",
       "         820, 1020,  598,  857,  595,  433,  776, 1220,  458,  613,  456,\n",
       "         436,  812,  686,  611,  425,  343,  479,  619,  902,  574,  523,\n",
       "         414,  738,  354,  483,  327,  756,  690,  284,  833,  601,  533,\n",
       "         522,  788,  555,  689,  796,  808,  510,  255,  424,  305,  368,\n",
       "         824,  328,  160,  437,  665,  290,  912,  905,  542,  716,  586,\n",
       "         467,  582, 1248, 1043,  254,  712,  719,  862,  928,  782,  466,\n",
       "         714, 1052,  225,  234,  324,  306,  830,  807,  358,  186,  693,\n",
       "         482,  813,  995,  757, 1356,  459,  701,  322,  315,  668,  404,\n",
       "         543,  954,  850,  477,  276,  518, 1014,  753, 1418,  213,  844,\n",
       "         860,  748,  248,  287,  825,  647,  342,  770,  663,  377,  804,\n",
       "         936,  722,  208,  662,  754,  622,  620,  370, 1069,  372,  923,\n",
       "         192], dtype=int64),\n",
       " 'GarageQual': array(['TA', 'Fa', 'Gd', nan, 'Ex', 'Po'], dtype=object),\n",
       " 'GarageCond': array(['TA', 'Fa', nan, 'Gd', 'Po', 'Ex'], dtype=object),\n",
       " 'PavedDrive': array(['Y', 'N', 'P'], dtype=object),\n",
       " 'WoodDeckSF': array([  0, 298, 192,  40, 255, 235,  90, 147, 140, 160,  48, 240, 171,\n",
       "        100, 406, 222, 288,  49, 203, 113, 392, 145, 196, 168, 112, 106,\n",
       "        857, 115, 120,  12, 576, 301, 144, 300,  74, 127, 232, 158, 352,\n",
       "        182, 180, 166, 224,  80, 367,  53, 188, 105,  24,  98, 276, 200,\n",
       "        409, 239, 400, 476, 178, 574, 237, 210, 441, 116, 280, 104,  87,\n",
       "        132, 238, 149, 355,  60, 139, 108, 351, 209, 216, 248, 143, 365,\n",
       "        370,  58, 197, 263, 123, 138, 333, 250, 292,  95, 262,  81, 289,\n",
       "        124, 172, 110, 208, 468, 256, 302, 190, 340, 233, 184, 201, 142,\n",
       "        122, 155, 670, 135, 495, 536, 306,  64, 364, 353,  66, 159, 146,\n",
       "        296, 125,  44, 215, 264,  88,  89,  96, 414, 519, 206, 141, 260,\n",
       "        324, 156, 220,  38, 261, 126,  85, 466, 270,  78, 169, 320, 268,\n",
       "         72, 349,  42,  35, 326, 382, 161, 179, 103, 253, 148, 335, 176,\n",
       "        390, 328, 312, 185, 269, 195,  57, 236, 517, 304, 198, 426,  28,\n",
       "        316, 322, 307, 257, 219, 416, 344, 380,  68, 114, 327, 165, 187,\n",
       "        181,  92, 228, 245, 503, 315, 241, 303, 133, 403,  36,  52, 265,\n",
       "        207, 150, 290, 486, 278,  70, 418, 234,  26, 342,  97, 272, 121,\n",
       "        243, 511, 154, 164, 173, 384, 202,  56, 321,  86, 194, 421, 305,\n",
       "        117, 550, 509, 153, 394, 371,  63, 252, 136, 186, 170, 474, 214,\n",
       "        199, 728, 436,  55, 431, 448, 361, 362, 162, 229, 439, 379, 356,\n",
       "         84, 635, 325,  33, 212, 314, 242, 294,  30, 128,  45, 177, 227,\n",
       "        218, 309, 404, 500, 668, 402, 283, 183, 175, 586, 295,  32, 366,\n",
       "        736], dtype=int64),\n",
       " 'OpenPorchSF': array([ 61,   0,  42,  35,  84,  30,  57, 204,   4,  21,  33, 213, 112,\n",
       "        102, 154, 159, 110,  90,  56,  32,  50, 258,  54,  65,  38,  47,\n",
       "         64,  52, 138, 104,  82,  43, 146,  75,  72,  70,  49,  11,  36,\n",
       "        151,  29,  94, 101, 199,  99, 234, 162,  63,  68,  46,  45, 122,\n",
       "        184, 120,  20,  24, 130, 205, 108,  80,  66,  48,  25,  96, 111,\n",
       "        106,  40, 114,   8, 136, 132,  62, 228,  60, 238, 260,  27,  74,\n",
       "         16, 198,  26,  83,  34,  55,  22,  98, 172, 119, 208, 105, 140,\n",
       "        168,  28,  39, 148,  12,  51, 150, 117, 250,  10,  81,  44, 144,\n",
       "        175, 195, 128,  76,  17,  59, 214, 121,  53, 231, 134, 192, 123,\n",
       "         78, 187,  85, 133, 176, 113, 137, 125, 523, 100, 285,  88, 406,\n",
       "        155,  73, 182, 502, 274, 158, 142, 243, 235, 312, 124, 267, 265,\n",
       "         87, 288,  23, 152, 341, 116, 160, 174, 247, 291,  18, 170, 156,\n",
       "        166, 129, 418, 240,  77, 364, 188, 207,  67,  69, 131, 191,  41,\n",
       "        118, 252, 189, 282, 135,  95, 224, 169, 319,  58,  93, 244, 185,\n",
       "        200,  92, 180, 263, 304, 229, 103, 211, 287, 292, 241, 547,  91,\n",
       "         86, 262, 210, 141,  15, 126, 236], dtype=int64),\n",
       " 'EnclosedPorch': array([  0, 272, 228, 205, 176,  87, 172, 102,  37, 144,  64, 114, 202,\n",
       "        128, 156,  44,  77, 192, 140, 180, 183,  39, 184,  40, 552,  30,\n",
       "        126,  96,  60, 150, 120, 112, 252,  52, 224, 234, 244, 268, 137,\n",
       "         24, 108, 294, 177, 218, 242,  91, 160, 130, 169, 105,  34, 248,\n",
       "        236,  32,  80, 115, 291, 116, 158, 210,  36, 200,  84, 148, 136,\n",
       "        240,  54, 100, 189, 293, 164, 216, 239,  67,  90,  56, 129,  98,\n",
       "        143,  70, 386, 154, 185, 134, 196, 264, 275, 230, 254,  68, 194,\n",
       "        318,  48,  94, 138, 226, 174,  19, 170, 220, 214, 280, 190, 330,\n",
       "        208, 145, 259,  81,  42, 123, 162, 286, 168,  20, 301, 198, 221,\n",
       "        212,  50,  99], dtype=int64),\n",
       " '3SsnPorch': array([  0, 320, 407, 130, 180, 168, 140, 508, 238, 245, 196, 144, 182,\n",
       "        162,  23, 216,  96, 153, 290, 304], dtype=int64),\n",
       " 'ScreenPorch': array([  0, 176, 198, 291, 252,  99, 184, 168, 130, 142, 192, 410, 224,\n",
       "        266, 170, 154, 153, 144, 128, 259, 160, 271, 234, 374, 185, 182,\n",
       "         90, 396, 140, 276, 180, 161, 145, 200, 122,  95, 120,  60, 126,\n",
       "        189, 260, 147, 385, 287, 156, 100, 216, 210, 197, 204, 225, 152,\n",
       "        175, 312, 222, 265, 322, 190, 233,  63,  53, 143, 273, 288, 263,\n",
       "         80, 163, 116, 480, 178, 440, 155, 220, 119, 165,  40], dtype=int64),\n",
       " 'PoolArea': array([  0, 512, 648, 576, 555, 480, 519, 738], dtype=int64),\n",
       " 'PoolQC': array([nan, 'Ex', 'Fa', 'Gd'], dtype=object),\n",
       " 'Fence': array([nan, 'MnPrv', 'GdWo', 'GdPrv', 'MnWw'], dtype=object),\n",
       " 'MiscFeature': array([nan, 'Shed', 'Gar2', 'Othr', 'TenC'], dtype=object),\n",
       " 'MiscVal': array([    0,   700,   350,   500,   400,   480,   450, 15500,  1200,\n",
       "          800,  2000,   600,  3500,  1300,    54,   620,   560,  1400,\n",
       "         8300,  1150,  2500], dtype=int64),\n",
       " 'MoSold': array([ 2,  5,  9, 12, 10,  8, 11,  4,  1,  7,  3,  6], dtype=int64),\n",
       " 'YrSold': array([2008, 2007, 2006, 2009, 2010], dtype=int64),\n",
       " 'SaleType': array(['WD', 'New', 'COD', 'ConLD', 'ConLI', 'CWD', 'ConLw', 'Con', 'Oth'],\n",
       "       dtype=object),\n",
       " 'SaleCondition': array(['Normal', 'Abnorml', 'Partial', 'AdjLand', 'Alloca', 'Family'],\n",
       "       dtype=object),\n",
       " 'SalePrice': array([208500, 181500, 223500, 140000, 250000, 143000, 307000, 200000,\n",
       "        129900, 118000, 129500, 345000, 144000, 279500, 157000, 132000,\n",
       "        149000,  90000, 159000, 139000, 325300, 139400, 230000, 154000,\n",
       "        256300, 134800, 306000, 207500,  68500,  40000, 149350, 179900,\n",
       "        165500, 277500, 309000, 145000, 153000, 109000,  82000, 160000,\n",
       "        170000, 130250, 141000, 319900, 239686, 249700, 113000, 127000,\n",
       "        177000, 114500, 110000, 385000, 130000, 180500, 172500, 196500,\n",
       "        438780, 124900, 158000, 101000, 202500, 219500, 317000, 180000,\n",
       "        226000,  80000, 225000, 244000, 185000, 144900, 107400,  91000,\n",
       "        135750, 136500, 193500, 153500, 245000, 126500, 168500, 260000,\n",
       "        174000, 164500,  85000, 123600, 109900,  98600, 163500, 133900,\n",
       "        204750, 214000,  94750,  83000, 128950, 205000, 178000, 118964,\n",
       "        198900, 169500, 100000, 115000, 190000, 136900, 383970, 217000,\n",
       "        259500, 176000, 155000, 320000, 163990, 136000, 153900, 181000,\n",
       "         84500, 128000,  87000, 150000, 150750, 220000, 171000, 231500,\n",
       "        166000, 204000, 125000, 105000, 222500, 122000, 372402, 235000,\n",
       "         79000, 109500, 269500, 254900, 162500, 412500, 103200, 152000,\n",
       "        127500, 325624, 183500, 228000, 128500, 215000, 239000, 163000,\n",
       "        184000, 243000, 211000, 501837, 200100, 120000, 475000, 173000,\n",
       "        135000, 153337, 286000, 315000, 192000, 148500, 311872, 104000,\n",
       "        274900, 171500, 112000, 143900, 277000,  98000, 186000, 252678,\n",
       "        156000, 161750, 134450, 210000, 107000, 311500, 167240, 204900,\n",
       "         97000, 386250, 290000, 106000, 192500, 148000, 403000,  94500,\n",
       "        128200, 216500,  89500, 185500, 194500, 318000, 262500, 110500,\n",
       "        241500, 137000,  76500, 276000, 151000,  73000, 175500, 179500,\n",
       "        120500, 266000, 124500, 201000, 415298, 228500, 244600, 179200,\n",
       "        164700,  88000, 153575, 233230, 135900, 131000, 167000, 142500,\n",
       "        175000, 158500, 267000, 149900, 295000, 305900,  82500, 360000,\n",
       "        165600, 119900, 375000, 188500, 270000, 187500, 342643, 354000,\n",
       "        301000, 126175, 242000, 324000, 145250, 214500,  78000, 119000,\n",
       "        284000, 207000, 228950, 377426, 202900,  87500, 140200, 151500,\n",
       "        157500, 437154, 318061,  95000, 105900, 177500, 134000, 280000,\n",
       "        198500, 147000, 165000, 162000, 172400, 134432, 123000,  61000,\n",
       "        340000, 394432, 179000, 187750, 213500,  76000, 240000,  81000,\n",
       "        191000, 426000, 106500, 129000,  67000, 241000, 245500, 164990,\n",
       "        108000, 258000, 168000, 339750,  60000, 222000, 181134, 149500,\n",
       "        126000, 142000, 206300, 275000, 109008, 195400,  85400,  79900,\n",
       "        122500, 212000, 116000,  90350, 555000, 162900, 199900, 119500,\n",
       "        188000, 256000, 161000, 263435,  62383, 188700, 124000, 178740,\n",
       "        146500, 187000, 440000, 251000, 132500, 208900, 380000, 297000,\n",
       "         89471, 326000, 374000, 164000,  86000, 133000, 172785,  91300,\n",
       "         34900, 430000, 226700, 289000, 208300, 164900, 202665,  96500,\n",
       "        402861, 265000, 234000, 106250, 184750, 315750, 446261, 200624,\n",
       "        107500,  39300, 111250, 272000, 248000, 213250, 179665, 229000,\n",
       "        263000, 112500, 255500, 121500, 268000, 325000, 316600, 135960,\n",
       "        142600, 224500, 118500, 146000, 131500, 181900, 253293, 369900,\n",
       "         79500, 185900, 451950, 138000, 319000, 114504, 194201, 217500,\n",
       "        221000, 359100, 313000, 261500,  75500, 137500, 183200, 105500,\n",
       "        314813, 305000, 165150, 139900, 209500,  93000, 264561, 274000,\n",
       "        370878, 143250,  98300, 205950, 350000, 145500,  97500, 197900,\n",
       "        402000, 423000, 230500, 173500, 103600, 257500, 372500, 159434,\n",
       "        285000, 227875, 148800, 392000, 194700, 755000, 335000, 108480,\n",
       "        141500,  89000, 123500, 138500, 196000, 312500, 361919, 213000,\n",
       "         55000, 302000, 254000, 179540,  52000, 102776, 189000, 130500,\n",
       "        159500, 341000, 103000, 236500, 131400,  93500, 239900, 299800,\n",
       "        236000, 265979, 260400, 275500, 158900, 179400, 215200, 337000,\n",
       "        264132, 216837, 538000, 134900, 102000, 395000, 221500, 175900,\n",
       "        187100, 161500, 233000, 107900, 160200, 146800, 269790, 143500,\n",
       "        485000, 582933, 227680, 135500, 159950, 144500,  55993, 157900,\n",
       "        224900, 271000, 224000, 183000, 139500, 232600, 147400, 237000,\n",
       "        139950, 174900, 133500, 189950, 250580, 248900, 169000, 200500,\n",
       "         66500, 303477, 132250, 328900, 122900, 154500, 118858, 142953,\n",
       "        611657, 125500, 255000, 154300, 173733,  75000,  35311, 238000,\n",
       "        176500, 145900, 169990, 193000, 117500, 184900, 253000, 239799,\n",
       "        244400, 150900, 197500, 172000, 116500, 214900, 178900,  37900,\n",
       "         99500, 182000, 167500,  85500, 178400, 336000, 159895, 255900,\n",
       "        117000, 395192, 195000, 197000, 348000, 173900, 337500, 121600,\n",
       "        206000, 232000, 136905, 119200, 227000, 203000, 213490, 194000,\n",
       "        287000, 293077, 310000, 119750,  84000, 315500, 262280, 278000,\n",
       "        139600, 556581,  84900, 176485, 200141, 185850, 328000, 167900,\n",
       "        151400,  91500, 138800, 155900,  83500, 252000,  92900, 176432,\n",
       "        274725, 134500, 184100, 133700, 118400, 212900, 163900, 259000,\n",
       "        239500,  94000, 424870, 174500, 116900, 201800, 218000, 235128,\n",
       "        108959, 233170, 245350, 625000, 171900, 154900, 392500, 745000,\n",
       "        186700, 104900, 262000, 219210, 116050, 271900, 229456,  80500,\n",
       "        137900, 367294, 101800, 138887, 265900, 248328, 465000, 186500,\n",
       "        169900, 171750, 294000, 165400, 301500,  99900, 128900, 183900,\n",
       "        378500, 381000, 185750,  68400, 150500, 281000, 333168, 206900,\n",
       "        295493, 111000, 156500,  72500,  52500, 155835, 108500, 283463,\n",
       "        410000, 156932, 144152, 216000, 274300, 466500,  58500, 237500,\n",
       "        377500, 246578, 281213, 137450, 193879, 282922, 257000, 223000,\n",
       "        274970, 182900, 192140, 143750,  64500, 394617, 149700, 149300,\n",
       "        121000, 179600,  92000, 287090, 266500, 142125, 147500],\n",
       "       dtype=int64)}"
      ]
     },
     "execution_count": 16,
     "metadata": {},
     "output_type": "execute_result"
    }
   ],
   "source": [
    "unique_val(train_data)"
   ]
  },
  {
   "cell_type": "code",
   "execution_count": 17,
   "metadata": {},
   "outputs": [
    {
     "data": {
      "image/png": "[encoded data removed]",
      "text/plain": [
       "<Figure size 640x480 with 2 Axes>"
      ]
     },
     "metadata": {},
     "output_type": "display_data"
    }
   ],
   "source": [
    "# lets a heatmap to check the same\n",
    "sns.heatmap(train_data.isnull())\n",
    "plt.show()\n",
    "\n",
    "## we can see there are some nulls, lets clean these in data cleaning step"
   ]
  },
  {
   "cell_type": "code",
   "execution_count": 18,
   "metadata": {},
   "outputs": [
    {
     "data": {
      "text/plain": [
       "<AxesSubplot:>"
      ]
     },
     "execution_count": 18,
     "metadata": {},
     "output_type": "execute_result"
    },
    {
     "data": {
      "image/png": "[encoded data removed]",
      "text/plain": [
       "<Figure size 640x480 with 2 Axes>"
      ]
     },
     "metadata": {},
     "output_type": "display_data"
    }
   ],
   "source": [
    "## lets also plot a correlation matrix\n",
    "\n",
    "sns.heatmap(train_data.corr(), annot = True)\n"
   ]
  },
  {
   "cell_type": "code",
   "execution_count": 19,
   "metadata": {},
   "outputs": [
    {
     "name": "stdout",
     "output_type": "stream",
     "text": [
      "                 Id  MSSubClass  LotFrontage  LotArea  OverallQual  \\\n",
      "Id             1.00        0.01        -0.01    -0.03        -0.03   \n",
      "MSSubClass     0.01        1.00        -0.39    -0.14         0.03   \n",
      "LotFrontage   -0.01       -0.39         1.00     0.43         0.25   \n",
      "LotArea       -0.03       -0.14         0.43     1.00         0.11   \n",
      "OverallQual   -0.03        0.03         0.25     0.11         1.00   \n",
      "OverallCond    0.01       -0.06        -0.06    -0.01        -0.09   \n",
      "YearBuilt     -0.01        0.03         0.12     0.01         0.57   \n",
      "YearRemodAdd  -0.02        0.04         0.09     0.01         0.55   \n",
      "MasVnrArea    -0.05        0.02         0.19     0.10         0.41   \n",
      "BsmtFinSF1    -0.01       -0.07         0.23     0.21         0.24   \n",
      "BsmtFinSF2    -0.01       -0.07         0.05     0.11        -0.06   \n",
      "BsmtUnfSF     -0.01       -0.14         0.13    -0.00         0.31   \n",
      "TotalBsmtSF   -0.02       -0.24         0.39     0.26         0.54   \n",
      "1stFlrSF       0.01       -0.25         0.46     0.30         0.48   \n",
      "2ndFlrSF       0.01        0.31         0.08     0.05         0.30   \n",
      "LowQualFinSF  -0.04        0.05         0.04     0.00        -0.03   \n",
      "GrLivArea      0.01        0.07         0.40     0.26         0.59   \n",
      "BsmtFullBath   0.00        0.00         0.10     0.16         0.11   \n",
      "BsmtHalfBath  -0.02       -0.00        -0.01     0.05        -0.04   \n",
      "FullBath       0.01        0.13         0.20     0.13         0.55   \n",
      "HalfBath       0.01        0.18         0.05     0.01         0.27   \n",
      "BedroomAbvGr   0.04       -0.02         0.26     0.12         0.10   \n",
      "KitchenAbvGr   0.00        0.28        -0.01    -0.02        -0.18   \n",
      "TotRmsAbvGrd   0.03        0.04         0.35     0.19         0.43   \n",
      "Fireplaces    -0.02       -0.05         0.27     0.27         0.40   \n",
      "GarageYrBlt    0.00        0.09         0.07    -0.02         0.55   \n",
      "GarageCars     0.02       -0.04         0.29     0.15         0.60   \n",
      "GarageArea     0.02       -0.10         0.34     0.18         0.56   \n",
      "WoodDeckSF    -0.03       -0.01         0.09     0.17         0.24   \n",
      "OpenPorchSF   -0.00       -0.01         0.15     0.08         0.31   \n",
      "EnclosedPorch  0.00       -0.01         0.01    -0.02        -0.11   \n",
      "3SsnPorch     -0.05       -0.04         0.07     0.02         0.03   \n",
      "ScreenPorch    0.00       -0.03         0.04     0.04         0.06   \n",
      "PoolArea       0.06        0.01         0.21     0.08         0.07   \n",
      "MiscVal       -0.01       -0.01         0.00     0.04        -0.03   \n",
      "MoSold         0.02       -0.01         0.01     0.00         0.07   \n",
      "YrSold         0.00       -0.02         0.01    -0.01        -0.03   \n",
      "SalePrice     -0.02       -0.08         0.35     0.26         0.79   \n",
      "\n",
      "               OverallCond  YearBuilt  YearRemodAdd  MasVnrArea  BsmtFinSF1  \\\n",
      "Id                    0.01      -0.01         -0.02       -0.05       -0.01   \n",
      "MSSubClass           -0.06       0.03          0.04        0.02       -0.07   \n",
      "LotFrontage          -0.06       0.12          0.09        0.19        0.23   \n",
      "LotArea              -0.01       0.01          0.01        0.10        0.21   \n",
      "OverallQual          -0.09       0.57          0.55        0.41        0.24   \n",
      "OverallCond           1.00      -0.38          0.07       -0.13       -0.05   \n",
      "YearBuilt            -0.38       1.00          0.59        0.32        0.25   \n",
      "YearRemodAdd          0.07       0.59          1.00        0.18        0.13   \n",
      "MasVnrArea           -0.13       0.32          0.18        1.00        0.26   \n",
      "BsmtFinSF1           -0.05       0.25          0.13        0.26        1.00   \n",
      "BsmtFinSF2            0.04      -0.05         -0.07       -0.07       -0.05   \n",
      "BsmtUnfSF            -0.14       0.15          0.18        0.11       -0.50   \n",
      "TotalBsmtSF          -0.17       0.39          0.29        0.36        0.52   \n",
      "1stFlrSF             -0.14       0.28          0.24        0.34        0.45   \n",
      "2ndFlrSF              0.03       0.01          0.14        0.17       -0.14   \n",
      "LowQualFinSF          0.03      -0.18         -0.06       -0.07       -0.06   \n",
      "GrLivArea            -0.08       0.20          0.29        0.39        0.21   \n",
      "BsmtFullBath         -0.05       0.19          0.12        0.09        0.65   \n",
      "BsmtHalfBath          0.12      -0.04         -0.01        0.03        0.07   \n",
      "FullBath             -0.19       0.47          0.44        0.28        0.06   \n",
      "HalfBath             -0.06       0.24          0.18        0.20        0.00   \n",
      "BedroomAbvGr          0.01      -0.07         -0.04        0.10       -0.11   \n",
      "KitchenAbvGr         -0.09      -0.17         -0.15       -0.04       -0.08   \n",
      "TotRmsAbvGrd         -0.06       0.10          0.19        0.28        0.04   \n",
      "Fireplaces           -0.02       0.15          0.11        0.25        0.26   \n",
      "GarageYrBlt          -0.32       0.83          0.64        0.25        0.15   \n",
      "GarageCars           -0.19       0.54          0.42        0.36        0.22   \n",
      "GarageArea           -0.15       0.48          0.37        0.37        0.30   \n",
      "WoodDeckSF           -0.00       0.22          0.21        0.16        0.20   \n",
      "OpenPorchSF          -0.03       0.19          0.23        0.13        0.11   \n",
      "EnclosedPorch         0.07      -0.39         -0.19       -0.11       -0.10   \n",
      "3SsnPorch             0.03       0.03          0.05        0.02        0.03   \n",
      "ScreenPorch           0.05      -0.05         -0.04        0.06        0.06   \n",
      "PoolArea             -0.00       0.00          0.01        0.01        0.14   \n",
      "MiscVal               0.07      -0.03         -0.01       -0.03        0.00   \n",
      "MoSold               -0.00       0.01          0.02       -0.01       -0.02   \n",
      "YrSold                0.04      -0.01          0.04       -0.01        0.01   \n",
      "SalePrice            -0.08       0.52          0.51        0.48        0.39   \n",
      "\n",
      "               ...  WoodDeckSF  OpenPorchSF  EnclosedPorch  3SsnPorch  \\\n",
      "Id             ...       -0.03        -0.00           0.00      -0.05   \n",
      "MSSubClass     ...       -0.01        -0.01          -0.01      -0.04   \n",
      "LotFrontage    ...        0.09         0.15           0.01       0.07   \n",
      "LotArea        ...        0.17         0.08          -0.02       0.02   \n",
      "OverallQual    ...        0.24         0.31          -0.11       0.03   \n",
      "OverallCond    ...       -0.00        -0.03           0.07       0.03   \n",
      "YearBuilt      ...        0.22         0.19          -0.39       0.03   \n",
      "YearRemodAdd   ...        0.21         0.23          -0.19       0.05   \n",
      "MasVnrArea     ...        0.16         0.13          -0.11       0.02   \n",
      "BsmtFinSF1     ...        0.20         0.11          -0.10       0.03   \n",
      "BsmtFinSF2     ...        0.07         0.00           0.04      -0.03   \n",
      "BsmtUnfSF      ...       -0.01         0.13          -0.00       0.02   \n",
      "TotalBsmtSF    ...        0.23         0.25          -0.10       0.04   \n",
      "1stFlrSF       ...        0.24         0.21          -0.07       0.06   \n",
      "2ndFlrSF       ...        0.09         0.21           0.06      -0.02   \n",
      "LowQualFinSF   ...       -0.03         0.02           0.06      -0.00   \n",
      "GrLivArea      ...        0.25         0.33           0.01       0.02   \n",
      "BsmtFullBath   ...        0.18         0.07          -0.05      -0.00   \n",
      "BsmtHalfBath   ...        0.04        -0.03          -0.01       0.04   \n",
      "FullBath       ...        0.19         0.26          -0.12       0.04   \n",
      "HalfBath       ...        0.11         0.20          -0.10      -0.00   \n",
      "BedroomAbvGr   ...        0.05         0.09           0.04      -0.02   \n",
      "KitchenAbvGr   ...       -0.09        -0.07           0.04      -0.02   \n",
      "TotRmsAbvGrd   ...        0.17         0.23           0.00      -0.01   \n",
      "Fireplaces     ...        0.20         0.17          -0.02       0.01   \n",
      "GarageYrBlt    ...        0.22         0.23          -0.30       0.02   \n",
      "GarageCars     ...        0.23         0.21          -0.15       0.04   \n",
      "GarageArea     ...        0.22         0.24          -0.12       0.04   \n",
      "WoodDeckSF     ...        1.00         0.06          -0.13      -0.03   \n",
      "OpenPorchSF    ...        0.06         1.00          -0.09      -0.01   \n",
      "EnclosedPorch  ...       -0.13        -0.09           1.00      -0.04   \n",
      "3SsnPorch      ...       -0.03        -0.01          -0.04       1.00   \n",
      "ScreenPorch    ...       -0.07         0.07          -0.08      -0.03   \n",
      "PoolArea       ...        0.07         0.06           0.05      -0.01   \n",
      "MiscVal        ...       -0.01        -0.02           0.02       0.00   \n",
      "MoSold         ...        0.02         0.07          -0.03       0.03   \n",
      "YrSold         ...        0.02        -0.06          -0.01       0.02   \n",
      "SalePrice      ...        0.32         0.32          -0.13       0.04   \n",
      "\n",
      "               ScreenPorch  PoolArea  MiscVal  MoSold  YrSold  SalePrice  \n",
      "Id                    0.00      0.06    -0.01    0.02    0.00      -0.02  \n",
      "MSSubClass           -0.03      0.01    -0.01   -0.01   -0.02      -0.08  \n",
      "LotFrontage           0.04      0.21     0.00    0.01    0.01       0.35  \n",
      "LotArea               0.04      0.08     0.04    0.00   -0.01       0.26  \n",
      "OverallQual           0.06      0.07    -0.03    0.07   -0.03       0.79  \n",
      "OverallCond           0.05     -0.00     0.07   -0.00    0.04      -0.08  \n",
      "YearBuilt            -0.05      0.00    -0.03    0.01   -0.01       0.52  \n",
      "YearRemodAdd         -0.04      0.01    -0.01    0.02    0.04       0.51  \n",
      "MasVnrArea            0.06      0.01    -0.03   -0.01   -0.01       0.48  \n",
      "BsmtFinSF1            0.06      0.14     0.00   -0.02    0.01       0.39  \n",
      "BsmtFinSF2            0.09      0.04     0.00   -0.02    0.03      -0.01  \n",
      "BsmtUnfSF            -0.01     -0.04    -0.02    0.03   -0.04       0.21  \n",
      "TotalBsmtSF           0.08      0.13    -0.02    0.01   -0.01       0.61  \n",
      "1stFlrSF              0.09      0.13    -0.02    0.03   -0.01       0.61  \n",
      "2ndFlrSF              0.04      0.08     0.02    0.04   -0.03       0.32  \n",
      "LowQualFinSF          0.03      0.06    -0.00   -0.02   -0.03      -0.03  \n",
      "GrLivArea             0.10      0.17    -0.00    0.05   -0.04       0.71  \n",
      "BsmtFullBath          0.02      0.07    -0.02   -0.03    0.07       0.23  \n",
      "BsmtHalfBath          0.03      0.02    -0.01    0.03   -0.05      -0.02  \n",
      "FullBath             -0.01      0.05    -0.01    0.06   -0.02       0.56  \n",
      "HalfBath              0.07      0.02     0.00   -0.01   -0.01       0.28  \n",
      "BedroomAbvGr          0.04      0.07     0.01    0.05   -0.04       0.17  \n",
      "KitchenAbvGr         -0.05     -0.01     0.06    0.03    0.03      -0.14  \n",
      "TotRmsAbvGrd          0.06      0.08     0.02    0.04   -0.03       0.53  \n",
      "Fireplaces            0.18      0.10     0.00    0.05   -0.02       0.47  \n",
      "GarageYrBlt          -0.08     -0.01    -0.03    0.01   -0.00       0.49  \n",
      "GarageCars            0.05      0.02    -0.04    0.04   -0.04       0.64  \n",
      "GarageArea            0.05      0.06    -0.03    0.03   -0.03       0.62  \n",
      "WoodDeckSF           -0.07      0.07    -0.01    0.02    0.02       0.32  \n",
      "OpenPorchSF           0.07      0.06    -0.02    0.07   -0.06       0.32  \n",
      "EnclosedPorch        -0.08      0.05     0.02   -0.03   -0.01      -0.13  \n",
      "3SsnPorch            -0.03     -0.01     0.00    0.03    0.02       0.04  \n",
      "ScreenPorch           1.00      0.05     0.03    0.02    0.01       0.11  \n",
      "PoolArea              0.05      1.00     0.03   -0.03   -0.06       0.09  \n",
      "MiscVal               0.03      0.03     1.00   -0.01    0.00      -0.02  \n",
      "MoSold                0.02     -0.03    -0.01    1.00   -0.15       0.05  \n",
      "YrSold                0.01     -0.06     0.00   -0.15    1.00      -0.03  \n",
      "SalePrice             0.11      0.09    -0.02    0.05   -0.03       1.00  \n",
      "\n",
      "[38 rows x 38 columns]\n"
     ]
    }
   ],
   "source": [
    "# the plot above is not good, lets create a correlation dataframe for better undertsanding\n",
    "\n",
    "correlation_matrix = train_data.corr()\n",
    "\n",
    "#Round the correlation values to a specific number of decimal places\n",
    "correlation_matrix = correlation_matrix.round(2)\n",
    "\n",
    "# Print the correlation dataframe\n",
    "print(correlation_matrix)\n"
   ]
  },
  {
   "cell_type": "code",
   "execution_count": null,
   "metadata": {},
   "outputs": [],
   "source": []
  },
  {
   "attachments": {},
   "cell_type": "markdown",
   "metadata": {
    "tags": []
   },
   "source": [
    "# Step 3 - Exploratory Data Analysis (EDA)"
   ]
  },
  {
   "cell_type": "code",
   "execution_count": 20,
   "metadata": {},
   "outputs": [],
   "source": [
    "## Lets check for any nulls\n",
    "\n",
    "def check_nulls(df):\n",
    "    null_counts = df.isnull().sum()\n",
    "    columns_with_nulls = null_counts[null_counts > 0].index.tolist()\n",
    "    return columns_with_nulls\n"
   ]
  },
  {
   "cell_type": "code",
   "execution_count": 21,
   "metadata": {},
   "outputs": [
    {
     "data": {
      "text/plain": [
       "['LotFrontage',\n",
       " 'Alley',\n",
       " 'MasVnrType',\n",
       " 'MasVnrArea',\n",
       " 'BsmtQual',\n",
       " 'BsmtCond',\n",
       " 'BsmtExposure',\n",
       " 'BsmtFinType1',\n",
       " 'BsmtFinType2',\n",
       " 'Electrical',\n",
       " 'FireplaceQu',\n",
       " 'GarageType',\n",
       " 'GarageYrBlt',\n",
       " 'GarageFinish',\n",
       " 'GarageQual',\n",
       " 'GarageCond',\n",
       " 'PoolQC',\n",
       " 'Fence',\n",
       " 'MiscFeature']"
      ]
     },
     "execution_count": 21,
     "metadata": {},
     "output_type": "execute_result"
    }
   ],
   "source": [
    "check_nulls(train_data) "
   ]
  },
  {
   "cell_type": "code",
   "execution_count": 22,
   "metadata": {},
   "outputs": [],
   "source": [
    "def remove_nulls_cols(df, thershold):\n",
    "    # lets put condition on our columns to be filtered \n",
    "    null_cols = df.isnull().mean() > thershold\n",
    "    # consider the rest\n",
    "    df = df.loc[:, ~null_cols]\n",
    "    return df"
   ]
  },
  {
   "cell_type": "code",
   "execution_count": 23,
   "metadata": {},
   "outputs": [
    {
     "data": {
      "text/plain": [
       "(1460, 75)"
      ]
     },
     "execution_count": 23,
     "metadata": {},
     "output_type": "execute_result"
    }
   ],
   "source": [
    "train_data_new = remove_nulls_cols(train_data, 0.1)\n",
    "train_data_new.shape"
   ]
  },
  {
   "cell_type": "code",
   "execution_count": 24,
   "metadata": {},
   "outputs": [
    {
     "data": {
      "text/html": [
       "<div>\n",
       "<style scoped>\n",
       "    .dataframe tbody tr th:only-of-type {\n",
       "        vertical-align: middle;\n",
       "    }\n",
       "\n",
       "    .dataframe tbody tr th {\n",
       "        vertical-align: top;\n",
       "    }\n",
       "\n",
       "    .dataframe thead th {\n",
       "        text-align: right;\n",
       "    }\n",
       "</style>\n",
       "<table border=\"1\" class=\"dataframe\">\n",
       "  <thead>\n",
       "    <tr style=\"text-align: right;\">\n",
       "      <th></th>\n",
       "      <th>Id</th>\n",
       "      <th>MSSubClass</th>\n",
       "      <th>MSZoning</th>\n",
       "      <th>LotArea</th>\n",
       "      <th>Street</th>\n",
       "      <th>LotShape</th>\n",
       "      <th>LandContour</th>\n",
       "      <th>Utilities</th>\n",
       "      <th>LotConfig</th>\n",
       "      <th>LandSlope</th>\n",
       "      <th>...</th>\n",
       "      <th>EnclosedPorch</th>\n",
       "      <th>3SsnPorch</th>\n",
       "      <th>ScreenPorch</th>\n",
       "      <th>PoolArea</th>\n",
       "      <th>MiscVal</th>\n",
       "      <th>MoSold</th>\n",
       "      <th>YrSold</th>\n",
       "      <th>SaleType</th>\n",
       "      <th>SaleCondition</th>\n",
       "      <th>SalePrice</th>\n",
       "    </tr>\n",
       "  </thead>\n",
       "  <tbody>\n",
       "    <tr>\n",
       "      <th>0</th>\n",
       "      <td>1</td>\n",
       "      <td>60</td>\n",
       "      <td>RL</td>\n",
       "      <td>8450</td>\n",
       "      <td>Pave</td>\n",
       "      <td>Reg</td>\n",
       "      <td>Lvl</td>\n",
       "      <td>AllPub</td>\n",
       "      <td>Inside</td>\n",
       "      <td>Gtl</td>\n",
       "      <td>...</td>\n",
       "      <td>0</td>\n",
       "      <td>0</td>\n",
       "      <td>0</td>\n",
       "      <td>0</td>\n",
       "      <td>0</td>\n",
       "      <td>2</td>\n",
       "      <td>2008</td>\n",
       "      <td>WD</td>\n",
       "      <td>Normal</td>\n",
       "      <td>208500</td>\n",
       "    </tr>\n",
       "    <tr>\n",
       "      <th>1</th>\n",
       "      <td>2</td>\n",
       "      <td>20</td>\n",
       "      <td>RL</td>\n",
       "      <td>9600</td>\n",
       "      <td>Pave</td>\n",
       "      <td>Reg</td>\n",
       "      <td>Lvl</td>\n",
       "      <td>AllPub</td>\n",
       "      <td>FR2</td>\n",
       "      <td>Gtl</td>\n",
       "      <td>...</td>\n",
       "      <td>0</td>\n",
       "      <td>0</td>\n",
       "      <td>0</td>\n",
       "      <td>0</td>\n",
       "      <td>0</td>\n",
       "      <td>5</td>\n",
       "      <td>2007</td>\n",
       "      <td>WD</td>\n",
       "      <td>Normal</td>\n",
       "      <td>181500</td>\n",
       "    </tr>\n",
       "    <tr>\n",
       "      <th>2</th>\n",
       "      <td>3</td>\n",
       "      <td>60</td>\n",
       "      <td>RL</td>\n",
       "      <td>11250</td>\n",
       "      <td>Pave</td>\n",
       "      <td>IR1</td>\n",
       "      <td>Lvl</td>\n",
       "      <td>AllPub</td>\n",
       "      <td>Inside</td>\n",
       "      <td>Gtl</td>\n",
       "      <td>...</td>\n",
       "      <td>0</td>\n",
       "      <td>0</td>\n",
       "      <td>0</td>\n",
       "      <td>0</td>\n",
       "      <td>0</td>\n",
       "      <td>9</td>\n",
       "      <td>2008</td>\n",
       "      <td>WD</td>\n",
       "      <td>Normal</td>\n",
       "      <td>223500</td>\n",
       "    </tr>\n",
       "    <tr>\n",
       "      <th>3</th>\n",
       "      <td>4</td>\n",
       "      <td>70</td>\n",
       "      <td>RL</td>\n",
       "      <td>9550</td>\n",
       "      <td>Pave</td>\n",
       "      <td>IR1</td>\n",
       "      <td>Lvl</td>\n",
       "      <td>AllPub</td>\n",
       "      <td>Corner</td>\n",
       "      <td>Gtl</td>\n",
       "      <td>...</td>\n",
       "      <td>272</td>\n",
       "      <td>0</td>\n",
       "      <td>0</td>\n",
       "      <td>0</td>\n",
       "      <td>0</td>\n",
       "      <td>2</td>\n",
       "      <td>2006</td>\n",
       "      <td>WD</td>\n",
       "      <td>Abnorml</td>\n",
       "      <td>140000</td>\n",
       "    </tr>\n",
       "    <tr>\n",
       "      <th>4</th>\n",
       "      <td>5</td>\n",
       "      <td>60</td>\n",
       "      <td>RL</td>\n",
       "      <td>14260</td>\n",
       "      <td>Pave</td>\n",
       "      <td>IR1</td>\n",
       "      <td>Lvl</td>\n",
       "      <td>AllPub</td>\n",
       "      <td>FR2</td>\n",
       "      <td>Gtl</td>\n",
       "      <td>...</td>\n",
       "      <td>0</td>\n",
       "      <td>0</td>\n",
       "      <td>0</td>\n",
       "      <td>0</td>\n",
       "      <td>0</td>\n",
       "      <td>12</td>\n",
       "      <td>2008</td>\n",
       "      <td>WD</td>\n",
       "      <td>Normal</td>\n",
       "      <td>250000</td>\n",
       "    </tr>\n",
       "  </tbody>\n",
       "</table>\n",
       "<p>5 rows × 75 columns</p>\n",
       "</div>"
      ],
      "text/plain": [
       "   Id  MSSubClass MSZoning  LotArea Street LotShape LandContour Utilities  \\\n",
       "0   1          60       RL     8450   Pave      Reg         Lvl    AllPub   \n",
       "1   2          20       RL     9600   Pave      Reg         Lvl    AllPub   \n",
       "2   3          60       RL    11250   Pave      IR1         Lvl    AllPub   \n",
       "3   4          70       RL     9550   Pave      IR1         Lvl    AllPub   \n",
       "4   5          60       RL    14260   Pave      IR1         Lvl    AllPub   \n",
       "\n",
       "  LotConfig LandSlope  ... EnclosedPorch 3SsnPorch ScreenPorch PoolArea  \\\n",
       "0    Inside       Gtl  ...             0         0           0        0   \n",
       "1       FR2       Gtl  ...             0         0           0        0   \n",
       "2    Inside       Gtl  ...             0         0           0        0   \n",
       "3    Corner       Gtl  ...           272         0           0        0   \n",
       "4       FR2       Gtl  ...             0         0           0        0   \n",
       "\n",
       "  MiscVal  MoSold  YrSold  SaleType  SaleCondition SalePrice  \n",
       "0       0       2    2008        WD         Normal    208500  \n",
       "1       0       5    2007        WD         Normal    181500  \n",
       "2       0       9    2008        WD         Normal    223500  \n",
       "3       0       2    2006        WD        Abnorml    140000  \n",
       "4       0      12    2008        WD         Normal    250000  \n",
       "\n",
       "[5 rows x 75 columns]"
      ]
     },
     "execution_count": 24,
     "metadata": {},
     "output_type": "execute_result"
    }
   ],
   "source": [
    "train_data_new.head()"
   ]
  },
  {
   "cell_type": "code",
   "execution_count": 25,
   "metadata": {},
   "outputs": [],
   "source": [
    "# now, for the rest of the null values, lets do data imputation \n",
    "\n",
    "def data_imput(df):\n",
    "    for col in df.columns:\n",
    "        if df[col].dtype == \"float64\" or df[col].dtype == 'int64':\n",
    "            df[col] = df[col].fillna(df[col].mean())\n",
    "        elif df[col].dtype == 'object':\n",
    "            df[col] = df[col].fillna(df[col].mode().values[0])\n",
    "        else:\n",
    "            print(\"Column type not supported\")\n",
    "    \n",
    "    return df"
   ]
  },
  {
   "cell_type": "code",
   "execution_count": 26,
   "metadata": {},
   "outputs": [
    {
     "name": "stderr",
     "output_type": "stream",
     "text": [
      "c:\\Users\\siddh\\anaconda3\\envs\\rstudio-_1\\lib\\site-packages\\ipykernel_launcher.py:6: SettingWithCopyWarning: \n",
      "A value is trying to be set on a copy of a slice from a DataFrame.\n",
      "Try using .loc[row_indexer,col_indexer] = value instead\n",
      "\n",
      "See the caveats in the documentation: https://pandas.pydata.org/pandas-docs/stable/user_guide/indexing.html#returning-a-view-versus-a-copy\n",
      "  \n",
      "c:\\Users\\siddh\\anaconda3\\envs\\rstudio-_1\\lib\\site-packages\\ipykernel_launcher.py:8: SettingWithCopyWarning: \n",
      "A value is trying to be set on a copy of a slice from a DataFrame.\n",
      "Try using .loc[row_indexer,col_indexer] = value instead\n",
      "\n",
      "See the caveats in the documentation: https://pandas.pydata.org/pandas-docs/stable/user_guide/indexing.html#returning-a-view-versus-a-copy\n",
      "  \n"
     ]
    },
    {
     "data": {
      "text/plain": [
       "(1460, 75)"
      ]
     },
     "execution_count": 26,
     "metadata": {},
     "output_type": "execute_result"
    }
   ],
   "source": [
    "train_data = data_imput(train_data_new)\n",
    "train_data.shape"
   ]
  },
  {
   "cell_type": "code",
   "execution_count": 27,
   "metadata": {},
   "outputs": [
    {
     "data": {
      "text/plain": [
       "[]"
      ]
     },
     "execution_count": 27,
     "metadata": {},
     "output_type": "execute_result"
    }
   ],
   "source": [
    "check_nulls(train_data) "
   ]
  },
  {
   "cell_type": "code",
   "execution_count": 28,
   "metadata": {},
   "outputs": [
    {
     "name": "stdout",
     "output_type": "stream",
     "text": [
      "(1460, 37)\n"
     ]
    }
   ],
   "source": [
    "num_df = train_data.select_dtypes(include=np.number)\n",
    "print(num_df.shape)"
   ]
  },
  {
   "cell_type": "code",
   "execution_count": 29,
   "metadata": {},
   "outputs": [],
   "source": [
    "# Define a threshold for outlier detection (3 standard deviations from the mean)\n",
    "outlier_threshold = 4.5\n",
    "\n",
    "# Calculate the z-scores for the numerical columns\n",
    "z_scores = (num_df - num_df.mean()) / num_df.std(ddof=0)\n",
    "\n",
    "# Identify outlier rows in numerical columns\n",
    "outlier_rows_num = z_scores.apply(lambda x: any(x > outlier_threshold), axis=1)\n"
   ]
  },
  {
   "cell_type": "code",
   "execution_count": 30,
   "metadata": {},
   "outputs": [],
   "source": [
    "# Select the categorical columns in the dataset\n",
    "cat_cols = train_data.select_dtypes(include=['object']).columns\n",
    "cat_df = train_data[cat_cols]\n",
    "\n",
    "# Identify outlier rows in categorical columns\n",
    "outlier_rows_cat = cat_df.apply(lambda x: any(x == \"\"), axis=1)\n",
    "\n",
    "# Combine outlier rows from both numerical and categorical columns\n",
    "outlier_rows = outlier_rows_num | outlier_rows_cat\n"
   ]
  },
  {
   "cell_type": "code",
   "execution_count": 31,
   "metadata": {},
   "outputs": [
    {
     "name": "stdout",
     "output_type": "stream",
     "text": [
      "Number of outliers detected: Total: 118\n"
     ]
    }
   ],
   "source": [
    "# Print the number of detected outliers for each column type\n",
    "print(\"Number of outliers detected:\", f\"Total: {sum(outlier_rows)}\")"
   ]
  },
  {
   "cell_type": "code",
   "execution_count": 32,
   "metadata": {},
   "outputs": [
    {
     "data": {
      "text/plain": [
       "(1342, 75)"
      ]
     },
     "execution_count": 32,
     "metadata": {},
     "output_type": "execute_result"
    }
   ],
   "source": [
    "# Remove the outlier rows from the dataset\n",
    "train_data_clean = train_data[~outlier_rows]\n",
    "train_data_clean.shape"
   ]
  },
  {
   "cell_type": "code",
   "execution_count": 33,
   "metadata": {},
   "outputs": [
    {
     "name": "stdout",
     "output_type": "stream",
     "text": [
      "              var1          var2     value\n",
      "147    OverallQual     SalePrice  0.790982\n",
      "209      YearBuilt   GarageYrBlt  0.780555\n",
      "419    TotalBsmtSF      1stFlrSF  0.819530\n",
      "455       1stFlrSF   TotalBsmtSF  0.819530\n",
      "577      GrLivArea  TotRmsAbvGrd  0.825489\n",
      "829   TotRmsAbvGrd     GrLivArea  0.825489\n",
      "893    GarageYrBlt     YearBuilt  0.780555\n",
      "951     GarageCars    GarageArea  0.882475\n",
      "987     GarageArea    GarageCars  0.882475\n",
      "1335     SalePrice   OverallQual  0.790982\n"
     ]
    }
   ],
   "source": [
    "# Now, in EDA we saw the correlation plot too, lets remove the highly correlated variables, so that it wont result poor performance\n",
    "\n",
    "# Assuming you have a DataFrame called 'train_data' containing your data\n",
    "corr_matrix = train_data.corr()\n",
    "\n",
    "# Convert correlation matrix to a long-form DataFrame\n",
    "d2 = corr_matrix.stack().reset_index()\n",
    "d2.columns = ['var1', 'var2', 'value']\n",
    "\n",
    "# Filter out the variables to remove based on the condition\n",
    "to_remove = d2[((d2['value'] > 0.75) | (d2['value'] < -0.75)) & (d2['var1'] != d2['var2'])]\n",
    "\n",
    "print(to_remove)\n"
   ]
  },
  {
   "cell_type": "code",
   "execution_count": 34,
   "metadata": {},
   "outputs": [
    {
     "data": {
      "text/plain": [
       "(1342, 67)"
      ]
     },
     "execution_count": 34,
     "metadata": {},
     "output_type": "execute_result"
    }
   ],
   "source": [
    "# based on high correlation I have choosen following eight columns to drop\n",
    "\n",
    "train_data_final = train_data_clean.drop(['Exterior1st','GarageArea','GrLivArea','Exterior2nd','TotRmsAbvGrd','GarageCars','GarageCond','GarageQual'], axis =1)\n",
    "train_data_final.shape"
   ]
  },
  {
   "cell_type": "code",
   "execution_count": 35,
   "metadata": {},
   "outputs": [
    {
     "data": {
      "text/html": [
       "<div>\n",
       "<style scoped>\n",
       "    .dataframe tbody tr th:only-of-type {\n",
       "        vertical-align: middle;\n",
       "    }\n",
       "\n",
       "    .dataframe tbody tr th {\n",
       "        vertical-align: top;\n",
       "    }\n",
       "\n",
       "    .dataframe thead th {\n",
       "        text-align: right;\n",
       "    }\n",
       "</style>\n",
       "<table border=\"1\" class=\"dataframe\">\n",
       "  <thead>\n",
       "    <tr style=\"text-align: right;\">\n",
       "      <th></th>\n",
       "      <th>Id</th>\n",
       "      <th>MSSubClass</th>\n",
       "      <th>MSZoning</th>\n",
       "      <th>LotArea</th>\n",
       "      <th>Street</th>\n",
       "      <th>LotShape</th>\n",
       "      <th>LandContour</th>\n",
       "      <th>Utilities</th>\n",
       "      <th>LotConfig</th>\n",
       "      <th>LandSlope</th>\n",
       "      <th>...</th>\n",
       "      <th>EnclosedPorch</th>\n",
       "      <th>3SsnPorch</th>\n",
       "      <th>ScreenPorch</th>\n",
       "      <th>PoolArea</th>\n",
       "      <th>MiscVal</th>\n",
       "      <th>MoSold</th>\n",
       "      <th>YrSold</th>\n",
       "      <th>SaleType</th>\n",
       "      <th>SaleCondition</th>\n",
       "      <th>SalePrice</th>\n",
       "    </tr>\n",
       "  </thead>\n",
       "  <tbody>\n",
       "    <tr>\n",
       "      <th>0</th>\n",
       "      <td>1</td>\n",
       "      <td>60</td>\n",
       "      <td>RL</td>\n",
       "      <td>8450</td>\n",
       "      <td>Pave</td>\n",
       "      <td>Reg</td>\n",
       "      <td>Lvl</td>\n",
       "      <td>AllPub</td>\n",
       "      <td>Inside</td>\n",
       "      <td>Gtl</td>\n",
       "      <td>...</td>\n",
       "      <td>0</td>\n",
       "      <td>0</td>\n",
       "      <td>0</td>\n",
       "      <td>0</td>\n",
       "      <td>0</td>\n",
       "      <td>2</td>\n",
       "      <td>2008</td>\n",
       "      <td>WD</td>\n",
       "      <td>Normal</td>\n",
       "      <td>208500</td>\n",
       "    </tr>\n",
       "    <tr>\n",
       "      <th>1</th>\n",
       "      <td>2</td>\n",
       "      <td>20</td>\n",
       "      <td>RL</td>\n",
       "      <td>9600</td>\n",
       "      <td>Pave</td>\n",
       "      <td>Reg</td>\n",
       "      <td>Lvl</td>\n",
       "      <td>AllPub</td>\n",
       "      <td>FR2</td>\n",
       "      <td>Gtl</td>\n",
       "      <td>...</td>\n",
       "      <td>0</td>\n",
       "      <td>0</td>\n",
       "      <td>0</td>\n",
       "      <td>0</td>\n",
       "      <td>0</td>\n",
       "      <td>5</td>\n",
       "      <td>2007</td>\n",
       "      <td>WD</td>\n",
       "      <td>Normal</td>\n",
       "      <td>181500</td>\n",
       "    </tr>\n",
       "    <tr>\n",
       "      <th>2</th>\n",
       "      <td>3</td>\n",
       "      <td>60</td>\n",
       "      <td>RL</td>\n",
       "      <td>11250</td>\n",
       "      <td>Pave</td>\n",
       "      <td>IR1</td>\n",
       "      <td>Lvl</td>\n",
       "      <td>AllPub</td>\n",
       "      <td>Inside</td>\n",
       "      <td>Gtl</td>\n",
       "      <td>...</td>\n",
       "      <td>0</td>\n",
       "      <td>0</td>\n",
       "      <td>0</td>\n",
       "      <td>0</td>\n",
       "      <td>0</td>\n",
       "      <td>9</td>\n",
       "      <td>2008</td>\n",
       "      <td>WD</td>\n",
       "      <td>Normal</td>\n",
       "      <td>223500</td>\n",
       "    </tr>\n",
       "    <tr>\n",
       "      <th>3</th>\n",
       "      <td>4</td>\n",
       "      <td>70</td>\n",
       "      <td>RL</td>\n",
       "      <td>9550</td>\n",
       "      <td>Pave</td>\n",
       "      <td>IR1</td>\n",
       "      <td>Lvl</td>\n",
       "      <td>AllPub</td>\n",
       "      <td>Corner</td>\n",
       "      <td>Gtl</td>\n",
       "      <td>...</td>\n",
       "      <td>272</td>\n",
       "      <td>0</td>\n",
       "      <td>0</td>\n",
       "      <td>0</td>\n",
       "      <td>0</td>\n",
       "      <td>2</td>\n",
       "      <td>2006</td>\n",
       "      <td>WD</td>\n",
       "      <td>Abnorml</td>\n",
       "      <td>140000</td>\n",
       "    </tr>\n",
       "    <tr>\n",
       "      <th>4</th>\n",
       "      <td>5</td>\n",
       "      <td>60</td>\n",
       "      <td>RL</td>\n",
       "      <td>14260</td>\n",
       "      <td>Pave</td>\n",
       "      <td>IR1</td>\n",
       "      <td>Lvl</td>\n",
       "      <td>AllPub</td>\n",
       "      <td>FR2</td>\n",
       "      <td>Gtl</td>\n",
       "      <td>...</td>\n",
       "      <td>0</td>\n",
       "      <td>0</td>\n",
       "      <td>0</td>\n",
       "      <td>0</td>\n",
       "      <td>0</td>\n",
       "      <td>12</td>\n",
       "      <td>2008</td>\n",
       "      <td>WD</td>\n",
       "      <td>Normal</td>\n",
       "      <td>250000</td>\n",
       "    </tr>\n",
       "  </tbody>\n",
       "</table>\n",
       "<p>5 rows × 67 columns</p>\n",
       "</div>"
      ],
      "text/plain": [
       "   Id  MSSubClass MSZoning  LotArea Street LotShape LandContour Utilities  \\\n",
       "0   1          60       RL     8450   Pave      Reg         Lvl    AllPub   \n",
       "1   2          20       RL     9600   Pave      Reg         Lvl    AllPub   \n",
       "2   3          60       RL    11250   Pave      IR1         Lvl    AllPub   \n",
       "3   4          70       RL     9550   Pave      IR1         Lvl    AllPub   \n",
       "4   5          60       RL    14260   Pave      IR1         Lvl    AllPub   \n",
       "\n",
       "  LotConfig LandSlope  ... EnclosedPorch 3SsnPorch ScreenPorch PoolArea  \\\n",
       "0    Inside       Gtl  ...             0         0           0        0   \n",
       "1       FR2       Gtl  ...             0         0           0        0   \n",
       "2    Inside       Gtl  ...             0         0           0        0   \n",
       "3    Corner       Gtl  ...           272         0           0        0   \n",
       "4       FR2       Gtl  ...             0         0           0        0   \n",
       "\n",
       "  MiscVal  MoSold  YrSold  SaleType  SaleCondition SalePrice  \n",
       "0       0       2    2008        WD         Normal    208500  \n",
       "1       0       5    2007        WD         Normal    181500  \n",
       "2       0       9    2008        WD         Normal    223500  \n",
       "3       0       2    2006        WD        Abnorml    140000  \n",
       "4       0      12    2008        WD         Normal    250000  \n",
       "\n",
       "[5 rows x 67 columns]"
      ]
     },
     "execution_count": 35,
     "metadata": {},
     "output_type": "execute_result"
    }
   ],
   "source": [
    "train_data_final.head()"
   ]
  },
  {
   "attachments": {},
   "cell_type": "markdown",
   "metadata": {},
   "source": [
    "# Step 4 - Data Preparation"
   ]
  },
  {
   "cell_type": "code",
   "execution_count": 36,
   "metadata": {},
   "outputs": [
    {
     "data": {
      "text/plain": [
       "(1342, 66)"
      ]
     },
     "execution_count": 36,
     "metadata": {},
     "output_type": "execute_result"
    }
   ],
   "source": [
    "train_data = train_data_final.drop('Id', axis = 1)\n",
    "train_data.shape"
   ]
  },
  {
   "cell_type": "code",
   "execution_count": 37,
   "metadata": {},
   "outputs": [
    {
     "data": {
      "text/plain": [
       "((1342, 65), (1342,))"
      ]
     },
     "execution_count": 37,
     "metadata": {},
     "output_type": "execute_result"
    }
   ],
   "source": [
    "# now lets perform train-test split\n",
    "\n",
    "X = train_data.drop('SalePrice', axis = 1)\n",
    "y = train_data['SalePrice']\n",
    "\n",
    "X.shape, y.shape"
   ]
  },
  {
   "cell_type": "code",
   "execution_count": 38,
   "metadata": {},
   "outputs": [
    {
     "name": "stderr",
     "output_type": "stream",
     "text": [
      "c:\\Users\\siddh\\anaconda3\\envs\\rstudio-_1\\lib\\site-packages\\ipykernel_launcher.py:2: DeprecationWarning: `np.object` is a deprecated alias for the builtin `object`. To silence this warning, use `object` by itself. Doing this will not modify any behavior and is safe. \n",
      "Deprecated in NumPy 1.20; for more details and guidance: https://numpy.org/devdocs/release/1.20.0-notes.html#deprecations\n",
      "  \n"
     ]
    }
   ],
   "source": [
    "# subset all categorical variables\n",
    "cars_categorical = X.select_dtypes(include= np.object)\n",
    "cars_num = X.select_dtypes(include = np.number)"
   ]
  },
  {
   "cell_type": "code",
   "execution_count": 39,
   "metadata": {},
   "outputs": [
    {
     "data": {
      "text/plain": [
       "(1342, 34)"
      ]
     },
     "execution_count": 39,
     "metadata": {},
     "output_type": "execute_result"
    }
   ],
   "source": [
    "cars_categorical.shape"
   ]
  },
  {
   "cell_type": "code",
   "execution_count": 40,
   "metadata": {},
   "outputs": [
    {
     "data": {
      "text/plain": [
       "(1342, 31)"
      ]
     },
     "execution_count": 40,
     "metadata": {},
     "output_type": "execute_result"
    }
   ],
   "source": [
    "cars_num.shape"
   ]
  },
  {
   "cell_type": "code",
   "execution_count": 41,
   "metadata": {},
   "outputs": [],
   "source": [
    "# using ordinal encoder\n",
    "from sklearn.preprocessing import OrdinalEncoder\n",
    "encoding = OrdinalEncoder()"
   ]
  },
  {
   "cell_type": "code",
   "execution_count": 42,
   "metadata": {},
   "outputs": [],
   "source": [
    "cat_cols = cars_categorical.columns.tolist()"
   ]
  },
  {
   "cell_type": "code",
   "execution_count": 43,
   "metadata": {},
   "outputs": [
    {
     "data": {
      "text/html": [
       "<div>\n",
       "<style scoped>\n",
       "    .dataframe tbody tr th:only-of-type {\n",
       "        vertical-align: middle;\n",
       "    }\n",
       "\n",
       "    .dataframe tbody tr th {\n",
       "        vertical-align: top;\n",
       "    }\n",
       "\n",
       "    .dataframe thead th {\n",
       "        text-align: right;\n",
       "    }\n",
       "</style>\n",
       "<table border=\"1\" class=\"dataframe\">\n",
       "  <thead>\n",
       "    <tr style=\"text-align: right;\">\n",
       "      <th></th>\n",
       "      <th>MSZoning</th>\n",
       "      <th>Street</th>\n",
       "      <th>LotShape</th>\n",
       "      <th>LandContour</th>\n",
       "      <th>Utilities</th>\n",
       "      <th>LotConfig</th>\n",
       "      <th>LandSlope</th>\n",
       "      <th>Neighborhood</th>\n",
       "      <th>Condition1</th>\n",
       "      <th>Condition2</th>\n",
       "      <th>...</th>\n",
       "      <th>HeatingQC</th>\n",
       "      <th>CentralAir</th>\n",
       "      <th>Electrical</th>\n",
       "      <th>KitchenQual</th>\n",
       "      <th>Functional</th>\n",
       "      <th>GarageType</th>\n",
       "      <th>GarageFinish</th>\n",
       "      <th>PavedDrive</th>\n",
       "      <th>SaleType</th>\n",
       "      <th>SaleCondition</th>\n",
       "    </tr>\n",
       "  </thead>\n",
       "  <tbody>\n",
       "    <tr>\n",
       "      <th>0</th>\n",
       "      <td>3.0</td>\n",
       "      <td>1.0</td>\n",
       "      <td>3.0</td>\n",
       "      <td>3.0</td>\n",
       "      <td>0.0</td>\n",
       "      <td>4.0</td>\n",
       "      <td>0.0</td>\n",
       "      <td>5.0</td>\n",
       "      <td>2.0</td>\n",
       "      <td>2.0</td>\n",
       "      <td>...</td>\n",
       "      <td>0.0</td>\n",
       "      <td>1.0</td>\n",
       "      <td>4.0</td>\n",
       "      <td>2.0</td>\n",
       "      <td>6.0</td>\n",
       "      <td>1.0</td>\n",
       "      <td>1.0</td>\n",
       "      <td>2.0</td>\n",
       "      <td>8.0</td>\n",
       "      <td>4.0</td>\n",
       "    </tr>\n",
       "    <tr>\n",
       "      <th>1</th>\n",
       "      <td>3.0</td>\n",
       "      <td>1.0</td>\n",
       "      <td>3.0</td>\n",
       "      <td>3.0</td>\n",
       "      <td>0.0</td>\n",
       "      <td>2.0</td>\n",
       "      <td>0.0</td>\n",
       "      <td>24.0</td>\n",
       "      <td>1.0</td>\n",
       "      <td>2.0</td>\n",
       "      <td>...</td>\n",
       "      <td>0.0</td>\n",
       "      <td>1.0</td>\n",
       "      <td>4.0</td>\n",
       "      <td>3.0</td>\n",
       "      <td>6.0</td>\n",
       "      <td>1.0</td>\n",
       "      <td>1.0</td>\n",
       "      <td>2.0</td>\n",
       "      <td>8.0</td>\n",
       "      <td>4.0</td>\n",
       "    </tr>\n",
       "    <tr>\n",
       "      <th>2</th>\n",
       "      <td>3.0</td>\n",
       "      <td>1.0</td>\n",
       "      <td>0.0</td>\n",
       "      <td>3.0</td>\n",
       "      <td>0.0</td>\n",
       "      <td>4.0</td>\n",
       "      <td>0.0</td>\n",
       "      <td>5.0</td>\n",
       "      <td>2.0</td>\n",
       "      <td>2.0</td>\n",
       "      <td>...</td>\n",
       "      <td>0.0</td>\n",
       "      <td>1.0</td>\n",
       "      <td>4.0</td>\n",
       "      <td>2.0</td>\n",
       "      <td>6.0</td>\n",
       "      <td>1.0</td>\n",
       "      <td>1.0</td>\n",
       "      <td>2.0</td>\n",
       "      <td>8.0</td>\n",
       "      <td>4.0</td>\n",
       "    </tr>\n",
       "    <tr>\n",
       "      <th>3</th>\n",
       "      <td>3.0</td>\n",
       "      <td>1.0</td>\n",
       "      <td>0.0</td>\n",
       "      <td>3.0</td>\n",
       "      <td>0.0</td>\n",
       "      <td>0.0</td>\n",
       "      <td>0.0</td>\n",
       "      <td>6.0</td>\n",
       "      <td>2.0</td>\n",
       "      <td>2.0</td>\n",
       "      <td>...</td>\n",
       "      <td>2.0</td>\n",
       "      <td>1.0</td>\n",
       "      <td>4.0</td>\n",
       "      <td>2.0</td>\n",
       "      <td>6.0</td>\n",
       "      <td>5.0</td>\n",
       "      <td>2.0</td>\n",
       "      <td>2.0</td>\n",
       "      <td>8.0</td>\n",
       "      <td>0.0</td>\n",
       "    </tr>\n",
       "    <tr>\n",
       "      <th>4</th>\n",
       "      <td>3.0</td>\n",
       "      <td>1.0</td>\n",
       "      <td>0.0</td>\n",
       "      <td>3.0</td>\n",
       "      <td>0.0</td>\n",
       "      <td>2.0</td>\n",
       "      <td>0.0</td>\n",
       "      <td>15.0</td>\n",
       "      <td>2.0</td>\n",
       "      <td>2.0</td>\n",
       "      <td>...</td>\n",
       "      <td>0.0</td>\n",
       "      <td>1.0</td>\n",
       "      <td>4.0</td>\n",
       "      <td>2.0</td>\n",
       "      <td>6.0</td>\n",
       "      <td>1.0</td>\n",
       "      <td>1.0</td>\n",
       "      <td>2.0</td>\n",
       "      <td>8.0</td>\n",
       "      <td>4.0</td>\n",
       "    </tr>\n",
       "  </tbody>\n",
       "</table>\n",
       "<p>5 rows × 34 columns</p>\n",
       "</div>"
      ],
      "text/plain": [
       "   MSZoning  Street  LotShape  LandContour  Utilities  LotConfig  LandSlope  \\\n",
       "0       3.0     1.0       3.0          3.0        0.0        4.0        0.0   \n",
       "1       3.0     1.0       3.0          3.0        0.0        2.0        0.0   \n",
       "2       3.0     1.0       0.0          3.0        0.0        4.0        0.0   \n",
       "3       3.0     1.0       0.0          3.0        0.0        0.0        0.0   \n",
       "4       3.0     1.0       0.0          3.0        0.0        2.0        0.0   \n",
       "\n",
       "   Neighborhood  Condition1  Condition2  ...  HeatingQC  CentralAir  \\\n",
       "0           5.0         2.0         2.0  ...        0.0         1.0   \n",
       "1          24.0         1.0         2.0  ...        0.0         1.0   \n",
       "2           5.0         2.0         2.0  ...        0.0         1.0   \n",
       "3           6.0         2.0         2.0  ...        2.0         1.0   \n",
       "4          15.0         2.0         2.0  ...        0.0         1.0   \n",
       "\n",
       "   Electrical  KitchenQual  Functional  GarageType  GarageFinish  PavedDrive  \\\n",
       "0         4.0          2.0         6.0         1.0           1.0         2.0   \n",
       "1         4.0          3.0         6.0         1.0           1.0         2.0   \n",
       "2         4.0          2.0         6.0         1.0           1.0         2.0   \n",
       "3         4.0          2.0         6.0         5.0           2.0         2.0   \n",
       "4         4.0          2.0         6.0         1.0           1.0         2.0   \n",
       "\n",
       "   SaleType  SaleCondition  \n",
       "0       8.0            4.0  \n",
       "1       8.0            4.0  \n",
       "2       8.0            4.0  \n",
       "3       8.0            0.0  \n",
       "4       8.0            4.0  \n",
       "\n",
       "[5 rows x 34 columns]"
      ]
     },
     "execution_count": 43,
     "metadata": {},
     "output_type": "execute_result"
    }
   ],
   "source": [
    "encoding.fit(cars_categorical[cat_cols])\n",
    "cat_en = encoding.transform(cars_categorical[cat_cols])\n",
    "cat_en=pd.DataFrame(cat_en,columns=cat_cols)\n",
    "cars_categorical.reset_index(inplace=True,drop=True)\n",
    "cat_en.head()"
   ]
  },
  {
   "cell_type": "code",
   "execution_count": 44,
   "metadata": {},
   "outputs": [
    {
     "data": {
      "text/plain": [
       "(1342, 65)"
      ]
     },
     "execution_count": 44,
     "metadata": {},
     "output_type": "execute_result"
    }
   ],
   "source": [
    "cars_num.reset_index(inplace=True,drop=True)\n",
    "cat_en.reset_index(inplace=True,drop=True)\n",
    "\n",
    "final_train_data = pd.concat([cars_num,cat_en],axis=1)\n",
    "final_train_data.shape"
   ]
  },
  {
   "cell_type": "code",
   "execution_count": 45,
   "metadata": {},
   "outputs": [
    {
     "data": {
      "text/html": [
       "<div>\n",
       "<style scoped>\n",
       "    .dataframe tbody tr th:only-of-type {\n",
       "        vertical-align: middle;\n",
       "    }\n",
       "\n",
       "    .dataframe tbody tr th {\n",
       "        vertical-align: top;\n",
       "    }\n",
       "\n",
       "    .dataframe thead th {\n",
       "        text-align: right;\n",
       "    }\n",
       "</style>\n",
       "<table border=\"1\" class=\"dataframe\">\n",
       "  <thead>\n",
       "    <tr style=\"text-align: right;\">\n",
       "      <th></th>\n",
       "      <th>MSSubClass</th>\n",
       "      <th>LotArea</th>\n",
       "      <th>OverallQual</th>\n",
       "      <th>OverallCond</th>\n",
       "      <th>YearBuilt</th>\n",
       "      <th>YearRemodAdd</th>\n",
       "      <th>MasVnrArea</th>\n",
       "      <th>BsmtFinSF1</th>\n",
       "      <th>BsmtFinSF2</th>\n",
       "      <th>BsmtUnfSF</th>\n",
       "      <th>...</th>\n",
       "      <th>HeatingQC</th>\n",
       "      <th>CentralAir</th>\n",
       "      <th>Electrical</th>\n",
       "      <th>KitchenQual</th>\n",
       "      <th>Functional</th>\n",
       "      <th>GarageType</th>\n",
       "      <th>GarageFinish</th>\n",
       "      <th>PavedDrive</th>\n",
       "      <th>SaleType</th>\n",
       "      <th>SaleCondition</th>\n",
       "    </tr>\n",
       "  </thead>\n",
       "  <tbody>\n",
       "    <tr>\n",
       "      <th>0</th>\n",
       "      <td>60</td>\n",
       "      <td>8450</td>\n",
       "      <td>7</td>\n",
       "      <td>5</td>\n",
       "      <td>2003</td>\n",
       "      <td>2003</td>\n",
       "      <td>196.0</td>\n",
       "      <td>706</td>\n",
       "      <td>0</td>\n",
       "      <td>150</td>\n",
       "      <td>...</td>\n",
       "      <td>0.0</td>\n",
       "      <td>1.0</td>\n",
       "      <td>4.0</td>\n",
       "      <td>2.0</td>\n",
       "      <td>6.0</td>\n",
       "      <td>1.0</td>\n",
       "      <td>1.0</td>\n",
       "      <td>2.0</td>\n",
       "      <td>8.0</td>\n",
       "      <td>4.0</td>\n",
       "    </tr>\n",
       "    <tr>\n",
       "      <th>1</th>\n",
       "      <td>20</td>\n",
       "      <td>9600</td>\n",
       "      <td>6</td>\n",
       "      <td>8</td>\n",
       "      <td>1976</td>\n",
       "      <td>1976</td>\n",
       "      <td>0.0</td>\n",
       "      <td>978</td>\n",
       "      <td>0</td>\n",
       "      <td>284</td>\n",
       "      <td>...</td>\n",
       "      <td>0.0</td>\n",
       "      <td>1.0</td>\n",
       "      <td>4.0</td>\n",
       "      <td>3.0</td>\n",
       "      <td>6.0</td>\n",
       "      <td>1.0</td>\n",
       "      <td>1.0</td>\n",
       "      <td>2.0</td>\n",
       "      <td>8.0</td>\n",
       "      <td>4.0</td>\n",
       "    </tr>\n",
       "    <tr>\n",
       "      <th>2</th>\n",
       "      <td>60</td>\n",
       "      <td>11250</td>\n",
       "      <td>7</td>\n",
       "      <td>5</td>\n",
       "      <td>2001</td>\n",
       "      <td>2002</td>\n",
       "      <td>162.0</td>\n",
       "      <td>486</td>\n",
       "      <td>0</td>\n",
       "      <td>434</td>\n",
       "      <td>...</td>\n",
       "      <td>0.0</td>\n",
       "      <td>1.0</td>\n",
       "      <td>4.0</td>\n",
       "      <td>2.0</td>\n",
       "      <td>6.0</td>\n",
       "      <td>1.0</td>\n",
       "      <td>1.0</td>\n",
       "      <td>2.0</td>\n",
       "      <td>8.0</td>\n",
       "      <td>4.0</td>\n",
       "    </tr>\n",
       "    <tr>\n",
       "      <th>3</th>\n",
       "      <td>70</td>\n",
       "      <td>9550</td>\n",
       "      <td>7</td>\n",
       "      <td>5</td>\n",
       "      <td>1915</td>\n",
       "      <td>1970</td>\n",
       "      <td>0.0</td>\n",
       "      <td>216</td>\n",
       "      <td>0</td>\n",
       "      <td>540</td>\n",
       "      <td>...</td>\n",
       "      <td>2.0</td>\n",
       "      <td>1.0</td>\n",
       "      <td>4.0</td>\n",
       "      <td>2.0</td>\n",
       "      <td>6.0</td>\n",
       "      <td>5.0</td>\n",
       "      <td>2.0</td>\n",
       "      <td>2.0</td>\n",
       "      <td>8.0</td>\n",
       "      <td>0.0</td>\n",
       "    </tr>\n",
       "    <tr>\n",
       "      <th>4</th>\n",
       "      <td>60</td>\n",
       "      <td>14260</td>\n",
       "      <td>8</td>\n",
       "      <td>5</td>\n",
       "      <td>2000</td>\n",
       "      <td>2000</td>\n",
       "      <td>350.0</td>\n",
       "      <td>655</td>\n",
       "      <td>0</td>\n",
       "      <td>490</td>\n",
       "      <td>...</td>\n",
       "      <td>0.0</td>\n",
       "      <td>1.0</td>\n",
       "      <td>4.0</td>\n",
       "      <td>2.0</td>\n",
       "      <td>6.0</td>\n",
       "      <td>1.0</td>\n",
       "      <td>1.0</td>\n",
       "      <td>2.0</td>\n",
       "      <td>8.0</td>\n",
       "      <td>4.0</td>\n",
       "    </tr>\n",
       "  </tbody>\n",
       "</table>\n",
       "<p>5 rows × 65 columns</p>\n",
       "</div>"
      ],
      "text/plain": [
       "   MSSubClass  LotArea  OverallQual  OverallCond  YearBuilt  YearRemodAdd  \\\n",
       "0          60     8450            7            5       2003          2003   \n",
       "1          20     9600            6            8       1976          1976   \n",
       "2          60    11250            7            5       2001          2002   \n",
       "3          70     9550            7            5       1915          1970   \n",
       "4          60    14260            8            5       2000          2000   \n",
       "\n",
       "   MasVnrArea  BsmtFinSF1  BsmtFinSF2  BsmtUnfSF  ...  HeatingQC  CentralAir  \\\n",
       "0       196.0         706           0        150  ...        0.0         1.0   \n",
       "1         0.0         978           0        284  ...        0.0         1.0   \n",
       "2       162.0         486           0        434  ...        0.0         1.0   \n",
       "3         0.0         216           0        540  ...        2.0         1.0   \n",
       "4       350.0         655           0        490  ...        0.0         1.0   \n",
       "\n",
       "   Electrical  KitchenQual  Functional  GarageType  GarageFinish  PavedDrive  \\\n",
       "0         4.0          2.0         6.0         1.0           1.0         2.0   \n",
       "1         4.0          3.0         6.0         1.0           1.0         2.0   \n",
       "2         4.0          2.0         6.0         1.0           1.0         2.0   \n",
       "3         4.0          2.0         6.0         5.0           2.0         2.0   \n",
       "4         4.0          2.0         6.0         1.0           1.0         2.0   \n",
       "\n",
       "   SaleType  SaleCondition  \n",
       "0       8.0            4.0  \n",
       "1       8.0            4.0  \n",
       "2       8.0            4.0  \n",
       "3       8.0            0.0  \n",
       "4       8.0            4.0  \n",
       "\n",
       "[5 rows x 65 columns]"
      ]
     },
     "execution_count": 45,
     "metadata": {},
     "output_type": "execute_result"
    }
   ],
   "source": [
    "final_train_data.head()"
   ]
  },
  {
   "cell_type": "code",
   "execution_count": 46,
   "metadata": {},
   "outputs": [],
   "source": [
    "from sklearn.model_selection import train_test_split"
   ]
  },
  {
   "cell_type": "code",
   "execution_count": 47,
   "metadata": {},
   "outputs": [
    {
     "data": {
      "text/plain": [
       "((939, 65), (403, 65), (939,), (403,))"
      ]
     },
     "execution_count": 47,
     "metadata": {},
     "output_type": "execute_result"
    }
   ],
   "source": [
    "# since we already have a test data, lets do train-validation \n",
    "X_train, X_val, y_train, y_val = train_test_split(final_train_data, y, test_size = 0.3, random_state = 100)\n",
    "X_train.shape, X_val.shape, y_train.shape, y_val.shape"
   ]
  },
  {
   "cell_type": "code",
   "execution_count": 48,
   "metadata": {},
   "outputs": [],
   "source": [
    "from sklearn.preprocessing import StandardScaler\n",
    "scaler = StandardScaler()"
   ]
  },
  {
   "cell_type": "code",
   "execution_count": 49,
   "metadata": {},
   "outputs": [],
   "source": [
    "X_train = scaler.fit_transform(X_train)\n",
    "X_val = scaler.transform(X_val)"
   ]
  },
  {
   "attachments": {},
   "cell_type": "markdown",
   "metadata": {},
   "source": [
    "# Step 5 - Lets build our models"
   ]
  },
  {
   "cell_type": "code",
   "execution_count": 50,
   "metadata": {},
   "outputs": [],
   "source": [
    "# lets start with importing our regression models\n",
    "\n",
    "from sklearn.linear_model import LinearRegression, ElasticNet, Ridge, Lasso\n",
    "from sklearn.ensemble import RandomForestRegressor, AdaBoostRegressor, GradientBoostingRegressor\n",
    "from sklearn.tree import DecisionTreeRegressor\n",
    "\n",
    "from math import sqrt\n",
    "from sklearn.metrics import mean_absolute_error, mean_squared_error, r2_score"
   ]
  },
  {
   "attachments": {},
   "cell_type": "markdown",
   "metadata": {},
   "source": [
    "#### Lets start with linear regression:"
   ]
  },
  {
   "cell_type": "code",
   "execution_count": 51,
   "metadata": {},
   "outputs": [
    {
     "data": {
      "text/plain": [
       "LinearRegression()"
      ]
     },
     "execution_count": 51,
     "metadata": {},
     "output_type": "execute_result"
    }
   ],
   "source": [
    "linear_model = LinearRegression()\n",
    "linear_model.fit(X_train, y_train)"
   ]
  },
  {
   "cell_type": "code",
   "execution_count": 52,
   "metadata": {},
   "outputs": [],
   "source": [
    "linear_model_pred = linear_model.predict(X_val)"
   ]
  },
  {
   "cell_type": "code",
   "execution_count": 53,
   "metadata": {},
   "outputs": [],
   "source": [
    "lm_mae = mean_absolute_error(y_val, linear_model_pred)\n",
    "lm_mse = sqrt(mean_squared_error(y_val, linear_model_pred))\n",
    "lm_accuracy = r2_score(y_val, linear_model_pred)"
   ]
  },
  {
   "cell_type": "code",
   "execution_count": 54,
   "metadata": {},
   "outputs": [
    {
     "name": "stdout",
     "output_type": "stream",
     "text": [
      "Mean Absolute Error (MAE) : 17562.227747964564 \n",
      "Mean Squared Error (MSE) : 25055.038391779217\n",
      "R Squared Value (R2) : 0.8692504008195261\n"
     ]
    }
   ],
   "source": [
    "print(\"Mean Absolute Error (MAE) : {} \".format(lm_mae))\n",
    "print(\"Mean Squared Error (MSE) : {}\".format(lm_mse))\n",
    "print(\"R Squared Value (R2) : {}\".format(lm_accuracy))"
   ]
  },
  {
   "attachments": {},
   "cell_type": "markdown",
   "metadata": {},
   "source": [
    "#### Elastic Net:"
   ]
  },
  {
   "cell_type": "code",
   "execution_count": 55,
   "metadata": {},
   "outputs": [
    {
     "data": {
      "text/plain": [
       "ElasticNet(alpha=0.1)"
      ]
     },
     "execution_count": 55,
     "metadata": {},
     "output_type": "execute_result"
    }
   ],
   "source": [
    "elastic_net_model = ElasticNet(alpha=0.1, l1_ratio=0.5)\n",
    "elastic_net_model.fit(X_train, y_train)"
   ]
  },
  {
   "cell_type": "code",
   "execution_count": 56,
   "metadata": {},
   "outputs": [],
   "source": [
    "elasticnet_model_pred = elastic_net_model.predict(X_val)"
   ]
  },
  {
   "cell_type": "code",
   "execution_count": 57,
   "metadata": {},
   "outputs": [],
   "source": [
    "el_mae = mean_absolute_error(y_val, elasticnet_model_pred)\n",
    "el_mse = sqrt(mean_squared_error(y_val, elasticnet_model_pred))\n",
    "el_accuracy = r2_score(y_val, elasticnet_model_pred)"
   ]
  },
  {
   "cell_type": "code",
   "execution_count": 58,
   "metadata": {},
   "outputs": [
    {
     "name": "stdout",
     "output_type": "stream",
     "text": [
      "Mean Absolute Error (MAE) : 17397.118105871512 \n",
      "Mean Squared Error (MSE) : 24918.9315198493\n",
      "R Squared Value (R2) : 0.8706670885252387\n"
     ]
    }
   ],
   "source": [
    "print(\"Mean Absolute Error (MAE) : {} \".format(el_mae))\n",
    "print(\"Mean Squared Error (MSE) : {}\".format(el_mse))\n",
    "print(\"R Squared Value (R2) : {}\".format(el_accuracy))"
   ]
  },
  {
   "attachments": {},
   "cell_type": "markdown",
   "metadata": {},
   "source": [
    "#### Ridge Regression Model:"
   ]
  },
  {
   "cell_type": "code",
   "execution_count": 59,
   "metadata": {},
   "outputs": [
    {
     "data": {
      "text/plain": [
       "Ridge(alpha=1, solver='cholesky')"
      ]
     },
     "execution_count": 59,
     "metadata": {},
     "output_type": "execute_result"
    }
   ],
   "source": [
    "ridge_reg_model = Ridge(alpha=1, solver='cholesky')\n",
    "ridge_reg_model.fit(X_train, y_train)"
   ]
  },
  {
   "cell_type": "code",
   "execution_count": 60,
   "metadata": {},
   "outputs": [],
   "source": [
    "ridge_reg_pred = ridge_reg_model.predict(X_val)"
   ]
  },
  {
   "cell_type": "code",
   "execution_count": 61,
   "metadata": {},
   "outputs": [],
   "source": [
    "rg_mae = mean_absolute_error(y_val, ridge_reg_pred)\n",
    "rg_mse = sqrt(mean_squared_error(y_val, ridge_reg_pred))\n",
    "rg_accuracy = r2_score(y_val, ridge_reg_pred)"
   ]
  },
  {
   "cell_type": "code",
   "execution_count": 62,
   "metadata": {},
   "outputs": [
    {
     "name": "stdout",
     "output_type": "stream",
     "text": [
      "Mean Absolute Error (MAE) : 17550.29950389943 \n",
      "Mean Squared Error (MSE) : 25039.564743907566\n",
      "R Squared Value (R2) : 0.8694118492662164\n"
     ]
    }
   ],
   "source": [
    "print(\"Mean Absolute Error (MAE) : {} \".format(rg_mae))\n",
    "print(\"Mean Squared Error (MSE) : {}\".format(rg_mse))\n",
    "print(\"R Squared Value (R2) : {}\".format(rg_accuracy))"
   ]
  },
  {
   "attachments": {},
   "cell_type": "markdown",
   "metadata": {},
   "source": [
    "#### Lasso Regression:"
   ]
  },
  {
   "cell_type": "code",
   "execution_count": 63,
   "metadata": {},
   "outputs": [
    {
     "data": {
      "text/plain": [
       "Lasso(alpha=0.1)"
      ]
     },
     "execution_count": 63,
     "metadata": {},
     "output_type": "execute_result"
    }
   ],
   "source": [
    "lasso_reg_model = Lasso(alpha=0.1)\n",
    "lasso_reg_model.fit(X_train, y_train)"
   ]
  },
  {
   "cell_type": "code",
   "execution_count": 64,
   "metadata": {},
   "outputs": [],
   "source": [
    "lasso_reg_pred = lasso_reg_model.predict(X_val)"
   ]
  },
  {
   "cell_type": "code",
   "execution_count": 65,
   "metadata": {},
   "outputs": [],
   "source": [
    "ls_mae = mean_absolute_error(y_val, lasso_reg_pred)\n",
    "ls_mse = sqrt(mean_squared_error(y_val, lasso_reg_pred))\n",
    "ls_accuracy = r2_score(y_val, lasso_reg_pred)"
   ]
  },
  {
   "cell_type": "code",
   "execution_count": 66,
   "metadata": {},
   "outputs": [
    {
     "name": "stdout",
     "output_type": "stream",
     "text": [
      "Mean Absolute Error (MAE) : 17563.745276452 \n",
      "Mean Squared Error (MSE) : 25053.04974352839\n",
      "R Squared Value (R2) : 0.869271155498788\n"
     ]
    }
   ],
   "source": [
    "print(\"Mean Absolute Error (MAE) : {} \".format(ls_mae))\n",
    "print(\"Mean Squared Error (MSE) : {}\".format(ls_mse))\n",
    "print(\"R Squared Value (R2) : {}\".format(ls_accuracy))"
   ]
  },
  {
   "attachments": {},
   "cell_type": "markdown",
   "metadata": {},
   "source": [
    "#### XG Boost Regression Model:"
   ]
  },
  {
   "cell_type": "code",
   "execution_count": 67,
   "metadata": {},
   "outputs": [
    {
     "name": "stdout",
     "output_type": "stream",
     "text": [
      "Requirement already satisfied: xgboost in c:\\users\\siddh\\anaconda3\\envs\\rstudio-_1\\lib\\site-packages (1.6.2)\n",
      "Requirement already satisfied: numpy in c:\\users\\siddh\\anaconda3\\envs\\rstudio-_1\\lib\\site-packages (from xgboost) (1.21.6)\n",
      "Requirement already satisfied: scipy in c:\\users\\siddh\\anaconda3\\envs\\rstudio-_1\\lib\\site-packages (from xgboost) (1.7.3)\n"
     ]
    }
   ],
   "source": [
    "!pip install xgboost\n",
    "import xgboost "
   ]
  },
  {
   "cell_type": "code",
   "execution_count": 68,
   "metadata": {},
   "outputs": [
    {
     "data": {
      "text/plain": [
       "XGBRegressor(base_score=0.5, booster='gbtree', callbacks=None,\n",
       "             colsample_bylevel=1, colsample_bynode=1, colsample_bytree=1,\n",
       "             early_stopping_rounds=None, enable_categorical=False,\n",
       "             eval_metric=None, gamma=0, gpu_id=-1, grow_policy='depthwise',\n",
       "             importance_type=None, interaction_constraints='',\n",
       "             learning_rate=0.300000012, max_bin=256, max_cat_to_onehot=4,\n",
       "             max_delta_step=0, max_depth=6, max_leaves=0, min_child_weight=1,\n",
       "             missing=nan, monotone_constraints='()', n_estimators=100, n_jobs=0,\n",
       "             num_parallel_tree=1, predictor='auto', random_state=0, reg_alpha=0,\n",
       "             reg_lambda=1, ...)"
      ]
     },
     "execution_count": 68,
     "metadata": {},
     "output_type": "execute_result"
    }
   ],
   "source": [
    "xgb_reg_model = xgboost.XGBRegressor()\n",
    "xgb_reg_model.fit(X_train, y_train)"
   ]
  },
  {
   "cell_type": "code",
   "execution_count": 69,
   "metadata": {},
   "outputs": [],
   "source": [
    "xgb_reg_pred = xgb_reg_model.predict(X_val)"
   ]
  },
  {
   "cell_type": "code",
   "execution_count": 70,
   "metadata": {},
   "outputs": [],
   "source": [
    "xgb_mae = mean_absolute_error(y_val, xgb_reg_pred)\n",
    "xgb_mse = sqrt(mean_squared_error(y_val, xgb_reg_pred))\n",
    "xgb_accuracy = r2_score(y_val, xgb_reg_pred)"
   ]
  },
  {
   "cell_type": "code",
   "execution_count": 71,
   "metadata": {},
   "outputs": [
    {
     "name": "stdout",
     "output_type": "stream",
     "text": [
      "Mean Absolute Error (MAE) : 17989.43775201613 \n",
      "Mean Squared Error (MSE) : 27678.713625389573\n",
      "R Squared Value (R2) : 0.8404333873555481\n"
     ]
    }
   ],
   "source": [
    "print(\"Mean Absolute Error (MAE) : {} \".format(xgb_mae))\n",
    "print(\"Mean Squared Error (MSE) : {}\".format(xgb_mse))\n",
    "print(\"R Squared Value (R2) : {}\".format(xgb_accuracy))"
   ]
  },
  {
   "attachments": {},
   "cell_type": "markdown",
   "metadata": {},
   "source": [
    "#### Ada Boost Regression Model:"
   ]
  },
  {
   "cell_type": "code",
   "execution_count": 72,
   "metadata": {},
   "outputs": [
    {
     "data": {
      "text/plain": [
       "AdaBoostRegressor()"
      ]
     },
     "execution_count": 72,
     "metadata": {},
     "output_type": "execute_result"
    }
   ],
   "source": [
    "adaboost_reg_model = AdaBoostRegressor()\n",
    "adaboost_reg_model.fit(X_train, y_train)"
   ]
  },
  {
   "cell_type": "code",
   "execution_count": 73,
   "metadata": {},
   "outputs": [],
   "source": [
    "adaboost_reg_pred = adaboost_reg_model.predict(X_val)"
   ]
  },
  {
   "cell_type": "code",
   "execution_count": 74,
   "metadata": {},
   "outputs": [],
   "source": [
    "ada_mae = mean_absolute_error(y_val, adaboost_reg_pred)\n",
    "ada_mse = sqrt(mean_squared_error(y_val, adaboost_reg_pred))\n",
    "ada_accuracy = r2_score(y_val, adaboost_reg_pred)"
   ]
  },
  {
   "cell_type": "code",
   "execution_count": 75,
   "metadata": {},
   "outputs": [
    {
     "name": "stdout",
     "output_type": "stream",
     "text": [
      "Mean Absolute Error (MAE) : 21940.305335236633 \n",
      "Mean Squared Error (MSE) : 31918.348940216383\n",
      "R Squared Value (R2) : 0.7878069977261527\n"
     ]
    }
   ],
   "source": [
    "print(\"Mean Absolute Error (MAE) : {} \".format(ada_mae))\n",
    "print(\"Mean Squared Error (MSE) : {}\".format(ada_mse))\n",
    "print(\"R Squared Value (R2) : {}\".format(ada_accuracy))"
   ]
  },
  {
   "attachments": {},
   "cell_type": "markdown",
   "metadata": {},
   "source": [
    "#### Gradient Boosting Regression Model:"
   ]
  },
  {
   "cell_type": "code",
   "execution_count": 76,
   "metadata": {},
   "outputs": [
    {
     "data": {
      "text/plain": [
       "GradientBoostingRegressor()"
      ]
     },
     "execution_count": 76,
     "metadata": {},
     "output_type": "execute_result"
    }
   ],
   "source": [
    "gb_reg_model = GradientBoostingRegressor()\n",
    "gb_reg_model.fit(X_train, y_train)"
   ]
  },
  {
   "cell_type": "code",
   "execution_count": 77,
   "metadata": {},
   "outputs": [],
   "source": [
    "gb_reg_pred = gb_reg_model.predict(X_val)"
   ]
  },
  {
   "cell_type": "code",
   "execution_count": 78,
   "metadata": {},
   "outputs": [],
   "source": [
    "gb_mae = mean_absolute_error(y_val, gb_reg_pred)\n",
    "gb_mse = sqrt(mean_squared_error(y_val, gb_reg_pred))\n",
    "gb_accuracy = r2_score(y_val, gb_reg_pred)"
   ]
  },
  {
   "cell_type": "code",
   "execution_count": 79,
   "metadata": {},
   "outputs": [
    {
     "name": "stdout",
     "output_type": "stream",
     "text": [
      "Mean Absolute Error (MAE) : 16413.48742166379 \n",
      "Mean Squared Error (MSE) : 25142.99202069172\n",
      "R Squared Value (R2) : 0.8683308183969386\n"
     ]
    }
   ],
   "source": [
    "print(\"Mean Absolute Error (MAE) : {} \".format(gb_mae))\n",
    "print(\"Mean Squared Error (MSE) : {}\".format(gb_mse))\n",
    "print(\"R Squared Value (R2) : {}\".format(gb_accuracy))"
   ]
  },
  {
   "attachments": {},
   "cell_type": "markdown",
   "metadata": {},
   "source": [
    "#### Decision Tree Regressor:"
   ]
  },
  {
   "cell_type": "code",
   "execution_count": 80,
   "metadata": {},
   "outputs": [
    {
     "data": {
      "text/plain": [
       "DecisionTreeRegressor(max_depth=5)"
      ]
     },
     "execution_count": 80,
     "metadata": {},
     "output_type": "execute_result"
    }
   ],
   "source": [
    "dec_tree_model = DecisionTreeRegressor(max_depth=5)\n",
    "dec_tree_model.fit(X_train, y_train)"
   ]
  },
  {
   "cell_type": "code",
   "execution_count": 81,
   "metadata": {},
   "outputs": [],
   "source": [
    "dec_tree_pred = dec_tree_model.predict(X_val)"
   ]
  },
  {
   "cell_type": "code",
   "execution_count": 82,
   "metadata": {},
   "outputs": [],
   "source": [
    "dec_mae = mean_absolute_error(y_val, dec_tree_pred)\n",
    "dec_mse = sqrt(mean_squared_error(y_val, dec_tree_pred))\n",
    "dec_accuracy = r2_score(y_val, dec_tree_pred)"
   ]
  },
  {
   "cell_type": "code",
   "execution_count": 83,
   "metadata": {},
   "outputs": [
    {
     "name": "stdout",
     "output_type": "stream",
     "text": [
      "Mean Absolute Error (MAE) : 28279.646110910635 \n",
      "Mean Squared Error (MSE) : 39407.252907486414\n",
      "R Squared Value (R2) : 0.676553434986626\n"
     ]
    }
   ],
   "source": [
    "print(\"Mean Absolute Error (MAE) : {} \".format(dec_mae))\n",
    "print(\"Mean Squared Error (MSE) : {}\".format(dec_mse))\n",
    "print(\"R Squared Value (R2) : {}\".format(dec_accuracy))"
   ]
  },
  {
   "attachments": {},
   "cell_type": "markdown",
   "metadata": {},
   "source": [
    "#### Random Forest Regression Model:"
   ]
  },
  {
   "cell_type": "code",
   "execution_count": 84,
   "metadata": {},
   "outputs": [
    {
     "data": {
      "text/plain": [
       "RandomForestRegressor(max_depth=6, n_estimators=500)"
      ]
     },
     "execution_count": 84,
     "metadata": {},
     "output_type": "execute_result"
    }
   ],
   "source": [
    "rf_forest_model = RandomForestRegressor(n_estimators= 500, max_depth=6)\n",
    "rf_forest_model.fit(X_train, y_train)"
   ]
  },
  {
   "cell_type": "code",
   "execution_count": 85,
   "metadata": {},
   "outputs": [],
   "source": [
    "forest_reg_pred = rf_forest_model.predict(X_val)"
   ]
  },
  {
   "cell_type": "code",
   "execution_count": 86,
   "metadata": {},
   "outputs": [],
   "source": [
    "rf_mae = mean_absolute_error(y_val, forest_reg_pred)\n",
    "rf_mse = sqrt(mean_squared_error(y_val, forest_reg_pred))\n",
    "rf_accuracy = r2_score(y_val, forest_reg_pred)"
   ]
  },
  {
   "cell_type": "code",
   "execution_count": 87,
   "metadata": {},
   "outputs": [
    {
     "name": "stdout",
     "output_type": "stream",
     "text": [
      "Mean Absolute Error (MAE) : 20038.747932645987 \n",
      "Mean Squared Error (MSE) : 29758.199077696205\n",
      "R Squared Value (R2) : 0.8155564337845288\n"
     ]
    }
   ],
   "source": [
    "print(\"Mean Absolute Error (MAE) : {} \".format(rf_mae))\n",
    "print(\"Mean Squared Error (MSE) : {}\".format(rf_mse))\n",
    "print(\"R Squared Value (R2) : {}\".format(rf_accuracy))"
   ]
  },
  {
   "attachments": {},
   "cell_type": "markdown",
   "metadata": {},
   "source": [
    "##### Cross Validation & Hyperparameter Optimization:"
   ]
  },
  {
   "cell_type": "code",
   "execution_count": 88,
   "metadata": {},
   "outputs": [],
   "source": [
    "from sklearn.model_selection import cross_val_score\n",
    "from sklearn.model_selection import GridSearchCV"
   ]
  },
  {
   "cell_type": "code",
   "execution_count": 89,
   "metadata": {},
   "outputs": [],
   "source": [
    "scores = cross_val_score(rf_forest_model, \n",
    "                         X_train, \n",
    "                         y_train, \n",
    "                         scoring=\"neg_mean_squared_error\", \n",
    "                         cv = 5)"
   ]
  },
  {
   "cell_type": "code",
   "execution_count": 90,
   "metadata": {},
   "outputs": [
    {
     "data": {
      "text/plain": [
       "array([27761.67813275, 24934.25030974, 27371.69506922, 24742.9661913 ,\n",
       "       27913.35384645])"
      ]
     },
     "execution_count": 90,
     "metadata": {},
     "output_type": "execute_result"
    }
   ],
   "source": [
    "forest_reg_rmse_scores = np.sqrt(-scores)\n",
    "forest_reg_rmse_scores"
   ]
  },
  {
   "cell_type": "code",
   "execution_count": 91,
   "metadata": {},
   "outputs": [],
   "source": [
    "param_grid = [\n",
    "    {'n_estimators': [300, 400, 500], 'max_features': [2, 4, 6]},\n",
    "    {'bootstrap': [False], 'n_estimators': [300, 400, 500], 'max_features': [2, 4, 6]}\n",
    "]\n",
    "\n",
    "forest_regressor = RandomForestRegressor()\n",
    "\n",
    "grid_search = GridSearchCV(forest_regressor, \n",
    "                           param_grid, \n",
    "                           scoring='neg_mean_squared_error',\n",
    "                           return_train_score=True,\n",
    "                           cv=3)"
   ]
  },
  {
   "cell_type": "code",
   "execution_count": 92,
   "metadata": {},
   "outputs": [
    {
     "data": {
      "text/plain": [
       "GridSearchCV(cv=3, estimator=RandomForestRegressor(),\n",
       "             param_grid=[{'max_features': [2, 4, 6],\n",
       "                          'n_estimators': [300, 400, 500]},\n",
       "                         {'bootstrap': [False], 'max_features': [2, 4, 6],\n",
       "                          'n_estimators': [300, 400, 500]}],\n",
       "             return_train_score=True, scoring='neg_mean_squared_error')"
      ]
     },
     "execution_count": 92,
     "metadata": {},
     "output_type": "execute_result"
    }
   ],
   "source": [
    "grid_search.fit(X_train, y_train)"
   ]
  },
  {
   "cell_type": "code",
   "execution_count": 93,
   "metadata": {},
   "outputs": [
    {
     "data": {
      "text/plain": [
       "{'bootstrap': False, 'max_features': 6, 'n_estimators': 400}"
      ]
     },
     "execution_count": 93,
     "metadata": {},
     "output_type": "execute_result"
    }
   ],
   "source": [
    "grid_search.best_params_"
   ]
  },
  {
   "cell_type": "code",
   "execution_count": 94,
   "metadata": {},
   "outputs": [
    {
     "data": {
      "text/plain": [
       "RandomForestRegressor(bootstrap=False, max_features=6, n_estimators=400)"
      ]
     },
     "execution_count": 94,
     "metadata": {},
     "output_type": "execute_result"
    }
   ],
   "source": [
    "grid_search.best_estimator_"
   ]
  },
  {
   "cell_type": "code",
   "execution_count": 95,
   "metadata": {},
   "outputs": [],
   "source": [
    "final_predictor = grid_search.best_estimator_\n",
    "final_predictor.fit(X_train, y_train)\n",
    "final_pred = final_predictor.predict(X_val)"
   ]
  },
  {
   "cell_type": "code",
   "execution_count": 96,
   "metadata": {},
   "outputs": [],
   "source": [
    "final_rf_mae = mean_absolute_error(y_val, final_pred)\n",
    "final_rf_mse = sqrt(mean_squared_error(y_val, final_pred))\n",
    "final_rf_accuracy = r2_score(y_val, final_pred)"
   ]
  },
  {
   "cell_type": "code",
   "execution_count": 97,
   "metadata": {},
   "outputs": [
    {
     "name": "stdout",
     "output_type": "stream",
     "text": [
      "Mean Absolute Error (MAE) : 16537.456581885857 \n",
      "Mean Squared Error (MSE) : 27242.34366785758\n",
      "R Squared Value (R2) : 0.8454250353728637\n"
     ]
    }
   ],
   "source": [
    "print(\"Mean Absolute Error (MAE) : {} \".format(final_rf_mae))\n",
    "print(\"Mean Squared Error (MSE) : {}\".format(final_rf_mse))\n",
    "print(\"R Squared Value (R2) : {}\".format(final_rf_accuracy))"
   ]
  },
  {
   "cell_type": "code",
   "execution_count": 130,
   "metadata": {},
   "outputs": [
    {
     "name": "stdout",
     "output_type": "stream",
     "text": [
      "         Feature  Importance\n",
      "2        LotArea    0.124244\n",
      "4       LotShape    0.071101\n",
      "10    Condition1    0.070727\n",
      "11    Condition2    0.065950\n",
      "46  KitchenAbvGr    0.061104\n",
      "49    Fireplaces    0.047409\n",
      "16     YearBuilt    0.043819\n",
      "7      LotConfig    0.040446\n",
      "21    MasVnrArea    0.039314\n",
      "58   ScreenPorch    0.038133\n",
      "12      BldgType    0.035061\n",
      "1       MSZoning    0.033272\n",
      "5    LandContour    0.032541\n",
      "61        MoSold    0.032385\n",
      "6      Utilities    0.025661\n"
     ]
    }
   ],
   "source": [
    "## lets check the feature importance, using randomforest model\n",
    "\n",
    "# Train a Random Forest regressor with the optimized hyperparameters\n",
    "rf = RandomForestRegressor(bootstrap=False, max_features=6, n_estimators=400)\n",
    "rf.fit(X_train, y_train)\n",
    "\n",
    "# Get feature importances\n",
    "importances = rf.feature_importances_\n",
    "\n",
    "# Create a dataframe with feature names and importance scores\n",
    "feature_importances = pd.DataFrame({'Feature': X.columns, 'Importance': importances})\n",
    "\n",
    "# Sort the features by importance in descending order\n",
    "feature_importances = feature_importances.sort_values('Importance', ascending=False)\n",
    "print(feature_importances.head(15))\n"
   ]
  },
  {
   "cell_type": "code",
   "execution_count": 132,
   "metadata": {},
   "outputs": [
    {
     "name": "stdout",
     "output_type": "stream",
     "text": [
      "Collecting streamlit\n",
      "  Downloading streamlit-1.23.1-py2.py3-none-any.whl (8.9 MB)\n",
      "     ---------------------------------------- 8.9/8.9 MB 8.3 MB/s eta 0:00:00\n",
      "Collecting protobuf<5,>=3.20\n",
      "  Downloading protobuf-4.23.4-cp37-cp37m-win_amd64.whl (421 kB)\n",
      "     ------------------------------------- 422.0/422.0 kB 13.3 MB/s eta 0:00:00\n",
      "Requirement already satisfied: pillow<10,>=6.2.0 in c:\\users\\siddh\\anaconda3\\envs\\rstudio-_1\\lib\\site-packages (from streamlit) (9.5.0)\n",
      "Requirement already satisfied: python-dateutil<3,>=2 in c:\\users\\siddh\\anaconda3\\envs\\rstudio-_1\\lib\\site-packages (from streamlit) (2.8.2)\n",
      "Collecting gitpython!=3.1.19,<4,>=3\n",
      "  Downloading GitPython-3.1.32-py3-none-any.whl (188 kB)\n",
      "     -------------------------------------- 188.5/188.5 kB 5.7 MB/s eta 0:00:00\n",
      "Collecting validators<1,>=0.2\n",
      "  Downloading validators-0.20.0.tar.gz (30 kB)\n",
      "  Preparing metadata (setup.py): started\n",
      "  Preparing metadata (setup.py): finished with status 'done'\n",
      "Requirement already satisfied: packaging<24,>=14.1 in c:\\users\\siddh\\anaconda3\\envs\\rstudio-_1\\lib\\site-packages (from streamlit) (21.3)\n",
      "Collecting pydeck<1,>=0.1.dev5\n",
      "  Downloading pydeck-0.8.1b0-py2.py3-none-any.whl (4.8 MB)\n",
      "     ---------------------------------------- 4.8/4.8 MB 9.9 MB/s eta 0:00:00\n",
      "Collecting tzlocal<5,>=1.1\n",
      "  Downloading tzlocal-4.3.1-py3-none-any.whl (20 kB)\n",
      "Requirement already satisfied: tornado<7,>=6.0.3 in c:\\users\\siddh\\anaconda3\\envs\\rstudio-_1\\lib\\site-packages (from streamlit) (6.2)\n",
      "Requirement already satisfied: importlib-metadata<7,>=1.4 in c:\\users\\siddh\\anaconda3\\envs\\rstudio-_1\\lib\\site-packages (from streamlit) (4.11.3)\n",
      "Collecting cachetools<6,>=4.0\n",
      "  Downloading cachetools-5.3.1-py3-none-any.whl (9.3 kB)\n",
      "Collecting pyarrow>=4.0\n",
      "  Downloading pyarrow-12.0.1-cp37-cp37m-win_amd64.whl (21.5 MB)\n",
      "     --------------------------------------- 21.5/21.5 MB 10.2 MB/s eta 0:00:00\n",
      "Collecting blinker<2,>=1.0.0\n",
      "  Downloading blinker-1.6.2-py3-none-any.whl (13 kB)\n",
      "Collecting rich<14,>=10.11.0\n",
      "  Downloading rich-13.4.2-py3-none-any.whl (239 kB)\n",
      "     ------------------------------------- 239.4/239.4 kB 15.3 MB/s eta 0:00:00\n",
      "Collecting pympler<2,>=0.9\n",
      "  Downloading Pympler-1.0.1-py3-none-any.whl (164 kB)\n",
      "     -------------------------------------- 164.8/164.8 kB 9.7 MB/s eta 0:00:00\n",
      "Collecting watchdog\n",
      "  Downloading watchdog-3.0.0-py3-none-win_amd64.whl (82 kB)\n",
      "     ---------------------------------------- 82.0/82.0 kB ? eta 0:00:00\n",
      "Collecting tenacity<9,>=8.0.0\n",
      "  Downloading tenacity-8.2.2-py3-none-any.whl (24 kB)\n",
      "Requirement already satisfied: typing-extensions<5,>=4.0.1 in c:\\users\\siddh\\anaconda3\\envs\\rstudio-_1\\lib\\site-packages (from streamlit) (4.3.0)\n",
      "Collecting altair<6,>=4.0\n",
      "  Downloading altair-5.0.1-py3-none-any.whl (471 kB)\n",
      "     -------------------------------------- 471.5/471.5 kB 9.8 MB/s eta 0:00:00\n",
      "Requirement already satisfied: pandas<3,>=0.25 in c:\\users\\siddh\\anaconda3\\envs\\rstudio-_1\\lib\\site-packages (from streamlit) (1.3.5)\n",
      "Requirement already satisfied: numpy<2,>=1 in c:\\users\\siddh\\anaconda3\\envs\\rstudio-_1\\lib\\site-packages (from streamlit) (1.21.6)\n",
      "Collecting toml<2\n",
      "  Downloading toml-0.10.2-py2.py3-none-any.whl (16 kB)\n",
      "Requirement already satisfied: requests<3,>=2.4 in c:\\users\\siddh\\anaconda3\\envs\\rstudio-_1\\lib\\site-packages (from streamlit) (2.28.2)\n",
      "Requirement already satisfied: click<9,>=7.0 in c:\\users\\siddh\\anaconda3\\envs\\rstudio-_1\\lib\\site-packages (from streamlit) (8.1.3)\n",
      "Collecting toolz\n",
      "  Downloading toolz-0.12.0-py3-none-any.whl (55 kB)\n",
      "     ---------------------------------------- 55.8/55.8 kB ? eta 0:00:00\n",
      "Requirement already satisfied: jinja2 in c:\\users\\siddh\\anaconda3\\envs\\rstudio-_1\\lib\\site-packages (from altair<6,>=4.0->streamlit) (3.1.2)\n",
      "Requirement already satisfied: jsonschema>=3.0 in c:\\users\\siddh\\anaconda3\\envs\\rstudio-_1\\lib\\site-packages (from altair<6,>=4.0->streamlit) (4.16.0)\n",
      "Requirement already satisfied: colorama in c:\\users\\siddh\\anaconda3\\envs\\rstudio-_1\\lib\\site-packages (from click<9,>=7.0->streamlit) (0.4.5)\n",
      "Collecting gitdb<5,>=4.0.1\n",
      "  Downloading gitdb-4.0.10-py3-none-any.whl (62 kB)\n",
      "     ---------------------------------------- 62.7/62.7 kB 3.5 MB/s eta 0:00:00\n",
      "Requirement already satisfied: zipp>=0.5 in c:\\users\\siddh\\anaconda3\\envs\\rstudio-_1\\lib\\site-packages (from importlib-metadata<7,>=1.4->streamlit) (3.8.0)\n",
      "Requirement already satisfied: pyparsing!=3.0.5,>=2.0.2 in c:\\users\\siddh\\anaconda3\\envs\\rstudio-_1\\lib\\site-packages (from packaging<24,>=14.1->streamlit) (3.0.9)\n",
      "Requirement already satisfied: pytz>=2017.3 in c:\\users\\siddh\\anaconda3\\envs\\rstudio-_1\\lib\\site-packages (from pandas<3,>=0.25->streamlit) (2022.6)\n",
      "Requirement already satisfied: six>=1.5 in c:\\users\\siddh\\anaconda3\\envs\\rstudio-_1\\lib\\site-packages (from python-dateutil<3,>=2->streamlit) (1.16.0)\n",
      "Requirement already satisfied: idna<4,>=2.5 in c:\\users\\siddh\\anaconda3\\envs\\rstudio-_1\\lib\\site-packages (from requests<3,>=2.4->streamlit) (3.4)\n",
      "Requirement already satisfied: certifi>=2017.4.17 in c:\\users\\siddh\\anaconda3\\envs\\rstudio-_1\\lib\\site-packages (from requests<3,>=2.4->streamlit) (2022.9.24)\n",
      "Requirement already satisfied: charset-normalizer<4,>=2 in c:\\users\\siddh\\anaconda3\\envs\\rstudio-_1\\lib\\site-packages (from requests<3,>=2.4->streamlit) (3.1.0)\n",
      "Requirement already satisfied: urllib3<1.27,>=1.21.1 in c:\\users\\siddh\\anaconda3\\envs\\rstudio-_1\\lib\\site-packages (from requests<3,>=2.4->streamlit) (1.26.15)\n",
      "Collecting pygments<3.0.0,>=2.13.0\n",
      "  Downloading Pygments-2.15.1-py3-none-any.whl (1.1 MB)\n",
      "     ---------------------------------------- 1.1/1.1 MB 637.9 kB/s eta 0:00:00\n",
      "Collecting markdown-it-py>=2.2.0\n",
      "  Downloading markdown_it_py-2.2.0-py3-none-any.whl (84 kB)\n",
      "     ---------------------------------------- 84.5/84.5 kB 1.6 MB/s eta 0:00:00\n",
      "Collecting tzdata\n",
      "  Downloading tzdata-2023.3-py2.py3-none-any.whl (341 kB)\n",
      "     -------------------------------------- 341.8/341.8 kB 4.3 MB/s eta 0:00:00\n",
      "Collecting backports.zoneinfo\n",
      "  Downloading backports.zoneinfo-0.2.1-cp37-cp37m-win_amd64.whl (38 kB)\n",
      "Collecting pytz-deprecation-shim\n",
      "  Downloading pytz_deprecation_shim-0.1.0.post0-py2.py3-none-any.whl (15 kB)\n",
      "Requirement already satisfied: decorator>=3.4.0 in c:\\users\\siddh\\anaconda3\\envs\\rstudio-_1\\lib\\site-packages (from validators<1,>=0.2->streamlit) (5.1.1)\n",
      "Collecting smmap<6,>=3.0.1\n",
      "  Downloading smmap-5.0.0-py3-none-any.whl (24 kB)\n",
      "Requirement already satisfied: MarkupSafe>=2.0 in c:\\users\\siddh\\anaconda3\\envs\\rstudio-_1\\lib\\site-packages (from jinja2->altair<6,>=4.0->streamlit) (2.1.1)\n",
      "Requirement already satisfied: importlib-resources>=1.4.0 in c:\\users\\siddh\\anaconda3\\envs\\rstudio-_1\\lib\\site-packages (from jsonschema>=3.0->altair<6,>=4.0->streamlit) (5.2.0)\n",
      "Requirement already satisfied: pyrsistent!=0.17.0,!=0.17.1,!=0.17.2,>=0.14.0 in c:\\users\\siddh\\anaconda3\\envs\\rstudio-_1\\lib\\site-packages (from jsonschema>=3.0->altair<6,>=4.0->streamlit) (0.18.0)\n",
      "Requirement already satisfied: pkgutil-resolve-name>=1.3.10 in c:\\users\\siddh\\anaconda3\\envs\\rstudio-_1\\lib\\site-packages (from jsonschema>=3.0->altair<6,>=4.0->streamlit) (1.3.10)\n",
      "Requirement already satisfied: attrs>=17.4.0 in c:\\users\\siddh\\anaconda3\\envs\\rstudio-_1\\lib\\site-packages (from jsonschema>=3.0->altair<6,>=4.0->streamlit) (22.1.0)\n",
      "Collecting mdurl~=0.1\n",
      "  Downloading mdurl-0.1.2-py3-none-any.whl (10.0 kB)\n",
      "Building wheels for collected packages: validators\n",
      "  Building wheel for validators (setup.py): started\n",
      "  Building wheel for validators (setup.py): finished with status 'done'\n",
      "  Created wheel for validators: filename=validators-0.20.0-py3-none-any.whl size=19579 sha256=361aa7d69186cc25eee96703f62e353005bb1f8808fb9ef92012d05006342fde\n",
      "  Stored in directory: c:\\users\\siddh\\appdata\\local\\pip\\cache\\wheels\\5f\\55\\ab\\36a76989f7f88d9ca7b1f68da6d94252bb6a8d6ad4f18e04e9\n",
      "Successfully built validators\n",
      "Installing collected packages: watchdog, validators, tzdata, toolz, toml, tenacity, smmap, pympler, pygments, pyarrow, protobuf, mdurl, cachetools, blinker, backports.zoneinfo, pytz-deprecation-shim, pydeck, markdown-it-py, gitdb, tzlocal, rich, gitpython, altair, streamlit\n",
      "  Attempting uninstall: pygments\n",
      "    Found existing installation: Pygments 2.11.2\n",
      "    Uninstalling Pygments-2.11.2:\n",
      "      Successfully uninstalled Pygments-2.11.2\n",
      "Successfully installed altair-5.0.1 backports.zoneinfo-0.2.1 blinker-1.6.2 cachetools-5.3.1 gitdb-4.0.10 gitpython-3.1.32 markdown-it-py-2.2.0 mdurl-0.1.2 protobuf-4.23.4 pyarrow-12.0.1 pydeck-0.8.1b0 pygments-2.15.1 pympler-1.0.1 pytz-deprecation-shim-0.1.0.post0 rich-13.4.2 smmap-5.0.0 streamlit-1.23.1 tenacity-8.2.2 toml-0.10.2 toolz-0.12.0 tzdata-2023.3 tzlocal-4.3.1 validators-0.20.0 watchdog-3.0.0\n",
      "Note: you may need to restart the kernel to use updated packages.\n"
     ]
    }
   ],
   "source": [
    "pip install streamlit"
   ]
  },
  {
   "cell_type": "code",
   "execution_count": 133,
   "metadata": {},
   "outputs": [
    {
     "ename": "ValueError",
     "evalue": "could not convert string to float: 'Reg'",
     "output_type": "error",
     "traceback": [
      "\u001b[1;31m---------------------------------------------------------------------------\u001b[0m",
      "\u001b[1;31mValueError\u001b[0m                                Traceback (most recent call last)",
      "\u001b[1;32m~\\AppData\\Local\\Temp\\ipykernel_20476\\3297917457.py\u001b[0m in \u001b[0;36m<module>\u001b[1;34m\u001b[0m\n\u001b[0;32m     10\u001b[0m \u001b[1;31m# Train a Random Forest regressor\u001b[0m\u001b[1;33m\u001b[0m\u001b[1;33m\u001b[0m\u001b[1;33m\u001b[0m\u001b[0m\n\u001b[0;32m     11\u001b[0m \u001b[0mrf\u001b[0m \u001b[1;33m=\u001b[0m \u001b[0mRandomForestRegressor\u001b[0m\u001b[1;33m(\u001b[0m\u001b[1;33m)\u001b[0m\u001b[1;33m\u001b[0m\u001b[1;33m\u001b[0m\u001b[0m\n\u001b[1;32m---> 12\u001b[1;33m \u001b[0mrf\u001b[0m\u001b[1;33m.\u001b[0m\u001b[0mfit\u001b[0m\u001b[1;33m(\u001b[0m\u001b[0mX_selected\u001b[0m\u001b[1;33m,\u001b[0m \u001b[0my\u001b[0m\u001b[1;33m)\u001b[0m\u001b[1;33m\u001b[0m\u001b[1;33m\u001b[0m\u001b[0m\n\u001b[0m\u001b[0;32m     13\u001b[0m \u001b[1;33m\u001b[0m\u001b[0m\n\u001b[0;32m     14\u001b[0m \u001b[1;31m# Create the Streamlit app\u001b[0m\u001b[1;33m\u001b[0m\u001b[1;33m\u001b[0m\u001b[1;33m\u001b[0m\u001b[0m\n",
      "\u001b[1;32mc:\\Users\\siddh\\anaconda3\\envs\\rstudio-_1\\lib\\site-packages\\sklearn\\ensemble\\_forest.py\u001b[0m in \u001b[0;36mfit\u001b[1;34m(self, X, y, sample_weight)\u001b[0m\n\u001b[0;32m    326\u001b[0m             \u001b[1;32mraise\u001b[0m \u001b[0mValueError\u001b[0m\u001b[1;33m(\u001b[0m\u001b[1;34m\"sparse multilabel-indicator for y is not supported.\"\u001b[0m\u001b[1;33m)\u001b[0m\u001b[1;33m\u001b[0m\u001b[1;33m\u001b[0m\u001b[0m\n\u001b[0;32m    327\u001b[0m         X, y = self._validate_data(\n\u001b[1;32m--> 328\u001b[1;33m             \u001b[0mX\u001b[0m\u001b[1;33m,\u001b[0m \u001b[0my\u001b[0m\u001b[1;33m,\u001b[0m \u001b[0mmulti_output\u001b[0m\u001b[1;33m=\u001b[0m\u001b[1;32mTrue\u001b[0m\u001b[1;33m,\u001b[0m \u001b[0maccept_sparse\u001b[0m\u001b[1;33m=\u001b[0m\u001b[1;34m\"csc\"\u001b[0m\u001b[1;33m,\u001b[0m \u001b[0mdtype\u001b[0m\u001b[1;33m=\u001b[0m\u001b[0mDTYPE\u001b[0m\u001b[1;33m\u001b[0m\u001b[1;33m\u001b[0m\u001b[0m\n\u001b[0m\u001b[0;32m    329\u001b[0m         )\n\u001b[0;32m    330\u001b[0m         \u001b[1;32mif\u001b[0m \u001b[0msample_weight\u001b[0m \u001b[1;32mis\u001b[0m \u001b[1;32mnot\u001b[0m \u001b[1;32mNone\u001b[0m\u001b[1;33m:\u001b[0m\u001b[1;33m\u001b[0m\u001b[1;33m\u001b[0m\u001b[0m\n",
      "\u001b[1;32mc:\\Users\\siddh\\anaconda3\\envs\\rstudio-_1\\lib\\site-packages\\sklearn\\base.py\u001b[0m in \u001b[0;36m_validate_data\u001b[1;34m(self, X, y, reset, validate_separately, **check_params)\u001b[0m\n\u001b[0;32m    579\u001b[0m                 \u001b[0my\u001b[0m \u001b[1;33m=\u001b[0m \u001b[0mcheck_array\u001b[0m\u001b[1;33m(\u001b[0m\u001b[0my\u001b[0m\u001b[1;33m,\u001b[0m \u001b[1;33m**\u001b[0m\u001b[0mcheck_y_params\u001b[0m\u001b[1;33m)\u001b[0m\u001b[1;33m\u001b[0m\u001b[1;33m\u001b[0m\u001b[0m\n\u001b[0;32m    580\u001b[0m             \u001b[1;32melse\u001b[0m\u001b[1;33m:\u001b[0m\u001b[1;33m\u001b[0m\u001b[1;33m\u001b[0m\u001b[0m\n\u001b[1;32m--> 581\u001b[1;33m                 \u001b[0mX\u001b[0m\u001b[1;33m,\u001b[0m \u001b[0my\u001b[0m \u001b[1;33m=\u001b[0m \u001b[0mcheck_X_y\u001b[0m\u001b[1;33m(\u001b[0m\u001b[0mX\u001b[0m\u001b[1;33m,\u001b[0m \u001b[0my\u001b[0m\u001b[1;33m,\u001b[0m \u001b[1;33m**\u001b[0m\u001b[0mcheck_params\u001b[0m\u001b[1;33m)\u001b[0m\u001b[1;33m\u001b[0m\u001b[1;33m\u001b[0m\u001b[0m\n\u001b[0m\u001b[0;32m    582\u001b[0m             \u001b[0mout\u001b[0m \u001b[1;33m=\u001b[0m \u001b[0mX\u001b[0m\u001b[1;33m,\u001b[0m \u001b[0my\u001b[0m\u001b[1;33m\u001b[0m\u001b[1;33m\u001b[0m\u001b[0m\n\u001b[0;32m    583\u001b[0m \u001b[1;33m\u001b[0m\u001b[0m\n",
      "\u001b[1;32mc:\\Users\\siddh\\anaconda3\\envs\\rstudio-_1\\lib\\site-packages\\sklearn\\utils\\validation.py\u001b[0m in \u001b[0;36mcheck_X_y\u001b[1;34m(X, y, accept_sparse, accept_large_sparse, dtype, order, copy, force_all_finite, ensure_2d, allow_nd, multi_output, ensure_min_samples, ensure_min_features, y_numeric, estimator)\u001b[0m\n\u001b[0;32m    974\u001b[0m         \u001b[0mensure_min_samples\u001b[0m\u001b[1;33m=\u001b[0m\u001b[0mensure_min_samples\u001b[0m\u001b[1;33m,\u001b[0m\u001b[1;33m\u001b[0m\u001b[1;33m\u001b[0m\u001b[0m\n\u001b[0;32m    975\u001b[0m         \u001b[0mensure_min_features\u001b[0m\u001b[1;33m=\u001b[0m\u001b[0mensure_min_features\u001b[0m\u001b[1;33m,\u001b[0m\u001b[1;33m\u001b[0m\u001b[1;33m\u001b[0m\u001b[0m\n\u001b[1;32m--> 976\u001b[1;33m         \u001b[0mestimator\u001b[0m\u001b[1;33m=\u001b[0m\u001b[0mestimator\u001b[0m\u001b[1;33m,\u001b[0m\u001b[1;33m\u001b[0m\u001b[1;33m\u001b[0m\u001b[0m\n\u001b[0m\u001b[0;32m    977\u001b[0m     )\n\u001b[0;32m    978\u001b[0m \u001b[1;33m\u001b[0m\u001b[0m\n",
      "\u001b[1;32mc:\\Users\\siddh\\anaconda3\\envs\\rstudio-_1\\lib\\site-packages\\sklearn\\utils\\validation.py\u001b[0m in \u001b[0;36mcheck_array\u001b[1;34m(array, accept_sparse, accept_large_sparse, dtype, order, copy, force_all_finite, ensure_2d, allow_nd, ensure_min_samples, ensure_min_features, estimator)\u001b[0m\n\u001b[0;32m    744\u001b[0m                     \u001b[0marray\u001b[0m \u001b[1;33m=\u001b[0m \u001b[0marray\u001b[0m\u001b[1;33m.\u001b[0m\u001b[0mastype\u001b[0m\u001b[1;33m(\u001b[0m\u001b[0mdtype\u001b[0m\u001b[1;33m,\u001b[0m \u001b[0mcasting\u001b[0m\u001b[1;33m=\u001b[0m\u001b[1;34m\"unsafe\"\u001b[0m\u001b[1;33m,\u001b[0m \u001b[0mcopy\u001b[0m\u001b[1;33m=\u001b[0m\u001b[1;32mFalse\u001b[0m\u001b[1;33m)\u001b[0m\u001b[1;33m\u001b[0m\u001b[1;33m\u001b[0m\u001b[0m\n\u001b[0;32m    745\u001b[0m                 \u001b[1;32melse\u001b[0m\u001b[1;33m:\u001b[0m\u001b[1;33m\u001b[0m\u001b[1;33m\u001b[0m\u001b[0m\n\u001b[1;32m--> 746\u001b[1;33m                     \u001b[0marray\u001b[0m \u001b[1;33m=\u001b[0m \u001b[0mnp\u001b[0m\u001b[1;33m.\u001b[0m\u001b[0masarray\u001b[0m\u001b[1;33m(\u001b[0m\u001b[0marray\u001b[0m\u001b[1;33m,\u001b[0m \u001b[0morder\u001b[0m\u001b[1;33m=\u001b[0m\u001b[0morder\u001b[0m\u001b[1;33m,\u001b[0m \u001b[0mdtype\u001b[0m\u001b[1;33m=\u001b[0m\u001b[0mdtype\u001b[0m\u001b[1;33m)\u001b[0m\u001b[1;33m\u001b[0m\u001b[1;33m\u001b[0m\u001b[0m\n\u001b[0m\u001b[0;32m    747\u001b[0m             \u001b[1;32mexcept\u001b[0m \u001b[0mComplexWarning\u001b[0m \u001b[1;32mas\u001b[0m \u001b[0mcomplex_warning\u001b[0m\u001b[1;33m:\u001b[0m\u001b[1;33m\u001b[0m\u001b[1;33m\u001b[0m\u001b[0m\n\u001b[0;32m    748\u001b[0m                 raise ValueError(\n",
      "\u001b[1;32mc:\\Users\\siddh\\anaconda3\\envs\\rstudio-_1\\lib\\site-packages\\pandas\\core\\generic.py\u001b[0m in \u001b[0;36m__array__\u001b[1;34m(self, dtype)\u001b[0m\n\u001b[0;32m   1991\u001b[0m \u001b[1;33m\u001b[0m\u001b[0m\n\u001b[0;32m   1992\u001b[0m     \u001b[1;32mdef\u001b[0m \u001b[0m__array__\u001b[0m\u001b[1;33m(\u001b[0m\u001b[0mself\u001b[0m\u001b[1;33m,\u001b[0m \u001b[0mdtype\u001b[0m\u001b[1;33m:\u001b[0m \u001b[0mNpDtype\u001b[0m \u001b[1;33m|\u001b[0m \u001b[1;32mNone\u001b[0m \u001b[1;33m=\u001b[0m \u001b[1;32mNone\u001b[0m\u001b[1;33m)\u001b[0m \u001b[1;33m->\u001b[0m \u001b[0mnp\u001b[0m\u001b[1;33m.\u001b[0m\u001b[0mndarray\u001b[0m\u001b[1;33m:\u001b[0m\u001b[1;33m\u001b[0m\u001b[1;33m\u001b[0m\u001b[0m\n\u001b[1;32m-> 1993\u001b[1;33m         \u001b[1;32mreturn\u001b[0m \u001b[0mnp\u001b[0m\u001b[1;33m.\u001b[0m\u001b[0masarray\u001b[0m\u001b[1;33m(\u001b[0m\u001b[0mself\u001b[0m\u001b[1;33m.\u001b[0m\u001b[0m_values\u001b[0m\u001b[1;33m,\u001b[0m \u001b[0mdtype\u001b[0m\u001b[1;33m=\u001b[0m\u001b[0mdtype\u001b[0m\u001b[1;33m)\u001b[0m\u001b[1;33m\u001b[0m\u001b[1;33m\u001b[0m\u001b[0m\n\u001b[0m\u001b[0;32m   1994\u001b[0m \u001b[1;33m\u001b[0m\u001b[0m\n\u001b[0;32m   1995\u001b[0m     def __array_wrap__(\n",
      "\u001b[1;31mValueError\u001b[0m: could not convert string to float: 'Reg'"
     ]
    }
   ],
   "source": [
    "import streamlit as st\n",
    "# Select the important features based on their importance scores\n",
    "selected_features = ['LotArea', 'LotShape', 'Condition1', 'Condition2', 'KitchenAbvGr', 'Fireplaces',\n",
    "                     'YearBuilt', 'LotConfig', 'MasVnrArea', 'ScreenPorch', 'BldgType', 'MSZoning',\n",
    "                     'LandContour', 'MoSold', 'Utilities']\n",
    "\n",
    "# Filter the dataset based on the selected features\n",
    "X_selected = train_data[selected_features]\n",
    "\n",
    "# Train a Random Forest regressor\n",
    "rf = RandomForestRegressor()\n",
    "rf.fit(X_selected, y)\n",
    "\n",
    "# Create the Streamlit app\n",
    "st.title('House Price Prediction')\n",
    "\n",
    "# Add input fields for the selected features\n",
    "lot_area = st.slider('Lot Area', float(X['LotArea'].min()), float(X['LotArea'].max()), float(X['LotArea'].mean()))\n",
    "lot_shape = st.selectbox('Lot Shape', X['LotShape'].unique())\n",
    "condition1 = st.selectbox('Condition 1', X['Condition1'].unique())\n",
    "condition2 = st.selectbox('Condition 2', X['Condition2'].unique())\n",
    "kitchen_abv_gr = st.slider('Number of Kitchens', int(X['KitchenAbvGr'].min()), int(X['KitchenAbvGr'].max()), int(X['KitchenAbvGr'].mean()))\n",
    "fireplaces = st.slider('Number of Fireplaces', int(X['Fireplaces'].min()), int(X['Fireplaces'].max()), int(X['Fireplaces'].mean()))\n",
    "year_built = st.slider('Year Built', int(X['YearBuilt'].min()), int(X['YearBuilt'].max()), int(X['YearBuilt'].mean()))\n",
    "lot_config = st.selectbox('Lot Configuration', X['LotConfig'].unique())\n",
    "mas_vnr_area = st.slider('Masonry Veneer Area', float(X['MasVnrArea'].min()), float(X['MasVnrArea'].max()), float(X['MasVnrArea'].mean()))\n",
    "screen_porch = st.slider('Screen Porch Area', float(X['ScreenPorch'].min()), float(X['ScreenPorch'].max()), float(X['ScreenPorch'].mean()))\n",
    "bldg_type = st.selectbox('Building Type', X['BldgType'].unique())\n",
    "ms_zoning = st.selectbox('MS Zoning', X['MSZoning'].unique())\n",
    "land_contour = st.selectbox('Land Contour', X['LandContour'].unique())\n",
    "mo_sold = st.slider('Month Sold', int(X['MoSold'].min()), int(X['MoSold'].max()), int(X['MoSold'].mean()))\n",
    "utilities = st.selectbox('Utilities', X['Utilities'].unique())\n",
    "\n",
    "# Create a dataframe with the user input\n",
    "input_data = pd.DataFrame({'LotArea': [lot_area],\n",
    "                           'LotShape': [lot_shape],\n",
    "                           'Condition1': [condition1],\n",
    "                           'Condition2': [condition2],\n",
    "                           'KitchenAbvGr': [kitchen_abv_gr],\n",
    "                           'Fireplaces': [fireplaces],\n",
    "                           'YearBuilt': [year_built],\n",
    "                           'LotConfig': [lot_config],\n",
    "                           'MasVnrArea': [mas_vnr_area],\n",
    "                           'ScreenPorch': [screen_porch],\n",
    "                           'BldgType': [bldg_type],\n",
    "                           'MSZoning': [ms_zoning],\n",
    "                           'LandContour': [land_contour],\n",
    "                           'MoSold': [mo_sold],\n",
    "                           'Utilities': [utilities]})\n",
    "\n",
    "# Make a prediction using the Random Forest model\n",
    "prediction = rf.predict(input_data)\n",
    "\n",
    "# Display the prediction\n",
    "st.subheader('Prediction')\n",
    "st.write(f\"The predicted house price is: ${prediction[0]:,.2f}\")\n"
   ]
  },
  {
   "attachments": {},
   "cell_type": "markdown",
   "metadata": {},
   "source": [
    "## Step 6 - Model comparision and analysis"
   ]
  },
  {
   "cell_type": "code",
   "execution_count": 99,
   "metadata": {},
   "outputs": [
    {
     "name": "stdout",
     "output_type": "stream",
     "text": [
      "                Model           MAE           MSE  Accuracy\n",
      "0        linear_model  17562.227748  25055.038392  0.869250\n",
      "1   elastic_net_model  17397.118106  24918.931520  0.870667\n",
      "2     ridge_reg_model  17550.299504  25039.564744  0.869412\n",
      "3     lasso_reg_model  17563.745276  25053.049744  0.869271\n",
      "4       xgb_reg_model  17989.437752  27678.713625  0.840433\n",
      "5  adaboost_reg_model  21940.305335  31918.348940  0.787807\n",
      "6        gb_reg_model  16413.487422  25142.992021  0.868331\n",
      "7      dec_tree_model  28279.646111  39407.252907  0.676553\n",
      "8       rf_tree_model  20038.747933  29758.199078  0.815556\n"
     ]
    }
   ],
   "source": [
    "# Create a dictionary with the model names and RMSE values\n",
    "data_models = {\n",
    "    'Model': ['linear_model', 'elastic_net_model', 'ridge_reg_model', 'lasso_reg_model', 'xgb_reg_model', 'adaboost_reg_model', 'gb_reg_model', 'dec_tree_model', 'rf_tree_model'],\n",
    "    'MAE': [lm_mae, el_mae, rg_mae, ls_mae, xgb_mae, ada_mae, gb_mae, dec_mae, rf_mae],\n",
    "    'MSE' : [lm_mse, el_mse, rg_mse, ls_mse, xgb_mse, ada_mse, gb_mse, dec_mse, rf_mse],\n",
    "    'Accuracy' : [lm_accuracy, el_accuracy, rg_accuracy, ls_accuracy, xgb_accuracy, ada_accuracy, gb_accuracy, dec_accuracy, rf_accuracy]\n",
    "}\n",
    "\n",
    "# Create a dataframe from the dictionary\n",
    "metrics_df = pd.DataFrame(data_models)\n",
    "\n",
    "# Print the dataframe\n",
    "print(metrics_df)\n"
   ]
  },
  {
   "attachments": {},
   "cell_type": "markdown",
   "metadata": {},
   "source": [
    "From the above analysis, we can see that almost all the models are performing well, and resulting is a good accuracy score.\n",
    "\n",
    "The elastic net model has the highest accuracy score of 87% percent.\n",
    "\n",
    "But, accuracy is not the only measure, for a good model predcition, high acccuracy and low error is neceesary, hence after considering these 2 factors, we chose the \"gb model - Gradient Boosting Model\" as it was low error rate and good accuracy too.\n"
   ]
  },
  {
   "cell_type": "code",
   "execution_count": 100,
   "metadata": {},
   "outputs": [
    {
     "data": {
      "text/plain": [
       "['gb_reg_model.pkl']"
      ]
     },
     "execution_count": 100,
     "metadata": {},
     "output_type": "execute_result"
    }
   ],
   "source": [
    "# save the gb model\n",
    "\n",
    "import joblib\n",
    "\n",
    "# Save the GBM model\n",
    "joblib.dump(gb_reg_model, 'gb_reg_model.pkl')"
   ]
  },
  {
   "attachments": {},
   "cell_type": "markdown",
   "metadata": {},
   "source": [
    "## Step 7 - Lets, perform similar analysis on our test dataset"
   ]
  },
  {
   "cell_type": "code",
   "execution_count": 101,
   "metadata": {},
   "outputs": [
    {
     "data": {
      "text/plain": [
       "(1459, 80)"
      ]
     },
     "execution_count": 101,
     "metadata": {},
     "output_type": "execute_result"
    }
   ],
   "source": [
    "test_data = read_file(\"data/housing_test.csv\")\n",
    "test_data.shape"
   ]
  },
  {
   "cell_type": "code",
   "execution_count": 102,
   "metadata": {},
   "outputs": [
    {
     "data": {
      "text/plain": [
       "Index(['Id', 'MSSubClass', 'MSZoning', 'LotFrontage', 'LotArea', 'Street',\n",
       "       'Alley', 'LotShape', 'LandContour', 'Utilities', 'LotConfig',\n",
       "       'LandSlope', 'Neighborhood', 'Condition1', 'Condition2', 'BldgType',\n",
       "       'HouseStyle', 'OverallQual', 'OverallCond', 'YearBuilt', 'YearRemodAdd',\n",
       "       'RoofStyle', 'RoofMatl', 'Exterior1st', 'Exterior2nd', 'MasVnrType',\n",
       "       'MasVnrArea', 'ExterQual', 'ExterCond', 'Foundation', 'BsmtQual',\n",
       "       'BsmtCond', 'BsmtExposure', 'BsmtFinType1', 'BsmtFinSF1',\n",
       "       'BsmtFinType2', 'BsmtFinSF2', 'BsmtUnfSF', 'TotalBsmtSF', 'Heating',\n",
       "       'HeatingQC', 'CentralAir', 'Electrical', '1stFlrSF', '2ndFlrSF',\n",
       "       'LowQualFinSF', 'GrLivArea', 'BsmtFullBath', 'BsmtHalfBath', 'FullBath',\n",
       "       'HalfBath', 'BedroomAbvGr', 'KitchenAbvGr', 'KitchenQual',\n",
       "       'TotRmsAbvGrd', 'Functional', 'Fireplaces', 'FireplaceQu', 'GarageType',\n",
       "       'GarageYrBlt', 'GarageFinish', 'GarageCars', 'GarageArea', 'GarageQual',\n",
       "       'GarageCond', 'PavedDrive', 'WoodDeckSF', 'OpenPorchSF',\n",
       "       'EnclosedPorch', '3SsnPorch', 'ScreenPorch', 'PoolArea', 'PoolQC',\n",
       "       'Fence', 'MiscFeature', 'MiscVal', 'MoSold', 'YrSold', 'SaleType',\n",
       "       'SaleCondition'],\n",
       "      dtype='object')"
      ]
     },
     "execution_count": 102,
     "metadata": {},
     "output_type": "execute_result"
    }
   ],
   "source": [
    "test_data.columns"
   ]
  },
  {
   "cell_type": "code",
   "execution_count": 103,
   "metadata": {},
   "outputs": [
    {
     "data": {
      "text/html": [
       "<div>\n",
       "<style scoped>\n",
       "    .dataframe tbody tr th:only-of-type {\n",
       "        vertical-align: middle;\n",
       "    }\n",
       "\n",
       "    .dataframe tbody tr th {\n",
       "        vertical-align: top;\n",
       "    }\n",
       "\n",
       "    .dataframe thead th {\n",
       "        text-align: right;\n",
       "    }\n",
       "</style>\n",
       "<table border=\"1\" class=\"dataframe\">\n",
       "  <thead>\n",
       "    <tr style=\"text-align: right;\">\n",
       "      <th></th>\n",
       "      <th>Id</th>\n",
       "      <th>MSSubClass</th>\n",
       "      <th>MSZoning</th>\n",
       "      <th>LotFrontage</th>\n",
       "      <th>LotArea</th>\n",
       "      <th>Street</th>\n",
       "      <th>Alley</th>\n",
       "      <th>LotShape</th>\n",
       "      <th>LandContour</th>\n",
       "      <th>Utilities</th>\n",
       "      <th>...</th>\n",
       "      <th>ScreenPorch</th>\n",
       "      <th>PoolArea</th>\n",
       "      <th>PoolQC</th>\n",
       "      <th>Fence</th>\n",
       "      <th>MiscFeature</th>\n",
       "      <th>MiscVal</th>\n",
       "      <th>MoSold</th>\n",
       "      <th>YrSold</th>\n",
       "      <th>SaleType</th>\n",
       "      <th>SaleCondition</th>\n",
       "    </tr>\n",
       "  </thead>\n",
       "  <tbody>\n",
       "    <tr>\n",
       "      <th>0</th>\n",
       "      <td>1461</td>\n",
       "      <td>20</td>\n",
       "      <td>RH</td>\n",
       "      <td>80.0</td>\n",
       "      <td>11622</td>\n",
       "      <td>Pave</td>\n",
       "      <td>NaN</td>\n",
       "      <td>Reg</td>\n",
       "      <td>Lvl</td>\n",
       "      <td>AllPub</td>\n",
       "      <td>...</td>\n",
       "      <td>120</td>\n",
       "      <td>0</td>\n",
       "      <td>NaN</td>\n",
       "      <td>MnPrv</td>\n",
       "      <td>NaN</td>\n",
       "      <td>0</td>\n",
       "      <td>6</td>\n",
       "      <td>2010</td>\n",
       "      <td>WD</td>\n",
       "      <td>Normal</td>\n",
       "    </tr>\n",
       "    <tr>\n",
       "      <th>1</th>\n",
       "      <td>1462</td>\n",
       "      <td>20</td>\n",
       "      <td>RL</td>\n",
       "      <td>81.0</td>\n",
       "      <td>14267</td>\n",
       "      <td>Pave</td>\n",
       "      <td>NaN</td>\n",
       "      <td>IR1</td>\n",
       "      <td>Lvl</td>\n",
       "      <td>AllPub</td>\n",
       "      <td>...</td>\n",
       "      <td>0</td>\n",
       "      <td>0</td>\n",
       "      <td>NaN</td>\n",
       "      <td>NaN</td>\n",
       "      <td>Gar2</td>\n",
       "      <td>12500</td>\n",
       "      <td>6</td>\n",
       "      <td>2010</td>\n",
       "      <td>WD</td>\n",
       "      <td>Normal</td>\n",
       "    </tr>\n",
       "    <tr>\n",
       "      <th>2</th>\n",
       "      <td>1463</td>\n",
       "      <td>60</td>\n",
       "      <td>RL</td>\n",
       "      <td>74.0</td>\n",
       "      <td>13830</td>\n",
       "      <td>Pave</td>\n",
       "      <td>NaN</td>\n",
       "      <td>IR1</td>\n",
       "      <td>Lvl</td>\n",
       "      <td>AllPub</td>\n",
       "      <td>...</td>\n",
       "      <td>0</td>\n",
       "      <td>0</td>\n",
       "      <td>NaN</td>\n",
       "      <td>MnPrv</td>\n",
       "      <td>NaN</td>\n",
       "      <td>0</td>\n",
       "      <td>3</td>\n",
       "      <td>2010</td>\n",
       "      <td>WD</td>\n",
       "      <td>Normal</td>\n",
       "    </tr>\n",
       "    <tr>\n",
       "      <th>3</th>\n",
       "      <td>1464</td>\n",
       "      <td>60</td>\n",
       "      <td>RL</td>\n",
       "      <td>78.0</td>\n",
       "      <td>9978</td>\n",
       "      <td>Pave</td>\n",
       "      <td>NaN</td>\n",
       "      <td>IR1</td>\n",
       "      <td>Lvl</td>\n",
       "      <td>AllPub</td>\n",
       "      <td>...</td>\n",
       "      <td>0</td>\n",
       "      <td>0</td>\n",
       "      <td>NaN</td>\n",
       "      <td>NaN</td>\n",
       "      <td>NaN</td>\n",
       "      <td>0</td>\n",
       "      <td>6</td>\n",
       "      <td>2010</td>\n",
       "      <td>WD</td>\n",
       "      <td>Normal</td>\n",
       "    </tr>\n",
       "    <tr>\n",
       "      <th>4</th>\n",
       "      <td>1465</td>\n",
       "      <td>120</td>\n",
       "      <td>RL</td>\n",
       "      <td>43.0</td>\n",
       "      <td>5005</td>\n",
       "      <td>Pave</td>\n",
       "      <td>NaN</td>\n",
       "      <td>IR1</td>\n",
       "      <td>HLS</td>\n",
       "      <td>AllPub</td>\n",
       "      <td>...</td>\n",
       "      <td>144</td>\n",
       "      <td>0</td>\n",
       "      <td>NaN</td>\n",
       "      <td>NaN</td>\n",
       "      <td>NaN</td>\n",
       "      <td>0</td>\n",
       "      <td>1</td>\n",
       "      <td>2010</td>\n",
       "      <td>WD</td>\n",
       "      <td>Normal</td>\n",
       "    </tr>\n",
       "  </tbody>\n",
       "</table>\n",
       "<p>5 rows × 80 columns</p>\n",
       "</div>"
      ],
      "text/plain": [
       "     Id  MSSubClass MSZoning  LotFrontage  LotArea Street Alley LotShape  \\\n",
       "0  1461          20       RH         80.0    11622   Pave   NaN      Reg   \n",
       "1  1462          20       RL         81.0    14267   Pave   NaN      IR1   \n",
       "2  1463          60       RL         74.0    13830   Pave   NaN      IR1   \n",
       "3  1464          60       RL         78.0     9978   Pave   NaN      IR1   \n",
       "4  1465         120       RL         43.0     5005   Pave   NaN      IR1   \n",
       "\n",
       "  LandContour Utilities  ... ScreenPorch PoolArea PoolQC  Fence MiscFeature  \\\n",
       "0         Lvl    AllPub  ...         120        0    NaN  MnPrv         NaN   \n",
       "1         Lvl    AllPub  ...           0        0    NaN    NaN        Gar2   \n",
       "2         Lvl    AllPub  ...           0        0    NaN  MnPrv         NaN   \n",
       "3         Lvl    AllPub  ...           0        0    NaN    NaN         NaN   \n",
       "4         HLS    AllPub  ...         144        0    NaN    NaN         NaN   \n",
       "\n",
       "  MiscVal MoSold  YrSold  SaleType  SaleCondition  \n",
       "0       0      6    2010        WD         Normal  \n",
       "1   12500      6    2010        WD         Normal  \n",
       "2       0      3    2010        WD         Normal  \n",
       "3       0      6    2010        WD         Normal  \n",
       "4       0      1    2010        WD         Normal  \n",
       "\n",
       "[5 rows x 80 columns]"
      ]
     },
     "execution_count": 103,
     "metadata": {},
     "output_type": "execute_result"
    }
   ],
   "source": [
    "test_data.head()"
   ]
  },
  {
   "cell_type": "code",
   "execution_count": 104,
   "metadata": {},
   "outputs": [
    {
     "data": {
      "text/plain": [
       "['MSZoning',\n",
       " 'LotFrontage',\n",
       " 'Alley',\n",
       " 'Utilities',\n",
       " 'Exterior1st',\n",
       " 'Exterior2nd',\n",
       " 'MasVnrType',\n",
       " 'MasVnrArea',\n",
       " 'BsmtQual',\n",
       " 'BsmtCond',\n",
       " 'BsmtExposure',\n",
       " 'BsmtFinType1',\n",
       " 'BsmtFinSF1',\n",
       " 'BsmtFinType2',\n",
       " 'BsmtFinSF2',\n",
       " 'BsmtUnfSF',\n",
       " 'TotalBsmtSF',\n",
       " 'BsmtFullBath',\n",
       " 'BsmtHalfBath',\n",
       " 'KitchenQual',\n",
       " 'Functional',\n",
       " 'FireplaceQu',\n",
       " 'GarageType',\n",
       " 'GarageYrBlt',\n",
       " 'GarageFinish',\n",
       " 'GarageCars',\n",
       " 'GarageArea',\n",
       " 'GarageQual',\n",
       " 'GarageCond',\n",
       " 'PoolQC',\n",
       " 'Fence',\n",
       " 'MiscFeature',\n",
       " 'SaleType']"
      ]
     },
     "execution_count": 104,
     "metadata": {},
     "output_type": "execute_result"
    }
   ],
   "source": [
    "# lets perform the same cleaning steps on the test data too\n",
    "\n",
    "check_nulls(test_data) \n"
   ]
  },
  {
   "cell_type": "code",
   "execution_count": 105,
   "metadata": {},
   "outputs": [
    {
     "data": {
      "text/html": [
       "<div>\n",
       "<style scoped>\n",
       "    .dataframe tbody tr th:only-of-type {\n",
       "        vertical-align: middle;\n",
       "    }\n",
       "\n",
       "    .dataframe tbody tr th {\n",
       "        vertical-align: top;\n",
       "    }\n",
       "\n",
       "    .dataframe thead th {\n",
       "        text-align: right;\n",
       "    }\n",
       "</style>\n",
       "<table border=\"1\" class=\"dataframe\">\n",
       "  <thead>\n",
       "    <tr style=\"text-align: right;\">\n",
       "      <th></th>\n",
       "      <th>Id</th>\n",
       "      <th>MSSubClass</th>\n",
       "      <th>MSZoning</th>\n",
       "      <th>LotArea</th>\n",
       "      <th>Street</th>\n",
       "      <th>LotShape</th>\n",
       "      <th>LandContour</th>\n",
       "      <th>Utilities</th>\n",
       "      <th>LotConfig</th>\n",
       "      <th>LandSlope</th>\n",
       "      <th>...</th>\n",
       "      <th>OpenPorchSF</th>\n",
       "      <th>EnclosedPorch</th>\n",
       "      <th>3SsnPorch</th>\n",
       "      <th>ScreenPorch</th>\n",
       "      <th>PoolArea</th>\n",
       "      <th>MiscVal</th>\n",
       "      <th>MoSold</th>\n",
       "      <th>YrSold</th>\n",
       "      <th>SaleType</th>\n",
       "      <th>SaleCondition</th>\n",
       "    </tr>\n",
       "  </thead>\n",
       "  <tbody>\n",
       "    <tr>\n",
       "      <th>0</th>\n",
       "      <td>1461</td>\n",
       "      <td>20</td>\n",
       "      <td>RH</td>\n",
       "      <td>11622</td>\n",
       "      <td>Pave</td>\n",
       "      <td>Reg</td>\n",
       "      <td>Lvl</td>\n",
       "      <td>AllPub</td>\n",
       "      <td>Inside</td>\n",
       "      <td>Gtl</td>\n",
       "      <td>...</td>\n",
       "      <td>0</td>\n",
       "      <td>0</td>\n",
       "      <td>0</td>\n",
       "      <td>120</td>\n",
       "      <td>0</td>\n",
       "      <td>0</td>\n",
       "      <td>6</td>\n",
       "      <td>2010</td>\n",
       "      <td>WD</td>\n",
       "      <td>Normal</td>\n",
       "    </tr>\n",
       "    <tr>\n",
       "      <th>1</th>\n",
       "      <td>1462</td>\n",
       "      <td>20</td>\n",
       "      <td>RL</td>\n",
       "      <td>14267</td>\n",
       "      <td>Pave</td>\n",
       "      <td>IR1</td>\n",
       "      <td>Lvl</td>\n",
       "      <td>AllPub</td>\n",
       "      <td>Corner</td>\n",
       "      <td>Gtl</td>\n",
       "      <td>...</td>\n",
       "      <td>36</td>\n",
       "      <td>0</td>\n",
       "      <td>0</td>\n",
       "      <td>0</td>\n",
       "      <td>0</td>\n",
       "      <td>12500</td>\n",
       "      <td>6</td>\n",
       "      <td>2010</td>\n",
       "      <td>WD</td>\n",
       "      <td>Normal</td>\n",
       "    </tr>\n",
       "    <tr>\n",
       "      <th>2</th>\n",
       "      <td>1463</td>\n",
       "      <td>60</td>\n",
       "      <td>RL</td>\n",
       "      <td>13830</td>\n",
       "      <td>Pave</td>\n",
       "      <td>IR1</td>\n",
       "      <td>Lvl</td>\n",
       "      <td>AllPub</td>\n",
       "      <td>Inside</td>\n",
       "      <td>Gtl</td>\n",
       "      <td>...</td>\n",
       "      <td>34</td>\n",
       "      <td>0</td>\n",
       "      <td>0</td>\n",
       "      <td>0</td>\n",
       "      <td>0</td>\n",
       "      <td>0</td>\n",
       "      <td>3</td>\n",
       "      <td>2010</td>\n",
       "      <td>WD</td>\n",
       "      <td>Normal</td>\n",
       "    </tr>\n",
       "    <tr>\n",
       "      <th>3</th>\n",
       "      <td>1464</td>\n",
       "      <td>60</td>\n",
       "      <td>RL</td>\n",
       "      <td>9978</td>\n",
       "      <td>Pave</td>\n",
       "      <td>IR1</td>\n",
       "      <td>Lvl</td>\n",
       "      <td>AllPub</td>\n",
       "      <td>Inside</td>\n",
       "      <td>Gtl</td>\n",
       "      <td>...</td>\n",
       "      <td>36</td>\n",
       "      <td>0</td>\n",
       "      <td>0</td>\n",
       "      <td>0</td>\n",
       "      <td>0</td>\n",
       "      <td>0</td>\n",
       "      <td>6</td>\n",
       "      <td>2010</td>\n",
       "      <td>WD</td>\n",
       "      <td>Normal</td>\n",
       "    </tr>\n",
       "    <tr>\n",
       "      <th>4</th>\n",
       "      <td>1465</td>\n",
       "      <td>120</td>\n",
       "      <td>RL</td>\n",
       "      <td>5005</td>\n",
       "      <td>Pave</td>\n",
       "      <td>IR1</td>\n",
       "      <td>HLS</td>\n",
       "      <td>AllPub</td>\n",
       "      <td>Inside</td>\n",
       "      <td>Gtl</td>\n",
       "      <td>...</td>\n",
       "      <td>82</td>\n",
       "      <td>0</td>\n",
       "      <td>0</td>\n",
       "      <td>144</td>\n",
       "      <td>0</td>\n",
       "      <td>0</td>\n",
       "      <td>1</td>\n",
       "      <td>2010</td>\n",
       "      <td>WD</td>\n",
       "      <td>Normal</td>\n",
       "    </tr>\n",
       "  </tbody>\n",
       "</table>\n",
       "<p>5 rows × 74 columns</p>\n",
       "</div>"
      ],
      "text/plain": [
       "     Id  MSSubClass MSZoning  LotArea Street LotShape LandContour Utilities  \\\n",
       "0  1461          20       RH    11622   Pave      Reg         Lvl    AllPub   \n",
       "1  1462          20       RL    14267   Pave      IR1         Lvl    AllPub   \n",
       "2  1463          60       RL    13830   Pave      IR1         Lvl    AllPub   \n",
       "3  1464          60       RL     9978   Pave      IR1         Lvl    AllPub   \n",
       "4  1465         120       RL     5005   Pave      IR1         HLS    AllPub   \n",
       "\n",
       "  LotConfig LandSlope  ... OpenPorchSF EnclosedPorch 3SsnPorch ScreenPorch  \\\n",
       "0    Inside       Gtl  ...           0             0         0         120   \n",
       "1    Corner       Gtl  ...          36             0         0           0   \n",
       "2    Inside       Gtl  ...          34             0         0           0   \n",
       "3    Inside       Gtl  ...          36             0         0           0   \n",
       "4    Inside       Gtl  ...          82             0         0         144   \n",
       "\n",
       "  PoolArea  MiscVal  MoSold  YrSold  SaleType SaleCondition  \n",
       "0        0        0       6    2010        WD        Normal  \n",
       "1        0    12500       6    2010        WD        Normal  \n",
       "2        0        0       3    2010        WD        Normal  \n",
       "3        0        0       6    2010        WD        Normal  \n",
       "4        0        0       1    2010        WD        Normal  \n",
       "\n",
       "[5 rows x 74 columns]"
      ]
     },
     "execution_count": 105,
     "metadata": {},
     "output_type": "execute_result"
    }
   ],
   "source": [
    "test_data = remove_nulls_cols(test_data, 0.1)\n",
    "test_data.head()"
   ]
  },
  {
   "cell_type": "code",
   "execution_count": 106,
   "metadata": {},
   "outputs": [
    {
     "data": {
      "text/plain": [
       "(1459, 74)"
      ]
     },
     "execution_count": 106,
     "metadata": {},
     "output_type": "execute_result"
    }
   ],
   "source": [
    "test_data_new = data_imput(test_data)\n",
    "test_data_new.shape"
   ]
  },
  {
   "cell_type": "code",
   "execution_count": 107,
   "metadata": {},
   "outputs": [
    {
     "name": "stdout",
     "output_type": "stream",
     "text": [
      "(1459, 36)\n"
     ]
    }
   ],
   "source": [
    "## check and remove outliers\n",
    "\n",
    "num_df = test_data.select_dtypes(include=np.number)\n",
    "print(num_df.shape)"
   ]
  },
  {
   "cell_type": "code",
   "execution_count": 108,
   "metadata": {},
   "outputs": [],
   "source": [
    "# Define a threshold for outlier detection (3 standard deviations from the mean)\n",
    "outlier_threshold = 4.5\n",
    "\n",
    "# Calculate the z-scores for the numerical columns\n",
    "z_scores = (num_df - num_df.mean()) / num_df.std(ddof=0)\n",
    "\n",
    "# Identify outlier rows in numerical columns\n",
    "outlier_rows_num = z_scores.apply(lambda x: any(x > outlier_threshold), axis=1)"
   ]
  },
  {
   "cell_type": "code",
   "execution_count": 109,
   "metadata": {},
   "outputs": [],
   "source": [
    "# Select the categorical columns in the dataset\n",
    "cat_cols = test_data.select_dtypes(include=['object']).columns\n",
    "cat_df = test_data[cat_cols]\n",
    "\n",
    "# Identify outlier rows in categorical columns\n",
    "outlier_rows_cat = cat_df.apply(lambda x: any(x == \"\"), axis=1)\n",
    "\n",
    "# Combine outlier rows from both numerical and categorical columns\n",
    "outlier_rows = outlier_rows_num | outlier_rows_cat\n"
   ]
  },
  {
   "cell_type": "code",
   "execution_count": 110,
   "metadata": {},
   "outputs": [
    {
     "name": "stdout",
     "output_type": "stream",
     "text": [
      "Number of outliers detected: Total: 159\n"
     ]
    }
   ],
   "source": [
    "# Print the number of detected outliers for each column type\n",
    "print(\"Number of outliers detected:\", f\"Total: {sum(outlier_rows)}\")"
   ]
  },
  {
   "cell_type": "code",
   "execution_count": 111,
   "metadata": {},
   "outputs": [
    {
     "data": {
      "text/plain": [
       "(1300, 74)"
      ]
     },
     "execution_count": 111,
     "metadata": {},
     "output_type": "execute_result"
    }
   ],
   "source": [
    "# Remove the outlier rows from the dataset\n",
    "test_data_clean = test_data[~outlier_rows]\n",
    "test_data_clean.shape"
   ]
  },
  {
   "cell_type": "code",
   "execution_count": 112,
   "metadata": {},
   "outputs": [
    {
     "data": {
      "text/plain": [
       "(1300, 65)"
      ]
     },
     "execution_count": 112,
     "metadata": {},
     "output_type": "execute_result"
    }
   ],
   "source": [
    "# based on high correlation I have choosen following eight columns to drop =  this are similar to the ones as train data\n",
    "\n",
    "test_data_final = test_data_clean.drop(['Exterior1st','GarageArea','GrLivArea','Exterior2nd','TotRmsAbvGrd','GarageCars','GarageCond','GarageQual', 'Id'], axis =1)\n",
    "test_data_final.shape"
   ]
  },
  {
   "cell_type": "code",
   "execution_count": 113,
   "metadata": {},
   "outputs": [
    {
     "name": "stderr",
     "output_type": "stream",
     "text": [
      "c:\\Users\\siddh\\anaconda3\\envs\\rstudio-_1\\lib\\site-packages\\ipykernel_launcher.py:4: DeprecationWarning: `np.object` is a deprecated alias for the builtin `object`. To silence this warning, use `object` by itself. Doing this will not modify any behavior and is safe. \n",
      "Deprecated in NumPy 1.20; for more details and guidance: https://numpy.org/devdocs/release/1.20.0-notes.html#deprecations\n",
      "  after removing the cwd from sys.path.\n"
     ]
    }
   ],
   "source": [
    "## dont forget the encoding part \n",
    "\n",
    "# subset all categorical variables\n",
    "cars_categorical = test_data_final.select_dtypes(include= np.object)\n",
    "cars_num = test_data_final.select_dtypes(include = np.number)\n"
   ]
  },
  {
   "cell_type": "code",
   "execution_count": 114,
   "metadata": {},
   "outputs": [
    {
     "data": {
      "text/plain": [
       "(1300, 34)"
      ]
     },
     "execution_count": 114,
     "metadata": {},
     "output_type": "execute_result"
    }
   ],
   "source": [
    "cars_categorical.shape"
   ]
  },
  {
   "cell_type": "code",
   "execution_count": 115,
   "metadata": {},
   "outputs": [
    {
     "data": {
      "text/plain": [
       "(1300, 31)"
      ]
     },
     "execution_count": 115,
     "metadata": {},
     "output_type": "execute_result"
    }
   ],
   "source": [
    "cars_num.shape"
   ]
  },
  {
   "cell_type": "code",
   "execution_count": 116,
   "metadata": {},
   "outputs": [
    {
     "data": {
      "text/html": [
       "<div>\n",
       "<style scoped>\n",
       "    .dataframe tbody tr th:only-of-type {\n",
       "        vertical-align: middle;\n",
       "    }\n",
       "\n",
       "    .dataframe tbody tr th {\n",
       "        vertical-align: top;\n",
       "    }\n",
       "\n",
       "    .dataframe thead th {\n",
       "        text-align: right;\n",
       "    }\n",
       "</style>\n",
       "<table border=\"1\" class=\"dataframe\">\n",
       "  <thead>\n",
       "    <tr style=\"text-align: right;\">\n",
       "      <th></th>\n",
       "      <th>MSZoning</th>\n",
       "      <th>Street</th>\n",
       "      <th>LotShape</th>\n",
       "      <th>LandContour</th>\n",
       "      <th>Utilities</th>\n",
       "      <th>LotConfig</th>\n",
       "      <th>LandSlope</th>\n",
       "      <th>Neighborhood</th>\n",
       "      <th>Condition1</th>\n",
       "      <th>Condition2</th>\n",
       "      <th>...</th>\n",
       "      <th>HeatingQC</th>\n",
       "      <th>CentralAir</th>\n",
       "      <th>Electrical</th>\n",
       "      <th>KitchenQual</th>\n",
       "      <th>Functional</th>\n",
       "      <th>GarageType</th>\n",
       "      <th>GarageFinish</th>\n",
       "      <th>PavedDrive</th>\n",
       "      <th>SaleType</th>\n",
       "      <th>SaleCondition</th>\n",
       "    </tr>\n",
       "  </thead>\n",
       "  <tbody>\n",
       "    <tr>\n",
       "      <th>0</th>\n",
       "      <td>2.0</td>\n",
       "      <td>1.0</td>\n",
       "      <td>3.0</td>\n",
       "      <td>3.0</td>\n",
       "      <td>0.0</td>\n",
       "      <td>4.0</td>\n",
       "      <td>0.0</td>\n",
       "      <td>12.0</td>\n",
       "      <td>1.0</td>\n",
       "      <td>2.0</td>\n",
       "      <td>...</td>\n",
       "      <td>4.0</td>\n",
       "      <td>1.0</td>\n",
       "      <td>3.0</td>\n",
       "      <td>3.0</td>\n",
       "      <td>5.0</td>\n",
       "      <td>1.0</td>\n",
       "      <td>2.0</td>\n",
       "      <td>2.0</td>\n",
       "      <td>8.0</td>\n",
       "      <td>4.0</td>\n",
       "    </tr>\n",
       "    <tr>\n",
       "      <th>1</th>\n",
       "      <td>3.0</td>\n",
       "      <td>1.0</td>\n",
       "      <td>0.0</td>\n",
       "      <td>3.0</td>\n",
       "      <td>0.0</td>\n",
       "      <td>4.0</td>\n",
       "      <td>0.0</td>\n",
       "      <td>8.0</td>\n",
       "      <td>2.0</td>\n",
       "      <td>2.0</td>\n",
       "      <td>...</td>\n",
       "      <td>2.0</td>\n",
       "      <td>1.0</td>\n",
       "      <td>3.0</td>\n",
       "      <td>3.0</td>\n",
       "      <td>5.0</td>\n",
       "      <td>1.0</td>\n",
       "      <td>0.0</td>\n",
       "      <td>2.0</td>\n",
       "      <td>8.0</td>\n",
       "      <td>4.0</td>\n",
       "    </tr>\n",
       "    <tr>\n",
       "      <th>2</th>\n",
       "      <td>3.0</td>\n",
       "      <td>1.0</td>\n",
       "      <td>0.0</td>\n",
       "      <td>3.0</td>\n",
       "      <td>0.0</td>\n",
       "      <td>4.0</td>\n",
       "      <td>0.0</td>\n",
       "      <td>8.0</td>\n",
       "      <td>2.0</td>\n",
       "      <td>2.0</td>\n",
       "      <td>...</td>\n",
       "      <td>0.0</td>\n",
       "      <td>1.0</td>\n",
       "      <td>3.0</td>\n",
       "      <td>2.0</td>\n",
       "      <td>5.0</td>\n",
       "      <td>1.0</td>\n",
       "      <td>0.0</td>\n",
       "      <td>2.0</td>\n",
       "      <td>8.0</td>\n",
       "      <td>4.0</td>\n",
       "    </tr>\n",
       "    <tr>\n",
       "      <th>3</th>\n",
       "      <td>3.0</td>\n",
       "      <td>1.0</td>\n",
       "      <td>0.0</td>\n",
       "      <td>1.0</td>\n",
       "      <td>0.0</td>\n",
       "      <td>4.0</td>\n",
       "      <td>0.0</td>\n",
       "      <td>22.0</td>\n",
       "      <td>2.0</td>\n",
       "      <td>2.0</td>\n",
       "      <td>...</td>\n",
       "      <td>0.0</td>\n",
       "      <td>1.0</td>\n",
       "      <td>3.0</td>\n",
       "      <td>2.0</td>\n",
       "      <td>5.0</td>\n",
       "      <td>1.0</td>\n",
       "      <td>1.0</td>\n",
       "      <td>2.0</td>\n",
       "      <td>8.0</td>\n",
       "      <td>4.0</td>\n",
       "    </tr>\n",
       "    <tr>\n",
       "      <th>4</th>\n",
       "      <td>3.0</td>\n",
       "      <td>1.0</td>\n",
       "      <td>0.0</td>\n",
       "      <td>3.0</td>\n",
       "      <td>0.0</td>\n",
       "      <td>0.0</td>\n",
       "      <td>0.0</td>\n",
       "      <td>8.0</td>\n",
       "      <td>2.0</td>\n",
       "      <td>2.0</td>\n",
       "      <td>...</td>\n",
       "      <td>2.0</td>\n",
       "      <td>1.0</td>\n",
       "      <td>3.0</td>\n",
       "      <td>3.0</td>\n",
       "      <td>5.0</td>\n",
       "      <td>1.0</td>\n",
       "      <td>0.0</td>\n",
       "      <td>2.0</td>\n",
       "      <td>8.0</td>\n",
       "      <td>4.0</td>\n",
       "    </tr>\n",
       "  </tbody>\n",
       "</table>\n",
       "<p>5 rows × 34 columns</p>\n",
       "</div>"
      ],
      "text/plain": [
       "   MSZoning  Street  LotShape  LandContour  Utilities  LotConfig  LandSlope  \\\n",
       "0       2.0     1.0       3.0          3.0        0.0        4.0        0.0   \n",
       "1       3.0     1.0       0.0          3.0        0.0        4.0        0.0   \n",
       "2       3.0     1.0       0.0          3.0        0.0        4.0        0.0   \n",
       "3       3.0     1.0       0.0          1.0        0.0        4.0        0.0   \n",
       "4       3.0     1.0       0.0          3.0        0.0        0.0        0.0   \n",
       "\n",
       "   Neighborhood  Condition1  Condition2  ...  HeatingQC  CentralAir  \\\n",
       "0          12.0         1.0         2.0  ...        4.0         1.0   \n",
       "1           8.0         2.0         2.0  ...        2.0         1.0   \n",
       "2           8.0         2.0         2.0  ...        0.0         1.0   \n",
       "3          22.0         2.0         2.0  ...        0.0         1.0   \n",
       "4           8.0         2.0         2.0  ...        2.0         1.0   \n",
       "\n",
       "   Electrical  KitchenQual  Functional  GarageType  GarageFinish  PavedDrive  \\\n",
       "0         3.0          3.0         5.0         1.0           2.0         2.0   \n",
       "1         3.0          3.0         5.0         1.0           0.0         2.0   \n",
       "2         3.0          2.0         5.0         1.0           0.0         2.0   \n",
       "3         3.0          2.0         5.0         1.0           1.0         2.0   \n",
       "4         3.0          3.0         5.0         1.0           0.0         2.0   \n",
       "\n",
       "   SaleType  SaleCondition  \n",
       "0       8.0            4.0  \n",
       "1       8.0            4.0  \n",
       "2       8.0            4.0  \n",
       "3       8.0            4.0  \n",
       "4       8.0            4.0  \n",
       "\n",
       "[5 rows x 34 columns]"
      ]
     },
     "execution_count": 116,
     "metadata": {},
     "output_type": "execute_result"
    }
   ],
   "source": [
    "cat_cols = cars_categorical.columns.tolist()\n",
    "encoding.fit(cars_categorical[cat_cols])\n",
    "cat_en = encoding.transform(cars_categorical[cat_cols])\n",
    "cat_en=pd.DataFrame(cat_en,columns=cat_cols)\n",
    "cars_categorical.reset_index(inplace=True,drop=True)\n",
    "cat_en.head()\n"
   ]
  },
  {
   "cell_type": "code",
   "execution_count": 117,
   "metadata": {},
   "outputs": [],
   "source": [
    "cars_num.reset_index(inplace=True,drop=True)\n",
    "cat_en.reset_index(inplace=True,drop=True)"
   ]
  },
  {
   "cell_type": "code",
   "execution_count": 118,
   "metadata": {},
   "outputs": [
    {
     "data": {
      "text/plain": [
       "(1300, 65)"
      ]
     },
     "execution_count": 118,
     "metadata": {},
     "output_type": "execute_result"
    }
   ],
   "source": [
    "final_test_data = pd.concat([cars_num,cat_en],axis=1)\n",
    "final_test_data.shape"
   ]
  },
  {
   "cell_type": "code",
   "execution_count": 119,
   "metadata": {},
   "outputs": [],
   "source": [
    "## now, based on the above analysis, we will be choosing gb model to make price predictions on the test data\n",
    "\n",
    "# Load the trained GBM model\n",
    "gbm_model = joblib.load('gb_reg_model.pkl')"
   ]
  },
  {
   "cell_type": "code",
   "execution_count": 120,
   "metadata": {},
   "outputs": [
    {
     "name": "stderr",
     "output_type": "stream",
     "text": [
      "c:\\Users\\siddh\\anaconda3\\envs\\rstudio-_1\\lib\\site-packages\\sklearn\\base.py:444: UserWarning: X has feature names, but GradientBoostingRegressor was fitted without feature names\n",
      "  f\"X has feature names, but {self.__class__.__name__} was fitted without\"\n"
     ]
    }
   ],
   "source": [
    "# lets make predcitions on the model first\n",
    "# Perform the prediction\n",
    "test_prediction_final_model = gbm_model.predict(final_test_data)"
   ]
  },
  {
   "cell_type": "code",
   "execution_count": 121,
   "metadata": {},
   "outputs": [],
   "source": [
    "# Create a DataFrame with the predictions\n",
    "results_df = pd.DataFrame(test_prediction_final_model, columns=['Prediction'])"
   ]
  },
  {
   "cell_type": "code",
   "execution_count": 122,
   "metadata": {},
   "outputs": [
    {
     "data": {
      "text/html": [
       "<div>\n",
       "<style scoped>\n",
       "    .dataframe tbody tr th:only-of-type {\n",
       "        vertical-align: middle;\n",
       "    }\n",
       "\n",
       "    .dataframe tbody tr th {\n",
       "        vertical-align: top;\n",
       "    }\n",
       "\n",
       "    .dataframe thead th {\n",
       "        text-align: right;\n",
       "    }\n",
       "</style>\n",
       "<table border=\"1\" class=\"dataframe\">\n",
       "  <thead>\n",
       "    <tr style=\"text-align: right;\">\n",
       "      <th></th>\n",
       "      <th>Prediction</th>\n",
       "    </tr>\n",
       "  </thead>\n",
       "  <tbody>\n",
       "    <tr>\n",
       "      <th>0</th>\n",
       "      <td>418876.581625</td>\n",
       "    </tr>\n",
       "    <tr>\n",
       "      <th>1</th>\n",
       "      <td>495988.728670</td>\n",
       "    </tr>\n",
       "    <tr>\n",
       "      <th>2</th>\n",
       "      <td>512821.337886</td>\n",
       "    </tr>\n",
       "    <tr>\n",
       "      <th>3</th>\n",
       "      <td>444047.274409</td>\n",
       "    </tr>\n",
       "    <tr>\n",
       "      <th>4</th>\n",
       "      <td>467908.723584</td>\n",
       "    </tr>\n",
       "  </tbody>\n",
       "</table>\n",
       "</div>"
      ],
      "text/plain": [
       "      Prediction\n",
       "0  418876.581625\n",
       "1  495988.728670\n",
       "2  512821.337886\n",
       "3  444047.274409\n",
       "4  467908.723584"
      ]
     },
     "execution_count": 122,
     "metadata": {},
     "output_type": "execute_result"
    }
   ],
   "source": [
    "results_df.head()"
   ]
  },
  {
   "cell_type": "code",
   "execution_count": 123,
   "metadata": {},
   "outputs": [],
   "source": [
    "# Save the results to a CSV file\n",
    "results_df.to_csv('housing_test_results.csv', index=False)"
   ]
  },
  {
   "cell_type": "code",
   "execution_count": null,
   "metadata": {},
   "outputs": [],
   "source": []
  }
 ],
 "metadata": {
  "colab": {
   "provenance": []
  },
  "kernelspec": {
   "display_name": "Python 3 (ipykernel)",
   "language": "python",
   "name": "python3"
  },
  "language_info": {
   "codemirror_mode": {
    "name": "ipython",
    "version": 3
   },
   "file_extension": ".py",
   "mimetype": "text/x-python",
   "name": "python",
   "nbconvert_exporter": "python",
   "pygments_lexer": "ipython3",
   "version": "3.7.1"
  }
 },
 "nbformat": 4,
 "nbformat_minor": 1
}
